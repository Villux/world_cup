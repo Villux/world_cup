{
 "cells": [
  {
   "cell_type": "code",
   "execution_count": 3,
   "metadata": {},
   "outputs": [],
   "source": [
    "import numpy as np\n",
    "import pandas as pd\n",
    "from sklearn.ensemble import RandomForestClassifier\n",
    "from sklearn.model_selection import cross_val_score\n",
    "from sklearn import decomposition\n",
    "from sklearn import datasets, linear_model\n",
    "from sklearn.neural_network import MLPRegressor\n",
    "from sklearn.neighbors import KNeighborsClassifier\n",
    "from sklearn.preprocessing import PolynomialFeatures\n",
    "from sklearn.pipeline import make_pipeline\n",
    "from sklearn.metrics import explained_variance_score, classification_report, r2_score, accuracy_score\n",
    "\n",
    "import matplotlib.pyplot as plt\n",
    "%matplotlib inline"
   ]
  },
  {
   "cell_type": "code",
   "execution_count": 4,
   "metadata": {
    "scrolled": true
   },
   "outputs": [
    {
     "name": "stdout",
     "output_type": "stream",
     "text": [
      "Index(['date', 'away_team', 'home_team', 'home_score', 'away_score',\n",
      "       'tournament', 'city', 'country', 'neutral', 'score_difference',\n",
      "       'home_score_difference_lag', 'home_avg_goal_diff',\n",
      "       'away_score_difference_lag', 'away_avg_goal_diff', 'home_win',\n",
      "       'wc_home_wins', 'wc_away_wins', 'home_rank', 'home_country_abrv',\n",
      "       'home_total_points', 'home_previous_points', 'home_rank_change',\n",
      "       'home_cur_year_avg', 'home_cur_year_avg_weighted', 'home_last_year_avg',\n",
      "       'home_last_year_avg_weighted', 'home_two_year_ago_avg',\n",
      "       'home_two_year_ago_weighted', 'home_three_year_ago_avg',\n",
      "       'home_three_year_ago_weighted', 'home_confederation', 'away_rank',\n",
      "       'away_country_abrv', 'away_total_points', 'away_previous_points',\n",
      "       'away_rank_change', 'away_cur_year_avg', 'away_cur_year_avg_weighted',\n",
      "       'away_last_year_avg', 'away_last_year_avg_weighted',\n",
      "       'away_two_year_ago_avg', 'away_two_year_ago_weighted',\n",
      "       'away_three_year_ago_avg', 'away_three_year_ago_weighted',\n",
      "       'away_confederation', 'rank_diff', 'rank_diff_avg'],\n",
      "      dtype='object')\n"
     ]
    }
   ],
   "source": [
    "rankings = pd.read_csv('dataset.csv')\n",
    "rankings = rankings.drop(['Unnamed: 0'], axis=1)\n",
    "rankings.head()\n",
    "print(rankings.columns)"
   ]
  },
  {
   "cell_type": "code",
   "execution_count": 42,
   "metadata": {},
   "outputs": [],
   "source": [
    "feature_columns_classification = [\"home_score_difference_lag\", \"away_score_difference_lag\",\n",
    "                    \"home_avg_goal_diff\", \"away_avg_goal_diff\",\"rank_diff\"]"
   ]
  },
  {
   "cell_type": "code",
   "execution_count": null,
   "metadata": {},
   "outputs": [],
   "source": []
  },
  {
   "cell_type": "code",
   "execution_count": 43,
   "metadata": {},
   "outputs": [
    {
     "name": "stdout",
     "output_type": "stream",
     "text": [
      "10533\n",
      "473\n"
     ]
    }
   ],
   "source": [
    "#Classification data\n",
    "Xtrain = rankings[(rankings['date'] < '2017-01-01')]\n",
    "ytrain = Xtrain[\"home_win\"]\n",
    "Xtrain = Xtrain[feature_columns_classification]\n",
    "\n",
    "Xtest = rankings[(rankings['date'] >= '2017-01-01')]\n",
    "ytest = Xtest[\"home_win\"]\n",
    "Xtest = Xtest[feature_columns_classification]\n",
    "\n",
    "print(len(Xtrain))\n",
    "print(len(Xtest))"
   ]
  },
  {
   "cell_type": "code",
   "execution_count": 7,
   "metadata": {},
   "outputs": [
    {
     "name": "stdout",
     "output_type": "stream",
     "text": [
      "[ 0.08282102  0.08173847  0.16168425  0.17501236  0.4987439 ]\n",
      "0.5919661733615222\n"
     ]
    }
   ],
   "source": [
    "rfc = RandomForestClassifier(max_depth=10, random_state=0)\n",
    "rfc.fit(Xtrain, ytrain)\n",
    "print(rfc.feature_importances_)\n",
    "\n",
    "y_rfc = rfc.predict(Xtest)\n",
    "print(sum(y_rfc == ytest) / len(Xtest))"
   ]
  },
  {
   "cell_type": "code",
   "execution_count": 46,
   "metadata": {},
   "outputs": [
    {
     "name": "stdout",
     "output_type": "stream",
     "text": [
      "0.6046511627906976\n"
     ]
    }
   ],
   "source": [
    "knn = KNeighborsClassifier(n_neighbors=100)\n",
    "knn.fit(Xtrain, ytrain) \n",
    "\n",
    "y_knn = knn.predict(Xtest)\n",
    "y_knn_prob = knn.predict_proba(Xtest)\n",
    "print(sum(y_knn == ytest) / len(Xtest))"
   ]
  },
  {
   "cell_type": "code",
   "execution_count": 44,
   "metadata": {},
   "outputs": [
    {
     "name": "stdout",
     "output_type": "stream",
     "text": [
      "0.6004228329809725\n"
     ]
    }
   ],
   "source": [
    "knn_poly = make_pipeline(PolynomialFeatures(3), KNeighborsClassifier(n_neighbors=1000))\n",
    "knn_poly.fit(Xtrain, ytrain)\n",
    "y_knn2 = knn_poly.predict(Xtest)\n",
    "print(sum(y_knn2 == ytest) / len(Xtest))"
   ]
  },
  {
   "cell_type": "code",
   "execution_count": 10,
   "metadata": {},
   "outputs": [
    {
     "name": "stdout",
     "output_type": "stream",
     "text": [
      "10533\n",
      "473\n"
     ]
    }
   ],
   "source": [
    "# Regression data\n",
    "Xtrain = rankings[(rankings['date'] < '2017-01-01')]\n",
    "ytrain = Xtrain[\"home_score\"]\n",
    "Xtrain = Xtrain[feature_columns_classification]\n",
    "\n",
    "Xtest = rankings[(rankings['date'] >= '2017-01-01')]\n",
    "ytest = Xtest[\"home_score\"]\n",
    "Xtest = Xtest[feature_columns_classification]\n",
    "\n",
    "print(len(Xtrain))\n",
    "print(len(Xtest))"
   ]
  },
  {
   "cell_type": "code",
   "execution_count": 11,
   "metadata": {},
   "outputs": [
    {
     "name": "stdout",
     "output_type": "stream",
     "text": [
      "-1.59034147855\n",
      "0.274131132444\n",
      "0.34460887949260044\n"
     ]
    }
   ],
   "source": [
    "regr = linear_model.LinearRegression()\n",
    "\n",
    "# Train the model using the training sets\n",
    "regr.fit(Xtrain, ytrain)\n",
    "y_regr = regr.predict(Xtest)\n",
    "\n",
    "print(explained_variance_score(y_regr, ytest))\n",
    "print(r2_score(ytest, y_regr))\n",
    "print(sum(np.around(y_regr) == ytest) / len(Xtest))"
   ]
  },
  {
   "cell_type": "code",
   "execution_count": 69,
   "metadata": {},
   "outputs": [],
   "source": [
    "feature_columns_statsmodels = [\"home_score\", \"away_score\", \"home_score_difference_lag\", \"away_score_difference_lag\",\n",
    "                    \"home_avg_goal_diff\", \"away_avg_goal_diff\",\"rank_diff\"]\n",
    "\n",
    "# Regression data\n",
    "Xtrain = rankings[(rankings['date'] < '2017-01-01')]\n",
    "ytrain = Xtrain[\"home_score\"]\n",
    "Xtrain = Xtrain[feature_columns_statsmodels]\n",
    "\n",
    "Xtest = rankings[(rankings['date'] >= '2017-01-01')]\n",
    "ytest = Xtest[\"home_score\"]\n",
    "Xtest = Xtest[feature_columns_statsmodels]"
   ]
  },
  {
   "cell_type": "code",
   "execution_count": 48,
   "metadata": {},
   "outputs": [
    {
     "name": "stdout",
     "output_type": "stream",
     "text": [
      "0.346723044397463\n",
      "0.2832980972515856\n"
     ]
    }
   ],
   "source": [
    "# importing the tools required for the Poisson regression model\n",
    "import statsmodels.api as sm\n",
    "import statsmodels.formula.api as smf\n",
    "from scipy.stats import poisson\n",
    "\n",
    "\n",
    "poisson_model_home = smf.glm(formula=\"home_score ~ home_score_difference_lag + away_score_difference_lag + home_avg_goal_diff + away_avg_goal_diff + rank_diff\",\n",
    "                        data=Xtrain,\n",
    "                        family=sm.families.Poisson()).fit()\n",
    "\n",
    "y_poisson_home = poisson_model_home.predict(Xtest)\n",
    "print(sum(np.around(y_poisson_home) == ytest) / len(Xtest))\n",
    "\n",
    "\n",
    "poisson_model_away = smf.glm(formula=\"away_score ~ home_score_difference_lag + away_score_difference_lag + home_avg_goal_diff + away_avg_goal_diff + rank_diff\",\n",
    "                        data=Xtrain,\n",
    "                        family=sm.families.Poisson()).fit()\n",
    "\n",
    "y_poisson_away = poisson_model_away.predict(Xtest)\n",
    "print(sum(np.around(y_poisson_away) == ytest) / len(Xtest))"
   ]
  },
  {
   "cell_type": "code",
   "execution_count": 54,
   "metadata": {},
   "outputs": [
    {
     "name": "stdout",
     "output_type": "stream",
     "text": [
      "AVG home goal 1.56597375229\n",
      "WIN 0.469357666824\n",
      "DRAW 0.253513924567\n",
      "LOSE 0.192736219254\n",
      "[ 0.25  0.31  0.44]\n",
      "1\n"
     ]
    }
   ],
   "source": [
    "team_pred = [[poisson.pmf(i, team_avg) for i in range(0, 4)] for team_avg in [y_poisson_home.iloc[-1], y_poisson_away.iloc[-1]]]\n",
    "print(\"AVG home goal\", y_poisson.iloc[-1])\n",
    "goal_matrix = np.outer(np.array(team_pred[0]), np.array(team_pred[1]))\n",
    "\n",
    "print(\"WIN\", np.sum(np.tril(goal_matrix, -1)))\n",
    "print(\"DRAW\", np.sum(np.diag(goal_matrix)))\n",
    "print(\"LOSE\", np.sum(np.triu(goal_matrix, 1)))\n",
    "print(y_knn_prob[-1])\n",
    "print(y_knn[-1])"
   ]
  },
  {
   "cell_type": "code",
   "execution_count": 83,
   "metadata": {},
   "outputs": [
    {
     "name": "stdout",
     "output_type": "stream",
     "text": [
      "[ 0.08951706  0.118783    0.03940422  0.00580963]\n"
     ]
    }
   ],
   "source": [
    "print(np.diag(goal_matrix))\n",
    "\n",
    "a = np.tril(goal_matrix, -1)\n",
    "home_goals, away_goals = np.unravel_index(a.argmax(), a.shape)"
   ]
  },
  {
   "cell_type": "code",
   "execution_count": 101,
   "metadata": {},
   "outputs": [],
   "source": [
    "dummyTest = Xtest.iloc[-10:]\n",
    "\n",
    "game_winner = knn.predict(dummyTest.drop(['home_score', 'away_score'], axis=1))\n",
    "\n",
    "game_predictions = []\n",
    "\n",
    "i = 0\n",
    "for index, row in dummyTest.iterrows():\n",
    "    home_goals = poisson_model_home.predict(row)\n",
    "    away_goals = poisson_model_away.predict(row)\n",
    "    team_pred = [[poisson.pmf(idx, team_avg) for idx in range(0, 4)] for team_avg in [home_goals, away_goals]]\n",
    "    goal_matrix = np.outer(np.array(team_pred[0]), np.array(team_pred[1]))\n",
    "    if game_winner[i] == 1:\n",
    "        a = np.tril(goal_matrix, -1)\n",
    "        home_goals, away_goals = np.unravel_index(a.argmax(), a.shape)\n",
    "    elif game_winner[i] == 0:\n",
    "        a = np.diag(goal_matrix)\n",
    "        home_goals, away_goals = a.argmax() + 1, a.argmax() + 1\n",
    "    else:\n",
    "        a = np.triu(goal_matrix, 1)\n",
    "        home_goals, away_goals = np.unravel_index(a.argmax(), a.shape)\n",
    "\n",
    "    game_predictions.append([home_goals, away_goals])\n",
    "    i += 1\n"
   ]
  },
  {
   "cell_type": "code",
   "execution_count": 112,
   "metadata": {},
   "outputs": [
    {
     "name": "stdout",
     "output_type": "stream",
     "text": [
      "   home_score  away_score\n",
      "0           0           1\n",
      "1           3           0\n",
      "2           2           0\n",
      "3           1           0\n",
      "4           3           0\n",
      "5           1           0\n",
      "6           0           1\n",
      "7           1           0\n",
      "8           1           0\n",
      "9           1           0\n",
      "       home_score  away_score\n",
      "10996           1           2\n",
      "10997           7           0\n",
      "10998           2           1\n",
      "10999           2           0\n",
      "11000           2           1\n",
      "11001           2           1\n",
      "11002           1           0\n",
      "11003           2           1\n",
      "11004           4           0\n",
      "11005           1           1\n"
     ]
    }
   ],
   "source": [
    "print(pd.DataFrame(game_predictions, columns=[\"home_score\", \"away_score\"]))\n",
    "print(Xtest[[\"home_score\", \"away_score\"]].iloc[-10:])"
   ]
  },
  {
   "cell_type": "code",
   "execution_count": 49,
   "metadata": {},
   "outputs": [
    {
     "name": "stdout",
     "output_type": "stream",
     "text": [
      "___Starting group C:___\n",
      "> <ipython-input-49-88e9bfa21f48>(14)<module>()\n",
      "-> print(\"{} vs. {}: \".format(home, away), end='')\n",
      "(Pdb) home\n",
      "'France'\n",
      "(Pdb) away\n",
      "'Australia'\n",
      "(Pdb) c\n",
      "France vs. Australia: "
     ]
    },
    {
     "ename": "NameError",
     "evalue": "name 'world_cup_rankings' is not defined",
     "output_type": "error",
     "traceback": [
      "\u001b[0;31m---------------------------------------------------------------------------\u001b[0m",
      "\u001b[0;31mNameError\u001b[0m                                 Traceback (most recent call last)",
      "\u001b[0;32m<ipython-input-49-88e9bfa21f48>\u001b[0m in \u001b[0;36m<module>\u001b[0;34m()\u001b[0m\n\u001b[1;32m     12\u001b[0m     \u001b[0;32mfor\u001b[0m \u001b[0mhome\u001b[0m\u001b[0;34m,\u001b[0m \u001b[0maway\u001b[0m \u001b[0;32min\u001b[0m \u001b[0mcombinations\u001b[0m\u001b[0;34m(\u001b[0m\u001b[0mworld_cup\u001b[0m\u001b[0;34m.\u001b[0m\u001b[0mquery\u001b[0m\u001b[0;34m(\u001b[0m\u001b[0;34m'Group == \"{}\"'\u001b[0m\u001b[0;34m.\u001b[0m\u001b[0mformat\u001b[0m\u001b[0;34m(\u001b[0m\u001b[0mgroup\u001b[0m\u001b[0;34m)\u001b[0m\u001b[0;34m)\u001b[0m\u001b[0;34m.\u001b[0m\u001b[0mTeam\u001b[0m\u001b[0;34m,\u001b[0m \u001b[0;36m2\u001b[0m\u001b[0;34m)\u001b[0m\u001b[0;34m:\u001b[0m\u001b[0;34m\u001b[0m\u001b[0m\n\u001b[1;32m     13\u001b[0m         \u001b[0;32mimport\u001b[0m \u001b[0mpdb\u001b[0m\u001b[0;34m;\u001b[0m \u001b[0mpdb\u001b[0m\u001b[0;34m.\u001b[0m\u001b[0mset_trace\u001b[0m\u001b[0;34m(\u001b[0m\u001b[0;34m)\u001b[0m\u001b[0;34m\u001b[0m\u001b[0m\n\u001b[0;32m---> 14\u001b[0;31m         \u001b[0mprint\u001b[0m\u001b[0;34m(\u001b[0m\u001b[0;34m\"{} vs. {}: \"\u001b[0m\u001b[0;34m.\u001b[0m\u001b[0mformat\u001b[0m\u001b[0;34m(\u001b[0m\u001b[0mhome\u001b[0m\u001b[0;34m,\u001b[0m \u001b[0maway\u001b[0m\u001b[0;34m)\u001b[0m\u001b[0;34m,\u001b[0m \u001b[0mend\u001b[0m\u001b[0;34m=\u001b[0m\u001b[0;34m''\u001b[0m\u001b[0;34m)\u001b[0m\u001b[0;34m\u001b[0m\u001b[0m\n\u001b[0m\u001b[1;32m     15\u001b[0m         \u001b[0mrow\u001b[0m \u001b[0;34m=\u001b[0m \u001b[0mpd\u001b[0m\u001b[0;34m.\u001b[0m\u001b[0mDataFrame\u001b[0m\u001b[0;34m(\u001b[0m\u001b[0mnp\u001b[0m\u001b[0;34m.\u001b[0m\u001b[0marray\u001b[0m\u001b[0;34m(\u001b[0m\u001b[0;34m[\u001b[0m\u001b[0;34m[\u001b[0m\u001b[0mnp\u001b[0m\u001b[0;34m.\u001b[0m\u001b[0mnan\u001b[0m\u001b[0;34m]\u001b[0m \u001b[0;34m*\u001b[0m \u001b[0mlen\u001b[0m\u001b[0;34m(\u001b[0m\u001b[0mfeature_columns\u001b[0m\u001b[0;34m)\u001b[0m\u001b[0;34m]\u001b[0m\u001b[0;34m)\u001b[0m\u001b[0;34m,\u001b[0m \u001b[0mcolumns\u001b[0m\u001b[0;34m=\u001b[0m\u001b[0mfeature_columns\u001b[0m\u001b[0;34m)\u001b[0m\u001b[0;34m\u001b[0m\u001b[0m\n\u001b[1;32m     16\u001b[0m         \u001b[0mrow\u001b[0m\u001b[0;34m[\u001b[0m\u001b[0;34m'rank_home'\u001b[0m\u001b[0;34m]\u001b[0m \u001b[0;34m=\u001b[0m \u001b[0mworld_cup_rankings\u001b[0m\u001b[0;34m.\u001b[0m\u001b[0mloc\u001b[0m\u001b[0;34m[\u001b[0m\u001b[0mhome\u001b[0m\u001b[0;34m,\u001b[0m \u001b[0;34m'rank'\u001b[0m\u001b[0;34m]\u001b[0m\u001b[0;34m\u001b[0m\u001b[0m\n",
      "\u001b[0;31mNameError\u001b[0m: name 'world_cup_rankings' is not defined"
     ]
    }
   ],
   "source": [
    "from itertools import combinations\n",
    "\n",
    "opponents = ['First match \\nagainst', 'Second match\\n against', 'Third match\\n against']\n",
    "\n",
    "\n",
    "\n",
    "world_cup['points'] = 0\n",
    "world_cup['total_prob'] = 0\n",
    "\n",
    "for group in set(world_cup['Group']):\n",
    "    print('___Starting group {}:___'.format(group))\n",
    "    for home, away in combinations(world_cup.query('Group == \"{}\"'.format(group)).Team, 2):\n",
    "        import pdb; pdb.set_trace()\n",
    "        print(\"{} vs. {}: \".format(home, away), end='')\n",
    "        row = pd.DataFrame(np.array([[np.nan] * len(feature_columns)]), columns=feature_columns)\n",
    "        row['rank_home'] = world_cup_rankings.loc[home, 'rank']\n",
    "        home_points = world_cup_rankings.loc[home, 'cur_year_avg']\n",
    "        opp_rank = world_cup_rankings.loc[away, 'rank']\n",
    "        opp_points = world_cup_rankings.loc[away, 'cur_year_avg']\n",
    "        row['rank_difference'] = row['rank_home'] - opp_rank\n",
    "        row['point_difference'] = home_points - opp_points\n",
    "        \n",
    "        home_win_prob = model.predict_proba(row)[:,1][0]\n",
    "        world_cup.loc[home, 'total_prob'] += home_win_prob\n",
    "        world_cup.loc[away, 'total_prob'] += 1-home_win_prob\n",
    "        \n",
    "        points = 0\n",
    "        if home_win_prob <= 0.5 - margin:\n",
    "            print(\"{} wins with {:.2f}\".format(away, 1-home_win_prob))\n",
    "            world_cup.loc[away, 'points'] += 3\n",
    "        if home_win_prob > 0.5 - margin:\n",
    "            points = 1\n",
    "        if home_win_prob >= 0.5 + margin:\n",
    "            points = 3\n",
    "            world_cup.loc[home, 'points'] += 3\n",
    "            print(\"{} wins with {:.2f}\".format(home, home_win_prob))\n",
    "        if points == 1:\n",
    "            print(\"Draw\")\n",
    "            world_cup.loc[home, 'points'] += 1\n",
    "            world_cup.loc[away, 'points'] += 1"
   ]
  },
  {
   "cell_type": "code",
   "execution_count": null,
   "metadata": {},
   "outputs": [],
   "source": []
  }
 ],
 "metadata": {
  "kernelspec": {
   "display_name": "Python 3",
   "language": "python",
   "name": "python3"
  },
  "language_info": {
   "codemirror_mode": {
    "name": "ipython",
    "version": 3
   },
   "file_extension": ".py",
   "mimetype": "text/x-python",
   "name": "python",
   "nbconvert_exporter": "python",
   "pygments_lexer": "ipython3",
   "version": "3.6.5"
  }
 },
 "nbformat": 4,
 "nbformat_minor": 2
}
