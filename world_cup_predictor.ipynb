{
 "cells": [
  {
   "cell_type": "code",
   "execution_count": 1,
   "metadata": {
    "collapsed": true
   },
   "outputs": [],
   "source": [
    "import functools\n",
    "import numpy as np\n",
    "import pandas as pd\n",
    "import random\n",
    "from time import time\n",
    "from scipy.stats import randint as sp_randint\n",
    "\n",
    "from sklearn.model_selection import cross_val_score\n",
    "from sklearn.ensemble import RandomForestClassifier\n",
    "from sklearn.pipeline import Pipeline\n",
    "from sklearn.metrics import classification_report\n",
    "from sklearn.model_selection import train_test_split, RandomizedSearchCV, GridSearchCV\n",
    "from sklearn import preprocessing\n",
    "\n",
    "import matplotlib.pyplot as plt\n",
    "from IPython.display import set_matplotlib_formats\n",
    "set_matplotlib_formats('svg')\n",
    "%matplotlib inline\n",
    "plt.style.use('ggplot')\n",
    "\n",
    "from simulation.simulation import run_simulation\n",
    "from features.data_provider import get_train_test_wc_dataset, get_feature_columns, get_whole_dataset"
   ]
  },
  {
   "cell_type": "code",
   "execution_count": null,
   "metadata": {
    "collapsed": true
   },
   "outputs": [],
   "source": []
  },
  {
   "cell_type": "code",
   "execution_count": 2,
   "metadata": {
    "scrolled": false
   },
   "outputs": [
    {
     "name": "stdout",
     "output_type": "stream",
     "text": [
      "Dataset length 39008\n",
      "Dataset complete cases length 6676\n",
      "Whole train set length:  5601\n",
      "Whole test set length:  1075\n",
      "Whole WC set length:  128\n"
     ]
    }
   ],
   "source": [
    "X_train, y_train, X_test, y_test, X_wc, y_wc = get_train_test_wc_dataset(\"home_win\")"
   ]
  },
  {
   "cell_type": "code",
   "execution_count": 3,
   "metadata": {},
   "outputs": [
    {
     "data": {
      "text/plain": [
       "<matplotlib.axes._subplots.AxesSubplot at 0x112abdc88>"
      ]
     },
     "execution_count": 3,
     "metadata": {},
     "output_type": "execute_result"
    },
    {
     "data": {
      "text/plain": [
       "<Figure size 1440x432 with 0 Axes>"
      ]
     },
     "metadata": {},
     "output_type": "display_data"
    },
    {
     "data": {
      "image/png": "[encoded data removed]",
      "text/plain": [
       "<Figure size 864x288 with 3 Axes>"
      ]
     },
     "metadata": {},
     "output_type": "display_data"
    }
   ],
   "source": [
    "def get_labeled_df(s):\n",
    "    df = pd.DataFrame(s)\n",
    "    df[df[\"home_win\"] == 1] = \"Win\"\n",
    "    df[df[\"home_win\"] == 0] = \"Draw\"\n",
    "    df[df[\"home_win\"] == -1] = \"Lose\"\n",
    "    return df\n",
    "\n",
    "plt.figure(figsize=(20, 6))\n",
    "fig, axes = plt.subplots(nrows=1, ncols=3, figsize=(12, 4))\n",
    "pd.value_counts(get_labeled_df(y_train)[\"home_win\"]).plot.bar(ax=axes[0])\n",
    "pd.value_counts(get_labeled_df(y_test)[\"home_win\"]).plot.bar(ax=axes[1])\n",
    "pd.value_counts(get_labeled_df(y_wc)[\"home_win\"]).plot.bar(ax=axes[2])"
   ]
  },
  {
   "cell_type": "code",
   "execution_count": 4,
   "metadata": {
    "collapsed": true,
    "scrolled": false
   },
   "outputs": [],
   "source": [
    "#plt.figure(figsize=(10,10))\n",
    "#plt.matshow(X_train.corr(), fignum=1)\n",
    "#X_train.corr()"
   ]
  },
  {
   "cell_type": "code",
   "execution_count": 5,
   "metadata": {
    "collapsed": true
   },
   "outputs": [],
   "source": [
    "def get_feature_importance(clf):\n",
    "    zipped = sorted(zip(get_feature_columns(), clf.feature_importances_), key = lambda t: t[1], reverse=True)\n",
    "    for feature, importance in zipped:\n",
    "        print(f\"{feature}: {importance}\")"
   ]
  },
  {
   "cell_type": "code",
   "execution_count": 6,
   "metadata": {
    "collapsed": true
   },
   "outputs": [],
   "source": [
    "def run_grid_search(clf, param_dist, \n",
    "                      Xtrain, ytrain, \n",
    "                      Xtest, ytest, \n",
    "                      X_wc, y_wc,\n",
    "                      custom_report_for_model=None):\n",
    "    random_search = GridSearchCV(clf, param_grid=param_dist)\n",
    "    start = time()\n",
    "    random_search.fit(Xtrain, ytrain)\n",
    "    print(\"TRAIN SET METRICS:\")\n",
    "    print(\"SCORE: \", random_search.score(Xtrain, ytrain))\n",
    "    y_true, y_pred = ytrain, random_search.predict(Xtrain)\n",
    "    print(classification_report(y_true, y_pred))\n",
    "    print(\"BEST PARAMS: \", random_search.best_params_)\n",
    "    print()\n",
    "    print()\n",
    "    \n",
    "    best_clf = random_search.best_estimator_\n",
    "    best_clf.fit(Xtrain, ytrain)\n",
    "    \n",
    "    print(\"TEST SET METRICS:\")\n",
    "    print(\"SCORE: \", best_clf.score(Xtest, ytest))\n",
    "    y_true, y_pred = ytest, best_clf.predict(Xtest)\n",
    "    print(\"\\n\",classification_report(y_true, y_pred))\n",
    "        \n",
    "    print()\n",
    "    print()\n",
    "    print(\"WC SET METRICS:\")\n",
    "    print(\"SCORE: \", random_search.score(X_wc, y_wc))\n",
    "    y_true, y_pred = y_wc, best_clf.predict(X_wc)\n",
    "    print(\"\\n\",classification_report(y_true, y_pred))\n",
    "    \n",
    "    print()\n",
    "    print()\n",
    "    if custom_report_for_model:\n",
    "        custom_report_for_model(best_clf)\n",
    "    return best_clf"
   ]
  },
  {
   "cell_type": "code",
   "execution_count": 7,
   "metadata": {
    "collapsed": true
   },
   "outputs": [],
   "source": [
    "def get_sign_model():\n",
    "    label = \"home_win\"\n",
    "    X_train, y_train, X_test, y_test, X_wc, y_wc = get_train_test_wc_dataset(label)\n",
    "    clf = RandomForestClassifier(oob_score=True, bootstrap=True, n_jobs=-1)\n",
    "\n",
    "    param_dist = {\"n_estimators\": [200],\n",
    "                  \"max_depth\": [None],\n",
    "                  \"min_samples_leaf\": [5],\n",
    "                  \"max_features\": [\"sqrt\"],\n",
    "                  \"criterion\": [\"gini\"]}\n",
    "    best_clf = run_grid_search(clf, param_dist,\n",
    "                                 X_train, y_train, \n",
    "                                 X_test, y_test, \n",
    "                                 X_wc, y_wc,\n",
    "                                 custom_report_for_model=get_feature_importance)\n",
    "    \n",
    "    X, y = get_whole_dataset(label)\n",
    "    \n",
    "    best_clf.fit(X, y)\n",
    "    return best_clf   "
   ]
  },
  {
   "cell_type": "code",
   "execution_count": null,
   "metadata": {
    "collapsed": true
   },
   "outputs": [],
   "source": []
  },
  {
   "cell_type": "code",
   "execution_count": null,
   "metadata": {
    "collapsed": true,
    "scrolled": false
   },
   "outputs": [],
   "source": []
  },
  {
   "cell_type": "code",
   "execution_count": 11,
   "metadata": {
    "scrolled": false
   },
   "outputs": [
    {
     "name": "stdout",
     "output_type": "stream",
     "text": [
      "Dataset length 39008\n",
      "Dataset complete cases length 6676\n",
      "Whole train set length:  5601\n",
      "Whole test set length:  1075\n",
      "Whole WC set length:  128\n",
      "TRAIN SET METRICS:\n",
      "SCORE:  0.90948044992\n",
      "             precision    recall  f1-score   support\n",
      "\n",
      "       -1.0       0.90      0.93      0.91      2085\n",
      "        0.0       0.99      0.83      0.90      1402\n",
      "        1.0       0.88      0.94      0.91      2114\n",
      "\n",
      "avg / total       0.91      0.91      0.91      5601\n",
      "\n",
      "BEST PARAMS:  {'criterion': 'gini', 'max_depth': None, 'max_features': 'sqrt', 'min_samples_leaf': 5, 'n_estimators': 200}\n",
      "\n",
      "\n",
      "TEST SET METRICS:\n",
      "SCORE:  0.529302325581\n",
      "\n",
      "              precision    recall  f1-score   support\n",
      "\n",
      "       -1.0       0.54      0.71      0.61       408\n",
      "        0.0       0.28      0.05      0.09       274\n",
      "        1.0       0.55      0.67      0.60       393\n",
      "\n",
      "avg / total       0.48      0.53      0.48      1075\n",
      "\n",
      "\n",
      "\n",
      "WC SET METRICS:\n",
      "SCORE:  0.53125\n",
      "\n",
      "              precision    recall  f1-score   support\n",
      "\n",
      "       -1.0       0.61      0.70      0.66        61\n",
      "        0.0       0.00      0.00      0.00        29\n",
      "        1.0       0.45      0.66      0.54        38\n",
      "\n",
      "avg / total       0.43      0.53      0.47       128\n",
      "\n",
      "\n",
      "\n",
      "elo_diff: 0.08611781519080615\n",
      "crossing_diff: 0.04526319239566414\n",
      "dribbling_diff: 0.043519787984323974\n",
      "rating_diff: 0.043239167728019466\n",
      "potential_diff: 0.0397401481092005\n",
      "reactions_diff: 0.0371782484536801\n",
      "finishing_diff: 0.033701033405407324\n",
      "ball_control_diff: 0.03055538314077667\n",
      "short_passing_diff: 0.029454576756633415\n",
      "home_goal_mean: 0.027485235881172358\n",
      "long_passing_diff: 0.026849714996871384\n",
      "fk_accuracy_diff: 0.026387055285451315\n",
      "away_goals_with_home: 0.026074140813798802\n",
      "away_goal_mean: 0.02579218306375059\n",
      "internationl_repuatiotion_diff: 0.025442440132451588\n",
      "standing_tackle_diff: 0.024560744901685347\n",
      "long_shots_diff: 0.024009033273885243\n",
      "gk_kicking_diff: 0.02341278018372694\n",
      "weight_diff: 0.023010644073872606\n",
      "strength_diff: 0.022858359112849166\n",
      "stamina_diff: 0.02245014158544453\n",
      "aggression_diff: 0.022363035500081355\n",
      "shot_power_diff: 0.02234266177613204\n",
      "age_diff: 0.022260195056938114\n",
      "penalties_diff: 0.022104567247070373\n",
      "height_diff: 0.022055577461927545\n",
      "marking_diff: 0.021864914392575336\n",
      "acceleration_diff: 0.021146997962561188\n",
      "heading_accuracy_diff: 0.021064107418014878\n",
      "weak_foot_diff: 0.02087689416066057\n",
      "sprint_speed_diff: 0.020847948509883318\n",
      "goal_diff_with_away: 0.02009148510480637\n",
      "gk_diving_diff: 0.020048912607449704\n",
      "gk_reflexes_diff: 0.01888354645780933\n",
      "home_goals_with_away: 0.018641217265727462\n",
      "gk_handling_diff: 0.018306112608890843\n",
      "Dataset length 39008\n",
      "Dataset complete cases length 6676\n",
      "Whole train set length:  5601\n",
      "Whole test set length:  1075\n",
      "Whole WC set length:  128\n",
      "\n",
      "\n",
      "\n",
      "___Group Stage___\n",
      "\n",
      "Russia - Saudi Arabia: 1        -- probabilities [Lose, Draw, Win] -- [ 0.28202435  0.30591006  0.41206559]\n",
      "Egypt - Uruguay: -1        -- probabilities [Lose, Draw, Win] -- [ 0.52764395  0.3053641   0.16699195]\n",
      "Morocco - IR Iran: -1        -- probabilities [Lose, Draw, Win] -- [ 0.39806941  0.22447547  0.37745512]\n",
      "Portugal - Spain: -1        -- probabilities [Lose, Draw, Win] -- [ 0.46893854  0.28168035  0.24938111]\n",
      "France - Australia: 1        -- probabilities [Lose, Draw, Win] -- [ 0.16248024  0.18341157  0.65410819]\n",
      "Argentina - Iceland: 1        -- probabilities [Lose, Draw, Win] -- [ 0.13748178  0.19693482  0.6655834 ]\n",
      "Peru - Denmark: -1        -- probabilities [Lose, Draw, Win] -- [ 0.39478159  0.24496669  0.36025172]\n",
      "Croatia - Nigeria: 1        -- probabilities [Lose, Draw, Win] -- [ 0.19205558  0.28910733  0.5188371 ]\n",
      "Costa Rica - Serbia: -1        -- probabilities [Lose, Draw, Win] -- [ 0.37535373  0.32544314  0.29920313]\n",
      "Germany - Mexico: 1        -- probabilities [Lose, Draw, Win] -- [ 0.12398319  0.23223936  0.64377745]\n",
      "Brazil - Switzerland: 1        -- probabilities [Lose, Draw, Win] -- [ 0.1519182   0.24496876  0.60311304]\n",
      "Sweden - Korea Republic: 1        -- probabilities [Lose, Draw, Win] -- [ 0.26323454  0.28622646  0.450539  ]\n",
      "Belgium - Panama: 1        -- probabilities [Lose, Draw, Win] -- [ 0.0583548  0.1321477  0.8094975]\n",
      "Tunisia - England: -1        -- probabilities [Lose, Draw, Win] -- [ 0.57240723  0.29274333  0.13484944]\n",
      "Colombia - Japan: 1        -- probabilities [Lose, Draw, Win] -- [ 0.30323211  0.22992819  0.4668397 ]\n",
      "Poland - Senegal: 1        -- probabilities [Lose, Draw, Win] -- [ 0.27368122  0.35783797  0.36848081]\n",
      "Russia - Egypt: 1        -- probabilities [Lose, Draw, Win] -- [ 0.31710829  0.30070267  0.38218904]\n",
      "Portugal - Morocco: 1        -- probabilities [Lose, Draw, Win] -- [ 0.22204475  0.22399289  0.55396236]\n",
      "Uruguay - Saudi Arabia: 1        -- probabilities [Lose, Draw, Win] -- [ 0.21348636  0.22695479  0.55955885]\n",
      "IR Iran - Spain: -1        -- probabilities [Lose, Draw, Win] -- [ 0.63167985  0.24553521  0.12278494]\n",
      "Denmark - Australia: 1        -- probabilities [Lose, Draw, Win] -- [ 0.26461625  0.26859686  0.46678689]\n",
      "France - Peru: 1        -- probabilities [Lose, Draw, Win] -- [ 0.16022944  0.21407998  0.62569058]\n",
      "Argentina - Croatia: 1        -- probabilities [Lose, Draw, Win] -- [ 0.23720988  0.21678756  0.54600255]\n",
      "Brazil - Costa Rica: 1        -- probabilities [Lose, Draw, Win] -- [ 0.14330242  0.19698551  0.65971207]\n",
      "Nigeria - Iceland: -1        -- probabilities [Lose, Draw, Win] -- [ 0.39559712  0.35539115  0.24901173]\n",
      "Serbia - Switzerland: -1        -- probabilities [Lose, Draw, Win] -- [ 0.41330729  0.34613358  0.24055913]\n",
      "Belgium - Tunisia: 1        -- probabilities [Lose, Draw, Win] -- [ 0.11497798  0.22766004  0.65736198]\n",
      "Korea Republic - Mexico: -1        -- probabilities [Lose, Draw, Win] -- [ 0.49856766  0.30233319  0.19909915]\n",
      "Germany - Sweden: 1        -- probabilities [Lose, Draw, Win] -- [ 0.13439376  0.19906627  0.66653997]\n",
      "England - Panama: 1        -- probabilities [Lose, Draw, Win] -- [ 0.04200334  0.09000099  0.86799567]\n",
      "Japan - Senegal: 0        -- probabilities [Lose, Draw, Win] -- [ 0.27359025  0.41935053  0.30705922]\n",
      "Poland - Colombia: -1        -- probabilities [Lose, Draw, Win] -- [ 0.52588218  0.22704178  0.24707604]\n",
      "Saudi Arabia - Egypt: -1        -- probabilities [Lose, Draw, Win] -- [ 0.50527574  0.24032242  0.25440183]\n",
      "Uruguay - Russia: 1        -- probabilities [Lose, Draw, Win] -- [ 0.3370942   0.28205899  0.38084681]\n",
      "Spain - Morocco: 1        -- probabilities [Lose, Draw, Win] -- [ 0.15169026  0.16021745  0.68809229]\n",
      "IR Iran - Portugal: -1        -- probabilities [Lose, Draw, Win] -- [ 0.52682043  0.27218279  0.20099678]\n",
      "Australia - Peru: -1        -- probabilities [Lose, Draw, Win] -- [ 0.47109065  0.28354368  0.24536566]\n",
      "Denmark - France: -1        -- probabilities [Lose, Draw, Win] -- [ 0.52976865  0.27611517  0.19411618]\n",
      "Iceland - Croatia: -1        -- probabilities [Lose, Draw, Win] -- [ 0.60108715  0.20795734  0.19095551]\n",
      "Nigeria - Argentina: -1        -- probabilities [Lose, Draw, Win] -- [ 0.6818789   0.23825205  0.07986904]\n",
      "Korea Republic - Germany: -1        -- probabilities [Lose, Draw, Win] -- [ 0.80416635  0.1420269   0.05380675]\n",
      "Mexico - Sweden: -1        -- probabilities [Lose, Draw, Win] -- [ 0.3590388   0.32174677  0.31921443]\n",
      "Switzerland - Costa Rica: 1        -- probabilities [Lose, Draw, Win] -- [ 0.15577614  0.25969124  0.58453262]\n",
      "Serbia - Brazil: -1        -- probabilities [Lose, Draw, Win] -- [ 0.6712101   0.21468323  0.11410667]\n",
      "Japan - Poland: -1        -- probabilities [Lose, Draw, Win] -- [ 0.52129397  0.27893941  0.19976662]\n",
      "Senegal - Colombia: -1        -- probabilities [Lose, Draw, Win] -- [ 0.54225077  0.27341826  0.18433097]\n",
      "England - Belgium: -1        -- probabilities [Lose, Draw, Win] -- [ 0.50434019  0.26419451  0.23146531]\n",
      "Panama - Tunisia: 0        -- probabilities [Lose, Draw, Win] -- [ 0.3259012  0.4259783  0.2481205]\n",
      "\n",
      "\n",
      "    Position       Group A Points A   Group B Points B    Group C Points C  \\\n",
      "0         1       Uruguay        9     Spain        9     France        9   \n",
      "1         2        Russia        6  Portugal        6    Denmark        6   \n",
      "2         3         Egypt        3   IR Iran        3       Peru        3   \n",
      "3         4  Saudi Arabia        0   Morocco        0  Australia        0   \n",
      "\n",
      "     Group D Points D      Group E Points E         Group F Points F  Group G  \\\n",
      "0  Argentina        9       Brazil        9         Germany        9  Belgium   \n",
      "1    Croatia        6  Switzerland        6          Sweden        6  England   \n",
      "2    Iceland        3       Serbia        3          Mexico        3   Panama   \n",
      "3    Nigeria        0   Costa Rica        0  Korea Republic        0  Tunisia   \n",
      "\n",
      "  Points G   Group H Points H  \n",
      "0        9  Colombia        9  \n",
      "1        6    Poland        6  \n",
      "2        1   Senegal        1  \n",
      "3        1     Japan        1  \n",
      "\n",
      "\n",
      "\n",
      "___Round of 16___\n",
      "\n"
     ]
    },
    {
     "name": "stdout",
     "output_type": "stream",
     "text": [
      "Uruguay - Portugal: -1        -- probabilities [Lose, Draw, Win] -- [ 0.48184796  0.27044886  0.24770318]\n",
      "France - Croatia: 1        -- probabilities [Lose, Draw, Win] -- [ 0.13530959  0.2486018   0.61608861]\n",
      "Brazil - Sweden: 1        -- probabilities [Lose, Draw, Win] -- [ 0.11178886  0.17616011  0.71205103]\n",
      "Belgium - Poland: 1        -- probabilities [Lose, Draw, Win] -- [ 0.21130488  0.25505221  0.53364291]\n",
      "Spain - Russia: 1        -- probabilities [Lose, Draw, Win] -- [ 0.12094652  0.23149406  0.64755942]\n",
      "Argentina - Denmark: 1        -- probabilities [Lose, Draw, Win] -- [ 0.273215    0.23073235  0.49605265]\n",
      "Germany - Switzerland: 1        -- probabilities [Lose, Draw, Win] -- [ 0.19802678  0.27859908  0.52337414]\n",
      "Colombia - England: -1        -- probabilities [Lose, Draw, Win] -- [ 0.52664007  0.28458632  0.18877361]\n",
      "\n",
      "\n",
      "\n",
      "___Quarter-Finals___\n",
      "\n",
      "Portugal - France: -1        -- probabilities [Lose, Draw, Win] -- [ 0.44422514  0.27130407  0.28447079]\n",
      "Brazil - Belgium: 1        -- probabilities [Lose, Draw, Win] -- [ 0.34906441  0.29001349  0.3609221 ]\n",
      "Spain - Argentina: 1        -- probabilities [Lose, Draw, Win] -- [ 0.25956694  0.23774388  0.50268918]\n",
      "Germany - England: 1        -- probabilities [Lose, Draw, Win] -- [ 0.32733794  0.25518991  0.41747216]\n",
      "\n",
      "\n",
      "\n",
      "___Semi-Finals___\n",
      "\n",
      "France - Brazil: -1        -- probabilities [Lose, Draw, Win] -- [ 0.46900896  0.2414203   0.28957074]\n",
      "Spain - Germany: -1        -- probabilities [Lose, Draw, Win] -- [ 0.41405366  0.2957042   0.29024214]\n",
      "\n",
      "\n",
      "\n",
      "___Third place play-off___\n",
      "\n",
      "France - Spain: -1        -- probabilities [Lose, Draw, Win] -- [ 0.43901389  0.31611919  0.24486693]\n",
      "\n",
      "\n",
      "\n",
      "___Final___\n",
      "\n",
      "Brazil - Germany: -1        -- probabilities [Lose, Draw, Win] -- [ 0.45715375  0.25887794  0.28396831]\n"
     ]
    }
   ],
   "source": [
    "sign_model = get_sign_model()\n",
    "\n",
    "run_simulation(sign_model)"
   ]
  },
  {
   "cell_type": "code",
   "execution_count": 9,
   "metadata": {
    "collapsed": true
   },
   "outputs": [],
   "source": [
    "from simulation.simulation import post_simulation\n",
    "post_simulation()"
   ]
  }
 ],
 "metadata": {
  "kernelspec": {
   "display_name": "Python 3",
   "language": "python",
   "name": "python3"
  },
  "language_info": {
   "codemirror_mode": {
    "name": "ipython",
    "version": 3
   },
   "file_extension": ".py",
   "mimetype": "text/x-python",
   "name": "python",
   "nbconvert_exporter": "python",
   "pygments_lexer": "ipython3",
   "version": "3.6.3"
  }
 },
 "nbformat": 4,
 "nbformat_minor": 2
}
