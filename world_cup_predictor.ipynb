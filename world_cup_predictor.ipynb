{
 "cells": [
  {
   "cell_type": "code",
   "execution_count": 1,
   "metadata": {},
   "outputs": [],
   "source": [
    "import functools\n",
    "import numpy as np\n",
    "import pandas as pd\n",
    "import random\n",
    "from time import time\n",
    "from scipy.stats import randint as sp_randint\n",
    "\n",
    "from sklearn.model_selection import cross_val_score\n",
    "from sklearn.ensemble import RandomForestClassifier\n",
    "from sklearn.pipeline import Pipeline\n",
    "from sklearn.metrics import classification_report\n",
    "from sklearn.model_selection import train_test_split, RandomizedSearchCV, GridSearchCV\n",
    "from sklearn import preprocessing\n",
    "\n",
    "import matplotlib.pyplot as plt\n",
    "from IPython.display import set_matplotlib_formats\n",
    "set_matplotlib_formats('svg')\n",
    "%matplotlib inline\n",
    "plt.style.use('ggplot')\n",
    "\n",
    "from simulation import run_simulation\n",
    "from data_provider import get_sign_dataset, get_feature_columns"
   ]
  },
  {
   "cell_type": "code",
   "execution_count": null,
   "metadata": {},
   "outputs": [],
   "source": []
  },
  {
   "cell_type": "code",
   "execution_count": 2,
   "metadata": {
    "scrolled": false
   },
   "outputs": [
    {
     "name": "stdout",
     "output_type": "stream",
     "text": [
      "Dataset length 39009\n",
      "Dataset complete cases length 6676\n",
      "Whole train set length:  5601\n",
      "Whole test set length:  1075\n",
      "Whole WC set length:  128\n"
     ]
    }
   ],
   "source": [
    "X_train, y_train, X_test, y_test, X_wc, y_wc = get_sign_dataset()"
   ]
  },
  {
   "cell_type": "code",
   "execution_count": 3,
   "metadata": {},
   "outputs": [
    {
     "data": {
      "text/plain": [
       "<matplotlib.axes._subplots.AxesSubplot at 0x1a19ea6588>"
      ]
     },
     "execution_count": 3,
     "metadata": {},
     "output_type": "execute_result"
    },
    {
     "data": {
      "text/plain": [
       "<Figure size 1440x432 with 0 Axes>"
      ]
     },
     "metadata": {},
     "output_type": "display_data"
    },
    {
     "data": {
      "image/png": "[encoded data removed]",
      "text/plain": [
       "<Figure size 864x288 with 3 Axes>"
      ]
     },
     "metadata": {},
     "output_type": "display_data"
    }
   ],
   "source": [
    "def get_labeled_df(s):\n",
    "    df = pd.DataFrame(s)\n",
    "    df[df[\"home_win\"] == 1] = \"Win\"\n",
    "    df[df[\"home_win\"] == 0] = \"Draw\"\n",
    "    df[df[\"home_win\"] == -1] = \"Lose\"\n",
    "    return df\n",
    "\n",
    "plt.figure(figsize=(20, 6))\n",
    "fig, axes = plt.subplots(nrows=1, ncols=3, figsize=(12, 4))\n",
    "pd.value_counts(get_labeled_df(y_train)[\"home_win\"]).plot.bar(ax=axes[0])\n",
    "pd.value_counts(get_labeled_df(y_test)[\"home_win\"]).plot.bar(ax=axes[1])\n",
    "pd.value_counts(get_labeled_df(y_wc)[\"home_win\"]).plot.bar(ax=axes[2])"
   ]
  },
  {
   "cell_type": "code",
   "execution_count": 4,
   "metadata": {
    "scrolled": false
   },
   "outputs": [],
   "source": [
    "#plt.figure(figsize=(10,10))\n",
    "#plt.matshow(X_train.corr(), fignum=1)\n",
    "#X_train.corr()"
   ]
  },
  {
   "cell_type": "code",
   "execution_count": 5,
   "metadata": {},
   "outputs": [],
   "source": [
    "def get_feature_importance(clf):\n",
    "    zipped = sorted(zip(get_feature_columns(), clf.feature_importances_), key = lambda t: t[1], reverse=True)\n",
    "    for feature, importance in zipped:\n",
    "        print(f\"{feature}: {importance}\")"
   ]
  },
  {
   "cell_type": "code",
   "execution_count": 21,
   "metadata": {},
   "outputs": [],
   "source": [
    "def run_grid_search(clf, param_dist, \n",
    "                      Xtrain, ytrain, \n",
    "                      Xtest, ytest, \n",
    "                      X_wc, y_wc,\n",
    "                      custom_report_for_model=None):\n",
    "    random_search = GridSearchCV(clf, param_grid=param_dist)\n",
    "    start = time()\n",
    "    random_search.fit(Xtrain, ytrain)\n",
    "    print(\"TRAIN SET METRICS:\")\n",
    "    print(\"SCORE: \", random_search.score(Xtrain, ytrain))\n",
    "    y_true, y_pred = ytrain, random_search.predict(Xtrain)\n",
    "    print(classification_report(y_true, y_pred))\n",
    "    print(\"BEST PARAMS: \", random_search.best_params_)\n",
    "    print()\n",
    "    print()\n",
    "    \n",
    "    best_clf = random_search.best_estimator_\n",
    "    best_clf.fit(Xtrain, ytrain)\n",
    "    \n",
    "    print(\"TEST SET METRICS:\")\n",
    "    print(\"SCORE: \", best_clf.score(Xtest, ytest))\n",
    "    y_true, y_pred = ytest, best_clf.predict(Xtest)\n",
    "    print(\"\\n\",classification_report(y_true, y_pred))\n",
    "        \n",
    "    print()\n",
    "    print()\n",
    "    print(\"WC SET METRICS:\")\n",
    "    print(\"SCORE: \", random_search.score(X_wc, y_wc))\n",
    "    y_true, y_pred = y_wc, best_clf.predict(X_wc)\n",
    "    print(\"\\n\",classification_report(y_true, y_pred))\n",
    "    \n",
    "    print()\n",
    "    print()\n",
    "    if custom_report_for_model:\n",
    "        custom_report_for_model(best_clf)\n",
    "    return best_clf"
   ]
  },
  {
   "cell_type": "code",
   "execution_count": 24,
   "metadata": {
    "scrolled": false
   },
   "outputs": [
    {
     "name": "stdout",
     "output_type": "stream",
     "text": [
      "TRAIN SET METRICS:\n",
      "SCORE:  0.850562399572\n",
      "             precision    recall  f1-score   support\n",
      "\n",
      "       -1.0       0.83      0.90      0.86      2111\n",
      "        0.0       0.98      0.69      0.81      1402\n",
      "        1.0       0.82      0.90      0.86      2088\n",
      "\n",
      "avg / total       0.86      0.85      0.85      5601\n",
      "\n",
      "BEST PARAMS:  {'criterion': 'gini', 'max_depth': None, 'max_features': 'sqrt', 'min_samples_leaf': 7, 'n_estimators': 1000}\n",
      "\n",
      "\n",
      "TEST SET METRICS:\n",
      "SCORE:  0.536744186047\n",
      "\n",
      "              precision    recall  f1-score   support\n",
      "\n",
      "       -1.0       0.52      0.73      0.61       402\n",
      "        0.0       0.28      0.04      0.06       274\n",
      "        1.0       0.57      0.68      0.62       399\n",
      "\n",
      "avg / total       0.48      0.54      0.48      1075\n",
      "\n",
      "\n",
      "\n",
      "WC SET METRICS:\n",
      "SCORE:  0.59375\n",
      "\n",
      "              precision    recall  f1-score   support\n",
      "\n",
      "       -1.0       0.65      0.76      0.70        59\n",
      "        0.0       0.00      0.00      0.00        29\n",
      "        1.0       0.53      0.78      0.63        40\n",
      "\n",
      "avg / total       0.47      0.59      0.52       128\n",
      "\n",
      "\n",
      "\n",
      "elo_diff: 0.09831480682871378\n",
      "rating_diff: 0.04606321536797942\n",
      "potential_diff: 0.045335973175869244\n",
      "crossing_diff: 0.042976332673762795\n",
      "dribbling_diff: 0.04152574891440115\n",
      "reactions_diff: 0.03845069585749207\n",
      "short_passing_diff: 0.03156182969163037\n",
      "ball_control_diff: 0.03134174670481524\n",
      "internationl_repuatiotion_diff: 0.02808067553952646\n",
      "finishing_diff: 0.027972953984195085\n",
      "long_shots_diff: 0.02784524534344672\n",
      "fk_accuracy_diff: 0.027380425617870255\n",
      "long_passing_diff: 0.026400617558441367\n",
      "away_goal_mean: 0.026326639627189726\n",
      "home_goal_mean: 0.025392936501996713\n",
      "height_diff: 0.02474817253799354\n",
      "standing_tackle_diff: 0.023788664643782115\n",
      "gk_kicking_diff: 0.022637573023144113\n",
      "marking_diff: 0.022630677728078207\n",
      "away_goals_with_home: 0.02244169500632617\n",
      "shot_power_diff: 0.021882592221042767\n",
      "strength_diff: 0.02173203821660578\n",
      "weight_diff: 0.02140552745580422\n",
      "penalties_diff: 0.020895967133812293\n",
      "aggression_diff: 0.020867912379021362\n",
      "age_diff: 0.020842928519038\n",
      "stamina_diff: 0.020661907955622876\n",
      "heading_accuracy_diff: 0.019733423162232085\n",
      "sprint_speed_diff: 0.019699162227965417\n",
      "home_goals_with_away: 0.019481922257220605\n",
      "weak_foot_diff: 0.01913697792735648\n",
      "acceleration_diff: 0.019036139427349986\n",
      "goal_diff_with_away: 0.01889163203902029\n",
      "gk_diving_diff: 0.018433254624612115\n",
      "gk_reflexes_diff: 0.018189151861039258\n",
      "gk_handling_diff: 0.01789283626560203\n"
     ]
    }
   ],
   "source": [
    "clf = RandomForestClassifier(oob_score=True, bootstrap=True, n_jobs=-1)\n",
    "\n",
    "param_dist = {\"n_estimators\": [1000],\n",
    "              \"max_depth\": [None],\n",
    "              \"min_samples_leaf\": [7],\n",
    "              \"max_features\": [\"sqrt\"],\n",
    "              \"criterion\": [\"gini\"]}\n",
    "best_clf = run_grid_search(clf, param_dist,\n",
    "                             X_train, y_train, \n",
    "                             X_test, y_test, \n",
    "                             X_wc, y_wc,\n",
    "                             custom_report_for_model=get_feature_importance)"
   ]
  },
  {
   "cell_type": "code",
   "execution_count": 32,
   "metadata": {
    "scrolled": false
   },
   "outputs": [
    {
     "name": "stdout",
     "output_type": "stream",
     "text": [
      "\n",
      "\n",
      "\n",
      "___Group Stage___\n",
      "\n",
      "Russia - Saudi Arabia: 1 -- PROBAS -- [ 0.21897278  0.27171602  0.5093112 ]\n",
      "Egypt - Uruguay: -1 -- PROBAS -- [ 0.53250126  0.29183807  0.17566067]\n",
      "Morocco - IR Iran: -1 -- PROBAS -- [ 0.46743975  0.21068867  0.32187158]\n",
      "\u001b[31mPortugal - Spain: \u001b[0m-1 -- PROBAS -- [ 0.40542044  0.31355911  0.28102046]\n",
      "France - Australia: 1 -- PROBAS -- [ 0.14484859  0.21246531  0.6426861 ]\n",
      "\u001b[31mArgentina - Iceland: \u001b[0m1 -- PROBAS -- [ 0.15546302  0.19199757  0.65253941]\n",
      "Peru - Denmark: -1 -- PROBAS -- [ 0.36566675  0.27895651  0.35537673]\n",
      "Croatia - Nigeria: 1 -- PROBAS -- [ 0.19686083  0.26377046  0.53936871]\n",
      "Costa Rica - Serbia: -1 -- PROBAS -- [ 0.4229137   0.36183168  0.21525462]\n",
      "\u001b[31mGermany - Mexico: \u001b[0m1 -- PROBAS -- [ 0.10963424  0.18405404  0.70631173]\n",
      "\u001b[31mBrazil - Switzerland: \u001b[0m1 -- PROBAS -- [ 0.17490059  0.22029463  0.60480478]\n",
      "Sweden - Korea Republic: 1 -- PROBAS -- [ 0.31036406  0.26900361  0.42063233]\n",
      "Belgium - Panama: 1 -- PROBAS -- [ 0.04653621  0.1158619   0.83760188]\n",
      "Tunisia - England: -1 -- PROBAS -- [ 0.60857066  0.28296949  0.10845985]\n",
      "\u001b[31mColombia - Japan: \u001b[0m1 -- PROBAS -- [ 0.25267886  0.22639501  0.52092614]\n",
      "\u001b[31mPoland - Senegal: \u001b[0m0 -- PROBAS -- [ 0.28249552  0.36679905  0.35070543]\n",
      "Russia - Egypt: 1 -- PROBAS -- [ 0.32192902  0.25734905  0.42072193]\n",
      "Portugal - Morocco: 1 -- PROBAS -- [ 0.22831079  0.2685653   0.50312391]\n",
      "Uruguay - Saudi Arabia: 1 -- PROBAS -- [ 0.18827086  0.22577522  0.58595392]\n",
      "IR Iran - Spain: -1 -- PROBAS -- [ 0.60967043  0.2732265   0.11710308]\n",
      "\u001b[31mDenmark - Australia: \u001b[0m1 -- PROBAS -- [ 0.32157691  0.243106    0.43531709]\n",
      "France - Peru: 1 -- PROBAS -- [ 0.30524836  0.22519635  0.46955529]\n",
      "\u001b[31mArgentina - Croatia: \u001b[0m1 -- PROBAS -- [ 0.26915097  0.23877314  0.49207589]\n",
      "Brazil - Costa Rica: 1 -- PROBAS -- [ 0.12909381  0.22348957  0.64741662]\n",
      "\u001b[31mNigeria - Iceland: \u001b[0m-1 -- PROBAS -- [ 0.37165038  0.30374451  0.3246051 ]\n",
      "Serbia - Switzerland: -1 -- PROBAS -- [ 0.41645532  0.28897847  0.29456621]\n",
      "Belgium - Tunisia: 1 -- PROBAS -- [ 0.13569495  0.2061408   0.65816425]\n",
      "Korea Republic - Mexico: -1 -- PROBAS -- [ 0.50359914  0.27765174  0.21874912]\n",
      "Germany - Sweden: 1 -- PROBAS -- [ 0.15967136  0.22079532  0.61953332]\n",
      "England - Panama: 1 -- PROBAS -- [ 0.05232279  0.11061916  0.83705805]\n",
      "Japan - Senegal: 0 -- PROBAS -- [ 0.26091799  0.41922462  0.31985739]\n",
      "Poland - Colombia: -1 -- PROBAS -- [ 0.44942032  0.23970124  0.31087844]\n",
      "\u001b[31mSaudi Arabia - Egypt: \u001b[0m-1 -- PROBAS -- [ 0.46946494  0.26596946  0.2645656 ]\n",
      "\u001b[31mUruguay - Russia: \u001b[0m-1 -- PROBAS -- [ 0.38697302  0.27173239  0.34129459]\n",
      "\u001b[31mSpain - Morocco: \u001b[0m1 -- PROBAS -- [ 0.13411827  0.2011738   0.66470793]\n",
      "\u001b[31mIR Iran - Portugal: \u001b[0m-1 -- PROBAS -- [ 0.56248981  0.27283689  0.1646733 ]\n",
      "Australia - Peru: -1 -- PROBAS -- [ 0.48156272  0.27308023  0.24535705]\n",
      "\u001b[31mDenmark - France: \u001b[0m-1 -- PROBAS -- [ 0.64789272  0.20202659  0.15008069]\n",
      "Iceland - Croatia: -1 -- PROBAS -- [ 0.57262987  0.21434366  0.21302647]\n",
      "Nigeria - Argentina: -1 -- PROBAS -- [ 0.62485277  0.26754416  0.10760307]\n",
      "\u001b[31mKorea Republic - Germany: \u001b[0m-1 -- PROBAS -- [ 0.69109952  0.2166043   0.09229618]\n",
      "\u001b[31mMexico - Sweden: \u001b[0m1 -- PROBAS -- [ 0.34199815  0.287108    0.37089385]\n",
      "\u001b[31mSwitzerland - Costa Rica: \u001b[0m1 -- PROBAS -- [ 0.23852366  0.25510747  0.50636888]\n",
      "Serbia - Brazil: -1 -- PROBAS -- [ 0.62290351  0.22490286  0.15219363]\n",
      "\u001b[31mJapan - Poland: \u001b[0m0 -- PROBAS -- [ 0.34297047  0.34377992  0.31324961]\n",
      "Senegal - Colombia: -1 -- PROBAS -- [ 0.56469726  0.22736267  0.20794007]\n",
      "England - Belgium: -1 -- PROBAS -- [ 0.46544522  0.2890337   0.24552108]\n",
      "\u001b[31mPanama - Tunisia: \u001b[0m0 -- PROBAS -- [ 0.38934526  0.3900381   0.22061663]\n",
      "\n",
      "\n",
      "    Position       Group A Points A   Group B Points B    Group C Points C  \\\n",
      "0         1        Russia        9     Spain        9     France        9   \n",
      "1         2       Uruguay        6  Portugal        6    Denmark        6   \n",
      "2         3         Egypt        3   IR Iran        3       Peru        3   \n",
      "3         4  Saudi Arabia        0   Morocco        0  Australia        0   \n",
      "\n",
      "     Group D Points D      Group E Points E         Group F Points F  Group G  \\\n",
      "0  Argentina        9       Brazil        9         Germany        9  Belgium   \n",
      "1    Croatia        6  Switzerland        6          Mexico        6  England   \n",
      "2    Iceland        3       Serbia        3          Sweden        3  Tunisia   \n",
      "3    Nigeria        0   Costa Rica        0  Korea Republic        0   Panama   \n",
      "\n",
      "  Points G   Group H Points H  \n",
      "0        9  Colombia        9  \n",
      "1        6   Senegal        2  \n",
      "2        1    Poland        2  \n",
      "3        1     Japan        2  \n",
      "\n",
      "\n",
      "\n",
      "___Round of 16___\n",
      "\n",
      "Russia - Portugal: -1 -- PROBAS -- [ 0.68751281  0.          0.12275127]\n",
      "France - Croatia: 1 -- PROBAS -- [ 0.20747807  0.          0.59073114]\n",
      "Brazil - Mexico: 1 -- PROBAS -- [ 0.1240026   0.          0.65400676]\n",
      "Belgium - Senegal: 1 -- PROBAS -- [ 0.19532867  0.          0.44544833]\n",
      "Spain - Uruguay: 1 -- PROBAS -- [ 0.18669001  0.          0.5519535 ]\n",
      "Argentina - Denmark: 1 -- PROBAS -- [ 0.37704686  0.          0.39181127]\n",
      "Germany - Switzerland: 1 -- PROBAS -- [ 0.152993    0.          0.55146803]\n",
      "Colombia - England: -1 -- PROBAS -- [ 0.51925142  0.          0.25747547]\n",
      "\n",
      "\n",
      "\n",
      "___Quarter-Finals___\n",
      "\n",
      "Portugal - France: -1 -- PROBAS -- [ 0.41196218  0.          0.26740587]\n",
      "Brazil - Belgium: -1 -- PROBAS -- [ 0.35401015  0.          0.35266058]\n",
      "Spain - Argentina: 1 -- PROBAS -- [ 0.25603614  0.          0.50492205]\n",
      "Germany - England: 1 -- PROBAS -- [ 0.27804288  0.          0.44103487]\n",
      "\n",
      "\n",
      "\n",
      "___Semi-Finals___\n",
      "\n",
      "France - Belgium: -1 -- PROBAS -- [ 0.42794169  0.          0.27449772]\n",
      "Spain - Germany: -1 -- PROBAS -- [ 0.37582604  0.          0.32196122]\n",
      "\n",
      "\n",
      "\n",
      "___Third place play-off___\n",
      "\n",
      "France - Spain: -1 -- PROBAS -- [ 0.41538222  0.          0.27847462]\n",
      "\n",
      "\n",
      "\n",
      "___Final___\n",
      "\n",
      "Belgium - Germany: -1 -- PROBAS -- [ 0.41582291  0.          0.28333962]\n"
     ]
    }
   ],
   "source": [
    "run_simulation(best_clf)"
   ]
  }
 ],
 "metadata": {
  "kernelspec": {
   "display_name": "Python 3",
   "language": "python",
   "name": "python3"
  },
  "language_info": {
   "codemirror_mode": {
    "name": "ipython",
    "version": 3
   },
   "file_extension": ".py",
   "mimetype": "text/x-python",
   "name": "python",
   "nbconvert_exporter": "python",
   "pygments_lexer": "ipython3",
   "version": "3.6.5"
  }
 },
 "nbformat": 4,
 "nbformat_minor": 2
}
