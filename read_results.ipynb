{
 "cells": [
  {
   "cell_type": "code",
   "execution_count": 1,
   "metadata": {},
   "outputs": [],
   "source": [
    "import pandas as pd\n",
    "import numpy as np"
   ]
  },
  {
   "cell_type": "code",
   "execution_count": 2,
   "metadata": {},
   "outputs": [],
   "source": [
    "onevsrest_report = pd.read_csv(\"results/onevsrest_model_report.csv\")\n",
    "score_report = pd.read_csv(\"results/score_model_report.csv\")\n",
    "outcome_report = pd.read_csv(\"results/outcome_model_report.csv\")\n",
    "gboost_report = pd.read_csv(\"results/gboost_outcome_model_report.csv\")\n",
    "lr_report = pd.read_csv(\"results/lr_model_report.csv\")"
   ]
  },
  {
   "cell_type": "code",
   "execution_count": 3,
   "metadata": {},
   "outputs": [
    {
     "data": {
      "text/plain": [
       "0.59375"
      ]
     },
     "execution_count": 3,
     "metadata": {},
     "output_type": "execute_result"
    }
   ],
   "source": [
    "score_report.loc[score_report[\"id\"] == \"all_features_2018-06-14\", \"acc_mu\"].item()"
   ]
  },
  {
   "cell_type": "code",
   "execution_count": 37,
   "metadata": {},
   "outputs": [],
   "source": [
    "timestamp_keys = [\"2018-06-14\", \"2014-06-12\", \"2010-06-11\"]\n",
    "feature_keys = [(\"all_features\", \"AF\"), (\"general_features\", \"GF\"), (\"player_features\", \"PF\")]\n",
    "table_keys = [\n",
    "    (\"acc_mu\", \"acc_std\", \"Accuracy\", True, False), \n",
    "    (\"logloss_mu\", \"logloss_std\", \"Log Loss\", False, False), \n",
    "    (\"unit_mu\", \"unit_std\", \"Unit profit\", True, True),\n",
    "    (\"kelly_mu\", \"kelly_std\", \"Kelly profit\", True, True)\n",
    "]"
   ]
  },
  {
   "cell_type": "markdown",
   "metadata": {},
   "source": [
    "Accuracy & All Features & 51.56\\% $\\pm$ 0.0 & 51.56\\% $\\pm$ 0.0 & 51.56\\% $\\pm$ 0.0\\\\"
   ]
  },
  {
   "cell_type": "code",
   "execution_count": 38,
   "metadata": {},
   "outputs": [],
   "source": [
    "def get_value(dataset, id_name, column, percentage=True, profit=False, round_dec=2):\n",
    "    value = dataset.loc[dataset[\"id\"] == id_name, column].item()\n",
    "    if percentage:\n",
    "        value *= 100\n",
    "        if profit:\n",
    "            value -= 100\n",
    "    return np.around(value, round_dec)"
   ]
  },
  {
   "cell_type": "code",
   "execution_count": 39,
   "metadata": {},
   "outputs": [
    {
     "data": {
      "text/plain": [
       "0.0046875"
      ]
     },
     "execution_count": 39,
     "metadata": {},
     "output_type": "execute_result"
    }
   ],
   "source": [
    "float(onevsrest_report.loc[onevsrest_report[\"id\"] == \"all_features_2018-06-14\", \"acc_std\"].item())"
   ]
  },
  {
   "cell_type": "code",
   "execution_count": 42,
   "metadata": {},
   "outputs": [],
   "source": [
    "def get_table_for_csv(csv_file):\n",
    "    str = \"\"\n",
    "    for tk_idx, tk in enumerate(table_keys):\n",
    "        for fk_idx, fk in enumerate(feature_keys):\n",
    "            if fk_idx == 0:\n",
    "                    str += f\"{tk[2]} & \"\n",
    "            else:\n",
    "                str += f\" & \"\n",
    "            str += f\"{fk[1]} & \"\n",
    "            \n",
    "            tournament_mus = [] \n",
    "            for ts_idx, ts in enumerate(timestamp_keys):\n",
    "                f_key = f\"{fk[0]}_{ts}\"\n",
    "                if tk[0] == \"logloss_mu\":\n",
    "                    round_key = 4\n",
    "                    mu = get_value(csv_file, f_key , tk[0], percentage=False, profit=False, round_dec=round_key)\n",
    "                    std = get_value(csv_file, f_key , tk[1], percentage=False, profit=False, round_dec=round_key)\n",
    "                else:\n",
    "                    round_key = 2\n",
    "                    mu = get_value(csv_file, f_key , tk[0], percentage=tk[3], profit=tk[4])\n",
    "                    std = get_value(csv_file, f_key , tk[1], percentage=tk[3], profit=False)\n",
    "                tournament_mus.append(mu)\n",
    "                per_sign = \"\\%\" if tk[3] else ''\n",
    "                str += f\"{mu}{per_sign} $\\pm$ {std}\"\n",
    "                if ts_idx == len(timestamp_keys) - 1:\n",
    "                    str += f\"& {np.around(np.mean(tournament_mus), round_key)}\"\n",
    "                    str += \" \\\\\"\n",
    "                    str += \"\\\\ \\n\"\n",
    "                else:\n",
    "                    str += \" & \"\n",
    "            if fk_idx == len(feature_keys) - 1 and tk_idx < len(table_keys) - 1:\n",
    "                str += \" & & & & &\"\n",
    "                str += \" \\\\\"\n",
    "                str += \"\\\\ \\n\"\n",
    "\n",
    "            else:\n",
    "                str += \"\"\n",
    "    print(str)"
   ]
  },
  {
   "cell_type": "code",
   "execution_count": 41,
   "metadata": {},
   "outputs": [
    {
     "name": "stdout",
     "output_type": "stream",
     "text": [
      "Accuracy & AF & 57.66\\% $\\pm$ 0.47 & 57.34\\% $\\pm$ 1.22 & 56.09\\% $\\pm$ 0.84& 57.03 \\\\ \n",
      " & GF & 51.25\\% $\\pm$ 1.95 & 55.16\\% $\\pm$ 1.57 & 57.03\\% $\\pm$ 1.05& 54.48 \\\\ \n",
      " & PF & 61.09\\% $\\pm$ 1.3 & 60.16\\% $\\pm$ 1.05 & 54.37\\% $\\pm$ 1.36& 58.54 \\\\ \n",
      " &  & & &  \\\\ \n",
      "Log Loss & AF & 0.9646 $\\pm$ 0.0035 & 0.9382 $\\pm$ 0.0039 & 0.9831 $\\pm$ 0.005& 0.962 \\\\ \n",
      " & GF & 1.012 $\\pm$ 0.0052 & 0.9515 $\\pm$ 0.0068 & 0.9583 $\\pm$ 0.0059& 0.9739 \\\\ \n",
      " & PF & 0.9365 $\\pm$ 0.0023 & 0.9564 $\\pm$ 0.0032 & 1.0083 $\\pm$ 0.0052& 0.9671 \\\\ \n",
      " &  & & &  \\\\ \n",
      "Unit profit & AF & 7.31\\% $\\pm$ 1.04 & 5.01\\% $\\pm$ 2.93 & 6.52\\% $\\pm$ 2.97& 6.28 \\\\ \n",
      " & GF & -5.03\\% $\\pm$ 4.84 & 3.04\\% $\\pm$ 4.31 & 10.38\\% $\\pm$ 3.38& 2.8 \\\\ \n",
      " & PF & 19.83\\% $\\pm$ 4.01 & 14.14\\% $\\pm$ 2.82 & 3.88\\% $\\pm$ 5.11& 12.62 \\\\ \n",
      " &  & & &  \\\\ \n",
      "Kelly profit & AF & -2.6\\% $\\pm$ 6.57 & 9.34\\% $\\pm$ 8.69 & 26.26\\% $\\pm$ 10.92& 11.0 \\\\ \n",
      " & GF & -44.81\\% $\\pm$ 3.96 & 14.61\\% $\\pm$ 13.1 & 83.44\\% $\\pm$ 23.89& 17.75 \\\\ \n",
      " & PF & 61.65\\% $\\pm$ 9.88 & -3.92\\% $\\pm$ 4.68 & 0.77\\% $\\pm$ 7.02& 19.5 \\\\ \n",
      "\n"
     ]
    }
   ],
   "source": [
    "get_table_for_csv(onevsrest_report)"
   ]
  },
  {
   "cell_type": "code",
   "execution_count": 43,
   "metadata": {},
   "outputs": [
    {
     "name": "stdout",
     "output_type": "stream",
     "text": [
      "Accuracy & AF & 59.38\\% $\\pm$ 0.0 & 58.13\\% $\\pm$ 0.62 & 52.81\\% $\\pm$ 0.62& 56.77 \\\\ \n",
      " & GF & 52.03\\% $\\pm$ 1.0 & 59.38\\% $\\pm$ 0.0 & 50.94\\% $\\pm$ 0.77& 54.12 \\\\ \n",
      " & PF & 58.44\\% $\\pm$ 1.74 & 61.09\\% $\\pm$ 0.84 & 53.91\\% $\\pm$ 0.78& 57.81 \\\\ \n",
      " & & & & & \\\\ \n",
      "Log Loss & AF & 0.9508 $\\pm$ 0.0016 & 0.935 $\\pm$ 0.0005 & 0.9788 $\\pm$ 0.0016& 0.9549 \\\\ \n",
      " & GF & 0.9831 $\\pm$ 0.0012 & 0.9133 $\\pm$ 0.0011 & 0.9522 $\\pm$ 0.001& 0.9495 \\\\ \n",
      " & PF & 0.9566 $\\pm$ 0.0013 & 0.9446 $\\pm$ 0.0024 & 0.9996 $\\pm$ 0.0009& 0.9669 \\\\ \n",
      " & & & & & \\\\ \n",
      "Unit profit & AF & 13.52\\% $\\pm$ 0.0 & 5.94\\% $\\pm$ 2.11 & -2.8\\% $\\pm$ 1.29& 5.55 \\\\ \n",
      " & GF & -5.4\\% $\\pm$ 2.57 & 13.66\\% $\\pm$ 0.0 & -5.08\\% $\\pm$ 2.45& 1.06 \\\\ \n",
      " & PF & 12.26\\% $\\pm$ 5.1 & 16.11\\% $\\pm$ 2.64 & 2.23\\% $\\pm$ 2.09& 10.2 \\\\ \n",
      " & & & & & \\\\ \n",
      "Kelly profit & AF & 35.59\\% $\\pm$ 4.45 & 12.37\\% $\\pm$ 1.02 & 24.2\\% $\\pm$ 4.43& 24.05 \\\\ \n",
      " & GF & -19.06\\% $\\pm$ 1.87 & 107.61\\% $\\pm$ 4.47 & 99.75\\% $\\pm$ 3.63& 62.77 \\\\ \n",
      " & PF & 2.04\\% $\\pm$ 2.62 & 10.82\\% $\\pm$ 4.87 & 8.3\\% $\\pm$ 2.1& 7.05 \\\\ \n",
      "\n"
     ]
    }
   ],
   "source": [
    "get_table_for_csv(score_report)"
   ]
  },
  {
   "cell_type": "code",
   "execution_count": 44,
   "metadata": {},
   "outputs": [
    {
     "name": "stdout",
     "output_type": "stream",
     "text": [
      "Accuracy & AF & 57.34\\% $\\pm$ 0.72 & 60.94\\% $\\pm$ 1.71 & 54.84\\% $\\pm$ 1.09& 57.71 \\\\ \n",
      " & GF & 52.03\\% $\\pm$ 1.22 & 56.56\\% $\\pm$ 0.62 & 55.47\\% $\\pm$ 1.05& 54.69 \\\\ \n",
      " & PF & 60.47\\% $\\pm$ 1.41 & 59.69\\% $\\pm$ 0.94 & 54.22\\% $\\pm$ 2.22& 58.13 \\\\ \n",
      " & & & & & \\\\ \n",
      "Log Loss & AF & 0.9673 $\\pm$ 0.0037 & 0.9362 $\\pm$ 0.0047 & 0.9922 $\\pm$ 0.0075& 0.9652 \\\\ \n",
      " & GF & 1.0122 $\\pm$ 0.0045 & 0.9549 $\\pm$ 0.0053 & 0.9676 $\\pm$ 0.0052& 0.9782 \\\\ \n",
      " & PF & 0.9406 $\\pm$ 0.0026 & 0.9503 $\\pm$ 0.0024 & 1.0118 $\\pm$ 0.0045& 0.9676 \\\\ \n",
      " & & & & & \\\\ \n",
      "Unit profit & AF & 6.39\\% $\\pm$ 1.96 & 15.65\\% $\\pm$ 5.21 & 2.93\\% $\\pm$ 4.43& 8.32 \\\\ \n",
      " & GF & -3.48\\% $\\pm$ 3.4 & 5.17\\% $\\pm$ 1.52 & 5.04\\% $\\pm$ 3.67& 2.24 \\\\ \n",
      " & PF & 18.38\\% $\\pm$ 4.26 & 12.72\\% $\\pm$ 2.22 & 3.32\\% $\\pm$ 8.33& 11.47 \\\\ \n",
      " & & & & & \\\\ \n",
      "Kelly profit & AF & -10.58\\% $\\pm$ 7.01 & 18.55\\% $\\pm$ 10.13 & 23.26\\% $\\pm$ 18.96& 10.41 \\\\ \n",
      " & GF & -47.32\\% $\\pm$ 4.1 & 2.86\\% $\\pm$ 8.15 & 48.9\\% $\\pm$ 16.64& 1.48 \\\\ \n",
      " & PF & 46.63\\% $\\pm$ 8.79 & 12.26\\% $\\pm$ 6.57 & 2.75\\% $\\pm$ 9.05& 20.55 \\\\ \n",
      "\n"
     ]
    }
   ],
   "source": [
    "get_table_for_csv(outcome_report)"
   ]
  },
  {
   "cell_type": "code",
   "execution_count": 35,
   "metadata": {
    "scrolled": true
   },
   "outputs": [
    {
     "name": "stdout",
     "output_type": "stream",
     "text": [
      "Accuracy & All features & 57.97\\% $\\pm$ 0.84 & 59.38\\% $\\pm$ 1.56 & 54.69\\% $\\pm$ 2.71& 57.35 \\\\ \n",
      " & General features & 52.34\\% $\\pm$ 1.05 & 56.41\\% $\\pm$ 1.63 & 55.0\\% $\\pm$ 1.36& 54.58 \\\\ \n",
      " & Player features & 60.0\\% $\\pm$ 1.74 & 59.84\\% $\\pm$ 1.0 & 53.44\\% $\\pm$ 2.6& 57.76 \\\\ \n",
      " &  & & &  \\\\ \n",
      "Log Loss & All features & 0.967 $\\pm$ 0.0074 & 0.9406 $\\pm$ 0.0068 & 0.9986 $\\pm$ 0.0108& 0.9687 \\\\ \n",
      " & General features & 1.0164 $\\pm$ 0.0041 & 0.9523 $\\pm$ 0.0049 & 0.9731 $\\pm$ 0.0056& 0.9806 \\\\ \n",
      " & Player features & 0.9417 $\\pm$ 0.0045 & 0.9619 $\\pm$ 0.0042 & 1.027 $\\pm$ 0.0124& 0.9769 \\\\ \n",
      " &  & & &  \\\\ \n",
      "Unit profit & All features & 10.32\\% $\\pm$ 2.51 & 13.42\\% $\\pm$ 4.27 & 4.18\\% $\\pm$ 9.87& 9.31 \\\\ \n",
      " & General features & -2.79\\% $\\pm$ 3.12 & 6.41\\% $\\pm$ 3.91 & 5.32\\% $\\pm$ 4.0& 2.98 \\\\ \n",
      " & Player features & 17.22\\% $\\pm$ 5.15 & 13.19\\% $\\pm$ 2.11 & 6.03\\% $\\pm$ 9.49& 12.15 \\\\ \n",
      " &  & & &  \\\\ \n",
      "Kelly profit & All features & -2.39\\% $\\pm$ 12.86 & 21.99\\% $\\pm$ 8.52 & 30.88\\% $\\pm$ 26.35& 16.83 \\\\ \n",
      " & General features & -49.3\\% $\\pm$ 4.23 & 17.84\\% $\\pm$ 15.34 & 43.93\\% $\\pm$ 14.94& 4.16 \\\\ \n",
      " & Player features & 45.27\\% $\\pm$ 10.48 & -8.79\\% $\\pm$ 5.58 & -5.08\\% $\\pm$ 17.59& 10.47 \\\\ \n",
      "\n"
     ]
    }
   ],
   "source": [
    "get_table_for_csv(gboost_report)"
   ]
  },
  {
   "cell_type": "code",
   "execution_count": 45,
   "metadata": {},
   "outputs": [
    {
     "name": "stdout",
     "output_type": "stream",
     "text": [
      "Accuracy & AF & 54.84\\% $\\pm$ 0.84 & 63.59\\% $\\pm$ 0.72 & 51.41\\% $\\pm$ 1.3& 56.61 \\\\ \n",
      " & GF & 51.72\\% $\\pm$ 1.09 & 63.28\\% $\\pm$ 1.26 & 54.37\\% $\\pm$ 1.53& 56.46 \\\\ \n",
      " & PF & 59.69\\% $\\pm$ 0.62 & 62.19\\% $\\pm$ 0.62 & 50.78\\% $\\pm$ 0.78& 57.55 \\\\ \n",
      " & & & & & \\\\ \n",
      "Log Loss & AF & 0.9719 $\\pm$ 0.0043 & 0.8791 $\\pm$ 0.0025 & 1.0418 $\\pm$ 0.0071& 0.9643 \\\\ \n",
      " & GF & 0.9953 $\\pm$ 0.0041 & 0.9112 $\\pm$ 0.0035 & 0.9837 $\\pm$ 0.0028& 0.9634 \\\\ \n",
      " & PF & 0.9334 $\\pm$ 0.0017 & 0.9311 $\\pm$ 0.0032 & 1.0563 $\\pm$ 0.0064& 0.9736 \\\\ \n",
      " & & & & & \\\\ \n",
      "Unit profit & AF & 0.79\\% $\\pm$ 1.51 & 27.73\\% $\\pm$ 3.09 & -5.11\\% $\\pm$ 3.88& 7.8 \\\\ \n",
      " & GF & -3.75\\% $\\pm$ 2.07 & 24.57\\% $\\pm$ 4.51 & -0.28\\% $\\pm$ 5.87& 6.85 \\\\ \n",
      " & PF & 14.73\\% $\\pm$ 1.93 & 21.98\\% $\\pm$ 2.7 & -8.95\\% $\\pm$ 2.03& 9.25 \\\\ \n",
      " & & & & & \\\\ \n",
      "Kelly profit & AF & -20.29\\% $\\pm$ 5.49 & 271.57\\% $\\pm$ 25.03 & -43.87\\% $\\pm$ 5.37& 69.14 \\\\ \n",
      " & GF & -36.47\\% $\\pm$ 3.66 & 125.73\\% $\\pm$ 11.94 & 8.75\\% $\\pm$ 10.44& 32.67 \\\\ \n",
      " & PF & 55.93\\% $\\pm$ 4.8 & 52.77\\% $\\pm$ 8.74 & -49.56\\% $\\pm$ 4.26& 19.71 \\\\ \n",
      "\n"
     ]
    }
   ],
   "source": [
    "get_table_for_csv(lr_report)"
   ]
  }
 ],
 "metadata": {
  "kernelspec": {
   "display_name": "Python 3",
   "language": "python",
   "name": "python3"
  },
  "language_info": {
   "codemirror_mode": {
    "name": "ipython",
    "version": 3
   },
   "file_extension": ".py",
   "mimetype": "text/x-python",
   "name": "python",
   "nbconvert_exporter": "python",
   "pygments_lexer": "ipython3",
   "version": "3.6.5"
  }
 },
 "nbformat": 4,
 "nbformat_minor": 2
}
