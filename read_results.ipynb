{
 "cells": [
  {
   "cell_type": "code",
   "execution_count": 2,
   "metadata": {},
   "outputs": [],
   "source": [
    "import pandas as pd\n",
    "import numpy as np"
   ]
  },
  {
   "cell_type": "code",
   "execution_count": 3,
   "metadata": {},
   "outputs": [],
   "source": [
    "onevsrest_report = pd.read_csv(\"results/onevsrest_model_report.csv\")\n",
    "score_report = pd.read_csv(\"results/score_model_report.csv\")\n",
    "outcome_report = pd.read_csv(\"results/outcome_model_report.csv\")\n",
    "gboost_report = pd.read_csv(\"results/gboost_outcome_model_report.csv\")\n",
    "lr_report = pd.read_csv(\"results/lr_model_report.csv\")"
   ]
  },
  {
   "cell_type": "code",
   "execution_count": 9,
   "metadata": {},
   "outputs": [
    {
     "data": {
      "text/plain": [
       "0.59375"
      ]
     },
     "execution_count": 9,
     "metadata": {},
     "output_type": "execute_result"
    }
   ],
   "source": [
    "score_report.loc[score_report[\"id\"] == \"all_features_2018-06-14\", \"acc_mu\"].item()"
   ]
  },
  {
   "cell_type": "code",
   "execution_count": 4,
   "metadata": {},
   "outputs": [],
   "source": [
    "timestamp_keys = [\"2018-06-14\", \"2014-06-12\", \"2010-06-11\"]\n",
    "feature_keys = [(\"all_features\", \"All features\"), (\"general_features\", \"General features\"), (\"player_features\", \"Player features\")]\n",
    "table_keys = [\n",
    "    (\"acc_mu\", \"acc_std\", \"Accuracy\", True, False), \n",
    "    (\"logloss_mu\", \"logloss_std\", \"Log Loss\", False, False), \n",
    "    (\"unit_mu\", \"unit_std\", \"Unit profit\", True, True),\n",
    "    (\"kelly_mu\", \"kelly_std\", \"Kelly profit\", True, True)\n",
    "]"
   ]
  },
  {
   "cell_type": "markdown",
   "metadata": {},
   "source": [
    "Accuracy & All Features & 51.56\\% $\\pm$ 0.0 & 51.56\\% $\\pm$ 0.0 & 51.56\\% $\\pm$ 0.0\\\\"
   ]
  },
  {
   "cell_type": "code",
   "execution_count": 5,
   "metadata": {},
   "outputs": [],
   "source": [
    "def get_value(dataset, id_name, column, percentage=True, profit=False, round_dec=2):\n",
    "    value = dataset.loc[dataset[\"id\"] == id_name, column].item()\n",
    "    if percentage:\n",
    "        value *= 100\n",
    "        if profit:\n",
    "            value -= 100\n",
    "    return np.around(value, round_dec)"
   ]
  },
  {
   "cell_type": "code",
   "execution_count": 31,
   "metadata": {},
   "outputs": [
    {
     "data": {
      "text/plain": [
       "0.0046875"
      ]
     },
     "execution_count": 31,
     "metadata": {},
     "output_type": "execute_result"
    }
   ],
   "source": [
    "float(onevsrest_report.loc[onevsrest_report[\"id\"] == \"all_features_2018-06-14\", \"acc_std\"].item())"
   ]
  },
  {
   "cell_type": "code",
   "execution_count": 6,
   "metadata": {},
   "outputs": [],
   "source": [
    "def get_table_for_csv(csv_file):\n",
    "    str = \"\"\n",
    "    for tk_idx, tk in enumerate(table_keys):\n",
    "        for fk_idx, fk in enumerate(feature_keys):\n",
    "            if fk_idx == 0:\n",
    "                    str += f\"{tk[2]} & \"\n",
    "            else:\n",
    "                str += f\" & \"\n",
    "            str += f\"{fk[1]} & \"\n",
    "            for ts_idx, ts in enumerate(timestamp_keys):\n",
    "                f_key = f\"{fk[0]}_{ts}\"\n",
    "                mu = get_value(csv_file, f_key , tk[0], percentage=tk[3], profit=tk[4])\n",
    "                std = get_value(csv_file, f_key , tk[1], percentage=tk[3], profit=False)\n",
    "                per_sign = \"\\%\" if tk[3] else ''\n",
    "                str += f\"{mu}{per_sign} $\\pm$ {std}\"\n",
    "                if ts_idx == len(timestamp_keys) - 1:\n",
    "                    str += \" \\\\\"\n",
    "                    str += \"\\\\ \\n\"\n",
    "                else:\n",
    "                    str += \" & \"\n",
    "            if fk_idx == len(feature_keys) - 1 and tk_idx < len(table_keys) - 1:\n",
    "                str += \" &  & & & \"\n",
    "                str += \" \\\\\"\n",
    "                str += \"\\\\ \\n\"\n",
    "\n",
    "            else:\n",
    "                str += \"\"\n",
    "    print(str)"
   ]
  },
  {
   "cell_type": "code",
   "execution_count": 62,
   "metadata": {},
   "outputs": [
    {
     "name": "stdout",
     "output_type": "stream",
     "text": [
      "Accuracy & All features & 57.66\\% $\\pm$ 0.47 & 57.34\\% $\\pm$ 1.22 & 56.09\\% $\\pm$ 0.84 \\\\ \n",
      " & General features & 51.25\\% $\\pm$ 1.95 & 55.16\\% $\\pm$ 1.57 & 57.03\\% $\\pm$ 1.05 \\\\ \n",
      " & Player features & 61.09\\% $\\pm$ 1.3 & 60.16\\% $\\pm$ 1.05 & 54.37\\% $\\pm$ 1.36 \\\\ \n",
      " &  & & &  \\\\ \n",
      "Log Loss & All features & 0.96 $\\pm$ 0.0 & 0.94 $\\pm$ 0.0 & 0.98 $\\pm$ 0.01 \\\\ \n",
      " & General features & 1.01 $\\pm$ 0.01 & 0.95 $\\pm$ 0.01 & 0.96 $\\pm$ 0.01 \\\\ \n",
      " & Player features & 0.94 $\\pm$ 0.0 & 0.96 $\\pm$ 0.0 & 1.01 $\\pm$ 0.01 \\\\ \n",
      " &  & & &  \\\\ \n",
      "Unit profit & All features & 7.31\\% $\\pm$ 1.04 & 5.01\\% $\\pm$ 2.93 & 6.52\\% $\\pm$ 2.97 \\\\ \n",
      " & General features & -5.03\\% $\\pm$ 4.84 & 3.04\\% $\\pm$ 4.31 & 10.38\\% $\\pm$ 3.38 \\\\ \n",
      " & Player features & 19.83\\% $\\pm$ 4.01 & 14.14\\% $\\pm$ 2.82 & 3.88\\% $\\pm$ 5.11 \\\\ \n",
      " &  & & &  \\\\ \n",
      "Kelly profit & All features & -2.6\\% $\\pm$ 6.57 & 9.34\\% $\\pm$ 8.69 & 26.26\\% $\\pm$ 10.92 \\\\ \n",
      " & General features & -44.81\\% $\\pm$ 3.96 & 14.61\\% $\\pm$ 13.1 & 83.44\\% $\\pm$ 23.89 \\\\ \n",
      " & Player features & 61.65\\% $\\pm$ 9.88 & -3.92\\% $\\pm$ 4.68 & 0.77\\% $\\pm$ 7.02 \\\\ \n",
      "\n"
     ]
    }
   ],
   "source": [
    "get_table_for_csv(onevsrest_report)"
   ]
  },
  {
   "cell_type": "code",
   "execution_count": 63,
   "metadata": {},
   "outputs": [
    {
     "name": "stdout",
     "output_type": "stream",
     "text": [
      "Accuracy & All features & 59.38\\% $\\pm$ 0.0 & 58.13\\% $\\pm$ 0.62 & 52.81\\% $\\pm$ 0.62 \\\\ \n",
      " & General features & 52.03\\% $\\pm$ 1.0 & 59.38\\% $\\pm$ 0.0 & 50.94\\% $\\pm$ 0.77 \\\\ \n",
      " & Player features & 58.44\\% $\\pm$ 1.74 & 61.09\\% $\\pm$ 0.84 & 53.91\\% $\\pm$ 0.78 \\\\ \n",
      " &  & & &  \\\\ \n",
      "Log Loss & All features & 0.95 $\\pm$ 0.0 & 0.94 $\\pm$ 0.0 & 0.98 $\\pm$ 0.0 \\\\ \n",
      " & General features & 0.98 $\\pm$ 0.0 & 0.91 $\\pm$ 0.0 & 0.95 $\\pm$ 0.0 \\\\ \n",
      " & Player features & 0.96 $\\pm$ 0.0 & 0.94 $\\pm$ 0.0 & 1.0 $\\pm$ 0.0 \\\\ \n",
      " &  & & &  \\\\ \n",
      "Unit profit & All features & 13.52\\% $\\pm$ 0.0 & 5.94\\% $\\pm$ 2.11 & -2.8\\% $\\pm$ 1.29 \\\\ \n",
      " & General features & -5.4\\% $\\pm$ 2.57 & 13.66\\% $\\pm$ 0.0 & -5.08\\% $\\pm$ 2.45 \\\\ \n",
      " & Player features & 12.26\\% $\\pm$ 5.1 & 16.11\\% $\\pm$ 2.64 & 2.23\\% $\\pm$ 2.09 \\\\ \n",
      " &  & & &  \\\\ \n",
      "Kelly profit & All features & 35.59\\% $\\pm$ 4.45 & 12.37\\% $\\pm$ 1.02 & 24.2\\% $\\pm$ 4.43 \\\\ \n",
      " & General features & -19.06\\% $\\pm$ 1.87 & 107.61\\% $\\pm$ 4.47 & 99.75\\% $\\pm$ 3.63 \\\\ \n",
      " & Player features & 2.04\\% $\\pm$ 2.62 & 10.82\\% $\\pm$ 4.87 & 8.3\\% $\\pm$ 2.1 \\\\ \n",
      "\n"
     ]
    }
   ],
   "source": [
    "get_table_for_csv(score_report)"
   ]
  },
  {
   "cell_type": "code",
   "execution_count": 64,
   "metadata": {},
   "outputs": [
    {
     "name": "stdout",
     "output_type": "stream",
     "text": [
      "Accuracy & All features & 57.34\\% $\\pm$ 0.72 & 60.94\\% $\\pm$ 1.71 & 54.84\\% $\\pm$ 1.09 \\\\ \n",
      " & General features & 52.03\\% $\\pm$ 1.22 & 56.56\\% $\\pm$ 0.62 & 55.47\\% $\\pm$ 1.05 \\\\ \n",
      " & Player features & 60.47\\% $\\pm$ 1.41 & 59.69\\% $\\pm$ 0.94 & 54.22\\% $\\pm$ 2.22 \\\\ \n",
      " &  & & &  \\\\ \n",
      "Log Loss & All features & 0.97 $\\pm$ 0.0 & 0.94 $\\pm$ 0.0 & 0.99 $\\pm$ 0.01 \\\\ \n",
      " & General features & 1.01 $\\pm$ 0.0 & 0.95 $\\pm$ 0.01 & 0.97 $\\pm$ 0.01 \\\\ \n",
      " & Player features & 0.94 $\\pm$ 0.0 & 0.95 $\\pm$ 0.0 & 1.01 $\\pm$ 0.0 \\\\ \n",
      " &  & & &  \\\\ \n",
      "Unit profit & All features & 6.39\\% $\\pm$ 1.96 & 15.65\\% $\\pm$ 5.21 & 2.93\\% $\\pm$ 4.43 \\\\ \n",
      " & General features & -3.48\\% $\\pm$ 3.4 & 5.17\\% $\\pm$ 1.52 & 5.04\\% $\\pm$ 3.67 \\\\ \n",
      " & Player features & 18.38\\% $\\pm$ 4.26 & 12.72\\% $\\pm$ 2.22 & 3.32\\% $\\pm$ 8.33 \\\\ \n",
      " &  & & &  \\\\ \n",
      "Kelly profit & All features & -10.58\\% $\\pm$ 7.01 & 18.55\\% $\\pm$ 10.13 & 23.26\\% $\\pm$ 18.96 \\\\ \n",
      " & General features & -47.32\\% $\\pm$ 4.1 & 2.86\\% $\\pm$ 8.15 & 48.9\\% $\\pm$ 16.64 \\\\ \n",
      " & Player features & 46.63\\% $\\pm$ 8.79 & 12.26\\% $\\pm$ 6.57 & 2.75\\% $\\pm$ 9.05 \\\\ \n",
      "\n"
     ]
    }
   ],
   "source": [
    "get_table_for_csv(outcome_report)"
   ]
  },
  {
   "cell_type": "code",
   "execution_count": 7,
   "metadata": {
    "scrolled": true
   },
   "outputs": [
    {
     "name": "stdout",
     "output_type": "stream",
     "text": [
      "Accuracy & All features & 57.97\\% $\\pm$ 0.84 & 59.38\\% $\\pm$ 1.56 & 54.69\\% $\\pm$ 2.71 \\\\ \n",
      " & General features & 52.34\\% $\\pm$ 1.05 & 56.41\\% $\\pm$ 1.63 & 55.0\\% $\\pm$ 1.36 \\\\ \n",
      " & Player features & 60.0\\% $\\pm$ 1.74 & 59.84\\% $\\pm$ 1.0 & 53.44\\% $\\pm$ 2.6 \\\\ \n",
      " &  & & &  \\\\ \n",
      "Log Loss & All features & 0.97 $\\pm$ 0.01 & 0.94 $\\pm$ 0.01 & 1.0 $\\pm$ 0.01 \\\\ \n",
      " & General features & 1.02 $\\pm$ 0.0 & 0.95 $\\pm$ 0.0 & 0.97 $\\pm$ 0.01 \\\\ \n",
      " & Player features & 0.94 $\\pm$ 0.0 & 0.96 $\\pm$ 0.0 & 1.03 $\\pm$ 0.01 \\\\ \n",
      " &  & & &  \\\\ \n",
      "Unit profit & All features & 10.32\\% $\\pm$ 2.51 & 13.42\\% $\\pm$ 4.27 & 4.18\\% $\\pm$ 9.87 \\\\ \n",
      " & General features & -2.79\\% $\\pm$ 3.12 & 6.41\\% $\\pm$ 3.91 & 5.32\\% $\\pm$ 4.0 \\\\ \n",
      " & Player features & 17.22\\% $\\pm$ 5.15 & 13.19\\% $\\pm$ 2.11 & 6.03\\% $\\pm$ 9.49 \\\\ \n",
      " &  & & &  \\\\ \n",
      "Kelly profit & All features & -2.39\\% $\\pm$ 12.86 & 21.99\\% $\\pm$ 8.52 & 30.88\\% $\\pm$ 26.35 \\\\ \n",
      " & General features & -49.3\\% $\\pm$ 4.23 & 17.84\\% $\\pm$ 15.34 & 43.93\\% $\\pm$ 14.94 \\\\ \n",
      " & Player features & 45.27\\% $\\pm$ 10.48 & -8.79\\% $\\pm$ 5.58 & -5.08\\% $\\pm$ 17.59 \\\\ \n",
      "\n"
     ]
    }
   ],
   "source": [
    "get_table_for_csv(gboost_report)"
   ]
  },
  {
   "cell_type": "code",
   "execution_count": 8,
   "metadata": {},
   "outputs": [
    {
     "name": "stdout",
     "output_type": "stream",
     "text": [
      "Accuracy & All features & 54.84\\% $\\pm$ 0.84 & 63.59\\% $\\pm$ 0.72 & 51.41\\% $\\pm$ 1.3 \\\\ \n",
      " & General features & 51.72\\% $\\pm$ 1.09 & 63.28\\% $\\pm$ 1.26 & 54.37\\% $\\pm$ 1.53 \\\\ \n",
      " & Player features & 59.69\\% $\\pm$ 0.62 & 62.19\\% $\\pm$ 0.62 & 50.78\\% $\\pm$ 0.78 \\\\ \n",
      " &  & & &  \\\\ \n",
      "Log Loss & All features & 0.97 $\\pm$ 0.0 & 0.88 $\\pm$ 0.0 & 1.04 $\\pm$ 0.01 \\\\ \n",
      " & General features & 1.0 $\\pm$ 0.0 & 0.91 $\\pm$ 0.0 & 0.98 $\\pm$ 0.0 \\\\ \n",
      " & Player features & 0.93 $\\pm$ 0.0 & 0.93 $\\pm$ 0.0 & 1.06 $\\pm$ 0.01 \\\\ \n",
      " &  & & &  \\\\ \n",
      "Unit profit & All features & 0.79\\% $\\pm$ 1.51 & 27.73\\% $\\pm$ 3.09 & -5.11\\% $\\pm$ 3.88 \\\\ \n",
      " & General features & -3.75\\% $\\pm$ 2.07 & 24.57\\% $\\pm$ 4.51 & -0.28\\% $\\pm$ 5.87 \\\\ \n",
      " & Player features & 14.73\\% $\\pm$ 1.93 & 21.98\\% $\\pm$ 2.7 & -8.95\\% $\\pm$ 2.03 \\\\ \n",
      " &  & & &  \\\\ \n",
      "Kelly profit & All features & -20.29\\% $\\pm$ 5.49 & 271.57\\% $\\pm$ 25.03 & -43.87\\% $\\pm$ 5.37 \\\\ \n",
      " & General features & -36.47\\% $\\pm$ 3.66 & 125.73\\% $\\pm$ 11.94 & 8.75\\% $\\pm$ 10.44 \\\\ \n",
      " & Player features & 55.93\\% $\\pm$ 4.8 & 52.77\\% $\\pm$ 8.74 & -49.56\\% $\\pm$ 4.26 \\\\ \n",
      "\n"
     ]
    }
   ],
   "source": [
    "get_table_for_csv(lr_report)"
   ]
  }
 ],
 "metadata": {
  "kernelspec": {
   "display_name": "Python 3",
   "language": "python",
   "name": "python3"
  },
  "language_info": {
   "codemirror_mode": {
    "name": "ipython",
    "version": 3
   },
   "file_extension": ".py",
   "mimetype": "text/x-python",
   "name": "python",
   "nbconvert_exporter": "python",
   "pygments_lexer": "ipython3",
   "version": "3.6.5"
  }
 },
 "nbformat": 4,
 "nbformat_minor": 2
}
