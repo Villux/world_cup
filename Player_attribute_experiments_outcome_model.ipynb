{
 "cells": [
  {
   "cell_type": "code",
   "execution_count": 1,
   "metadata": {
    "collapsed": true
   },
   "outputs": [],
   "source": [
    "import numpy as np\n",
    "import pandas as pd\n",
    "from sklearn.model_selection import cross_val_score\n",
    "from sklearn.metrics import confusion_matrix\n",
    "\n",
    "from features.data_provider import get_feature_columns, get_whole_dataset, set_feature_columns\n",
    "from simulation.predictor import MaxProbabilityOutcomePredictor\n",
    "from models.outcome_model import get_model\n",
    "from simulation.analyse import get_win_probabilities, get_simulations\n",
    "from simulation.simulation import run_actual_tournament_simulation\n",
    "from db.simulation_table import get_simulation_results, delete_all\n",
    "from notebook_helpers import plot_bank_and_bets, run_unit_strategy, run_kelly_strategy"
   ]
  },
  {
   "cell_type": "code",
   "execution_count": 2,
   "metadata": {
    "collapsed": true
   },
   "outputs": [],
   "source": [
    "all_features = get_feature_columns()\n",
    "player_features = ['rating_diff', 'potential_diff', 'height_diff','weight_diff','age_diff',\n",
    "                   'weak_foot_diff','internationl_repuatiotion_diff','crossing_diff','finishing_diff',\n",
    "                   'heading_accuracy_diff','short_passing_diff','dribbling_diff','fk_accuracy_diff',\n",
    "                   'long_passing_diff','ball_control_diff','acceleration_diff','sprint_speed_diff',\n",
    "                   'reactions_diff','shot_power_diff','stamina_diff','strength_diff','long_shots_diff',\n",
    "                   'aggression_diff','penalties_diff','marking_diff','standing_tackle_diff',\n",
    "                  'gk_diving_diff', 'gk_handling_diff', 'gk_kicking_diff', 'gk_reflexes_diff']\n",
    "\n",
    "other_features = ['elo_diff', 'away_goal_mean', 'away_goals_with_home', \n",
    "                  'goal_diff_with_away', 'home_goal_mean', 'home_goals_with_away']\n",
    "\n",
    "assert (len(player_features) + len(other_features)) == len(all_features)"
   ]
  },
  {
   "cell_type": "code",
   "execution_count": 3,
   "metadata": {
    "collapsed": true
   },
   "outputs": [],
   "source": [
    "def simulate_betting_strategies(features, match_template_file, bet_file, filter_start=None, filter_end=None):\n",
    "    unit_banks = []\n",
    "    kelly_banks = []\n",
    "    accuracies = []\n",
    "\n",
    "    set_feature_columns(features)\n",
    "    \n",
    "    X, y = get_whole_dataset(\"home_win\", filter_start=filter_start, filter_end=filter_end)\n",
    "\n",
    "    print(X.shape)\n",
    "    for i in range(10):\n",
    "        model = get_model(X=X, y=y, n_estimators=500)\n",
    "        predictor = MaxProbabilityOutcomePredictor(model)\n",
    "        match_template = pd.read_csv(match_template_file)\n",
    "        run_actual_tournament_simulation(match_template, predictor)\n",
    "        tournament_simulation = get_simulation_results()\n",
    "        tournament_simulation[\"true_outcome\"] = np.sign(tournament_simulation[\"home_score\"] - tournament_simulation[\"away_score\"])\n",
    "        delete_all()\n",
    "\n",
    "        accuracy = sum(tournament_simulation[\"outcome\"] == tournament_simulation[\"true_outcome\"]) / tournament_simulation.shape[0]\n",
    "        accuracies.append(accuracy)\n",
    "\n",
    "        match_bets = pd.read_csv(bet_file)\n",
    "\n",
    "        y_pred = tournament_simulation[\"outcome\"].values\n",
    "        y_true = tournament_simulation[\"true_outcome\"].values\n",
    "        odds = match_bets[[\"1\", \"X\", \"2\"]].values\n",
    "        unit_bank = run_unit_strategy(y_pred, y_true, odds)\n",
    "\n",
    "        probabilities = tournament_simulation[[\"home_win_prob\", \"draw_prob\", \"away_win_prob\"]].values\n",
    "        kelly_bank = run_kelly_strategy(y_true, odds, probabilities)\n",
    "\n",
    "        unit_banks.append(unit_bank)\n",
    "        kelly_banks.append(kelly_bank)\n",
    "\n",
    "    return accuracies, unit_banks, kelly_banks"
   ]
  },
  {
   "cell_type": "code",
   "execution_count": 4,
   "metadata": {
    "collapsed": true
   },
   "outputs": [],
   "source": [
    "#### WC 2018\n",
    "match_template = 'data/original/wc_2018_games_real.csv'\n",
    "betting_file = 'data/original/wc_2018_bets.csv'"
   ]
  },
  {
   "cell_type": "code",
   "execution_count": 5,
   "metadata": {},
   "outputs": [
    {
     "name": "stdout",
     "output_type": "stream",
     "text": [
      "(8124, 36)\n",
      "AVG Accuracy:  0.5703125\n",
      "AVG Unit bank:  67.795\n",
      "AVG Kelly bank:  81.5687295396\n"
     ]
    }
   ],
   "source": [
    "acc, unit, kelly = simulate_betting_strategies(all_features, match_template, betting_file)\n",
    "print(\"AVG Accuracy: \", np.mean(acc))\n",
    "print(\"AVG Unit bank: \", np.mean(unit))\n",
    "print(\"AVG Kelly bank: \", np.mean(kelly))"
   ]
  },
  {
   "cell_type": "code",
   "execution_count": 6,
   "metadata": {},
   "outputs": [
    {
     "name": "stdout",
     "output_type": "stream",
     "text": [
      "(8124, 6)\n",
      "AVG Accuracy:  0.515625\n",
      "AVG Unit bank:  60.19\n",
      "AVG Kelly bank:  37.9295302604\n"
     ]
    }
   ],
   "source": [
    "acc, unit, kelly = simulate_betting_strategies(other_features, match_template, betting_file)\n",
    "print(\"AVG Accuracy: \", np.mean(acc))\n",
    "print(\"AVG Unit bank: \", np.mean(unit))\n",
    "print(\"AVG Kelly bank: \", np.mean(kelly))"
   ]
  },
  {
   "cell_type": "code",
   "execution_count": 7,
   "metadata": {},
   "outputs": [
    {
     "name": "stdout",
     "output_type": "stream",
     "text": [
      "(8124, 30)\n",
      "AVG Accuracy:  0.6078125\n",
      "AVG Unit bank:  76.411\n",
      "AVG Kelly bank:  99.6474080705\n"
     ]
    }
   ],
   "source": [
    "acc, unit, kelly = simulate_betting_strategies(player_features, match_template, betting_file)\n",
    "print(\"AVG Accuracy: \", np.mean(acc))\n",
    "print(\"AVG Unit bank: \", np.mean(unit))\n",
    "print(\"AVG Kelly bank: \", np.mean(kelly))"
   ]
  },
  {
   "cell_type": "code",
   "execution_count": 8,
   "metadata": {
    "collapsed": true
   },
   "outputs": [],
   "source": [
    "#### WC 2014\n",
    "match_template = 'data/original/wc_2014_games_real.csv'\n",
    "betting_file = 'data/original/wc_2014_bets.csv'"
   ]
  },
  {
   "cell_type": "code",
   "execution_count": 9,
   "metadata": {},
   "outputs": [
    {
     "name": "stdout",
     "output_type": "stream",
     "text": [
      "(5153, 36)\n",
      "AVG Accuracy:  0.6203125\n",
      "AVG Unit bank:  76.918\n",
      "AVG Kelly bank:  71.7821926059\n"
     ]
    }
   ],
   "source": [
    "acc, unit, kelly = simulate_betting_strategies(all_features, match_template, betting_file,\n",
    "                                              filter_start=\"2014-06-12\")\n",
    "print(\"AVG Accuracy: \", np.mean(acc))\n",
    "print(\"AVG Unit bank: \", np.mean(unit))\n",
    "print(\"AVG Kelly bank: \", np.mean(kelly))"
   ]
  },
  {
   "cell_type": "code",
   "execution_count": 10,
   "metadata": {},
   "outputs": [
    {
     "name": "stdout",
     "output_type": "stream",
     "text": [
      "(5153, 6)\n"
     ]
    },
    {
     "name": "stderr",
     "output_type": "stream",
     "text": [
      "/Users/villetoiviainen/Documents/dev/world_cup/notebook_helpers.py:12: RuntimeWarning: invalid value encountered in log\n",
      "  return -(p1 * np.log(1 + o1*a - b - c) + p2 * np.log(1 + o2*b - a - c) + p3*np.log(1 + o3*c - a - b))\n",
      "/Users/villetoiviainen/Documents/dev/world_cup/notebook_helpers.py:12: RuntimeWarning: invalid value encountered in log\n",
      "  return -(p1 * np.log(1 + o1*a - b - c) + p2 * np.log(1 + o2*b - a - c) + p3*np.log(1 + o3*c - a - b))\n",
      "/Users/villetoiviainen/Documents/dev/world_cup/notebook_helpers.py:12: RuntimeWarning: invalid value encountered in log\n",
      "  return -(p1 * np.log(1 + o1*a - b - c) + p2 * np.log(1 + o2*b - a - c) + p3*np.log(1 + o3*c - a - b))\n"
     ]
    },
    {
     "name": "stdout",
     "output_type": "stream",
     "text": [
      "AVG Accuracy:  0.578125\n",
      "AVG Unit bank:  70.11\n",
      "AVG Kelly bank:  99.2778135356\n"
     ]
    }
   ],
   "source": [
    "acc, unit, kelly = simulate_betting_strategies(other_features, match_template, betting_file,\n",
    "                                               filter_start=\"2014-06-12\")\n",
    "print(\"AVG Accuracy: \", np.mean(acc))\n",
    "print(\"AVG Unit bank: \", np.mean(unit))\n",
    "print(\"AVG Kelly bank: \", np.mean(kelly))"
   ]
  },
  {
   "cell_type": "code",
   "execution_count": 11,
   "metadata": {},
   "outputs": [
    {
     "name": "stdout",
     "output_type": "stream",
     "text": [
      "(5153, 30)\n"
     ]
    },
    {
     "name": "stderr",
     "output_type": "stream",
     "text": [
      "/Users/villetoiviainen/Documents/dev/world_cup/notebook_helpers.py:12: RuntimeWarning: invalid value encountered in log\n",
      "  return -(p1 * np.log(1 + o1*a - b - c) + p2 * np.log(1 + o2*b - a - c) + p3*np.log(1 + o3*c - a - b))\n",
      "/Users/villetoiviainen/Documents/dev/world_cup/notebook_helpers.py:12: RuntimeWarning: invalid value encountered in log\n",
      "  return -(p1 * np.log(1 + o1*a - b - c) + p2 * np.log(1 + o2*b - a - c) + p3*np.log(1 + o3*c - a - b))\n",
      "/Users/villetoiviainen/Documents/dev/world_cup/notebook_helpers.py:12: RuntimeWarning: invalid value encountered in log\n",
      "  return -(p1 * np.log(1 + o1*a - b - c) + p2 * np.log(1 + o2*b - a - c) + p3*np.log(1 + o3*c - a - b))\n"
     ]
    },
    {
     "name": "stdout",
     "output_type": "stream",
     "text": [
      "AVG Accuracy:  0.5859375\n",
      "AVG Unit bank:  70.088\n",
      "AVG Kelly bank:  53.6713158025\n"
     ]
    },
    {
     "name": "stderr",
     "output_type": "stream",
     "text": [
      "/Users/villetoiviainen/Documents/dev/world_cup/notebook_helpers.py:12: RuntimeWarning: invalid value encountered in log\n",
      "  return -(p1 * np.log(1 + o1*a - b - c) + p2 * np.log(1 + o2*b - a - c) + p3*np.log(1 + o3*c - a - b))\n"
     ]
    }
   ],
   "source": [
    "acc, unit, kelly = simulate_betting_strategies(player_features, match_template, betting_file,\n",
    "                                               filter_start=\"2014-06-12\")\n",
    "print(\"AVG Accuracy: \", np.mean(acc))\n",
    "print(\"AVG Unit bank: \", np.mean(unit))\n",
    "print(\"AVG Kelly bank: \", np.mean(kelly))"
   ]
  },
  {
   "cell_type": "code",
   "execution_count": 12,
   "metadata": {
    "collapsed": true
   },
   "outputs": [],
   "source": [
    "#### WC 2010\n",
    "match_template = 'data/original/wc_2010_games_real.csv'\n",
    "betting_file = 'data/original/wc_2010_bets.csv'"
   ]
  },
  {
   "cell_type": "code",
   "execution_count": 13,
   "metadata": {},
   "outputs": [
    {
     "name": "stdout",
     "output_type": "stream",
     "text": [
      "(2119, 36)\n",
      "AVG Accuracy:  0.528125\n",
      "AVG Unit bank:  60.828\n",
      "AVG Kelly bank:  62.7681966669\n"
     ]
    }
   ],
   "source": [
    "acc, unit, kelly = simulate_betting_strategies(all_features, match_template, betting_file,\n",
    "                                              filter_start=\"2010-06-12\")\n",
    "print(\"AVG Accuracy: \", np.mean(acc))\n",
    "print(\"AVG Unit bank: \", np.mean(unit))\n",
    "print(\"AVG Kelly bank: \", np.mean(kelly))"
   ]
  },
  {
   "cell_type": "code",
   "execution_count": 14,
   "metadata": {},
   "outputs": [
    {
     "name": "stdout",
     "output_type": "stream",
     "text": [
      "(2119, 6)\n"
     ]
    },
    {
     "name": "stderr",
     "output_type": "stream",
     "text": [
      "/Users/villetoiviainen/Documents/dev/world_cup/notebook_helpers.py:12: RuntimeWarning: invalid value encountered in log\n",
      "  return -(p1 * np.log(1 + o1*a - b - c) + p2 * np.log(1 + o2*b - a - c) + p3*np.log(1 + o3*c - a - b))\n",
      "/Users/villetoiviainen/Documents/dev/world_cup/notebook_helpers.py:12: RuntimeWarning: invalid value encountered in log\n",
      "  return -(p1 * np.log(1 + o1*a - b - c) + p2 * np.log(1 + o2*b - a - c) + p3*np.log(1 + o3*c - a - b))\n"
     ]
    },
    {
     "name": "stdout",
     "output_type": "stream",
     "text": [
      "AVG Accuracy:  0.5578125\n",
      "AVG Unit bank:  66.519\n",
      "AVG Kelly bank:  101.148833191\n"
     ]
    }
   ],
   "source": [
    "acc, unit, kelly = simulate_betting_strategies(other_features, match_template, betting_file,\n",
    "                                               filter_start=\"2010-06-12\")\n",
    "print(\"AVG Accuracy: \", np.mean(acc))\n",
    "print(\"AVG Unit bank: \", np.mean(unit))\n",
    "print(\"AVG Kelly bank: \", np.mean(kelly))"
   ]
  },
  {
   "cell_type": "code",
   "execution_count": 15,
   "metadata": {},
   "outputs": [
    {
     "name": "stdout",
     "output_type": "stream",
     "text": [
      "(2119, 30)\n",
      "AVG Accuracy:  0.540625\n",
      "AVG Unit bank:  64.174\n",
      "AVG Kelly bank:  54.374098658\n"
     ]
    }
   ],
   "source": [
    "acc, unit, kelly = simulate_betting_strategies(player_features, match_template, betting_file,\n",
    "                                               filter_start=\"2010-06-12\")\n",
    "print(\"AVG Accuracy: \", np.mean(acc))\n",
    "print(\"AVG Unit bank: \", np.mean(unit))\n",
    "print(\"AVG Kelly bank: \", np.mean(kelly))"
   ]
  },
  {
   "cell_type": "code",
   "execution_count": 16,
   "metadata": {},
   "outputs": [
    {
     "name": "stdout",
     "output_type": "stream",
     "text": [
      "Score:  0.550153846154\n",
      "Score:  0.544923076923\n",
      "Score:  0.532\n"
     ]
    }
   ],
   "source": [
    "from sklearn.model_selection import train_test_split\n",
    "\n",
    "for features_group in [all_features, other_features, player_features]:\n",
    "    set_feature_columns(features_group)\n",
    "    X, y = get_whole_dataset(\"home_win\")\n",
    "\n",
    "    X_train, X_test, y_train, y_test = train_test_split(X, y, test_size=0.4, random_state=0)\n",
    "    model = get_model(X=X_train, y=y_train, n_estimators=500)\n",
    "\n",
    "    score = model.score(X_test, y_test)\n",
    "    print(\"Score: \", score)"
   ]
  }
 ],
 "metadata": {
  "kernelspec": {
   "display_name": "Python 3",
   "language": "python",
   "name": "python3"
  },
  "language_info": {
   "codemirror_mode": {
    "name": "ipython",
    "version": 3
   },
   "file_extension": ".py",
   "mimetype": "text/x-python",
   "name": "python",
   "nbconvert_exporter": "python",
   "pygments_lexer": "ipython3",
   "version": "3.6.3"
  }
 },
 "nbformat": 4,
 "nbformat_minor": 2
}
