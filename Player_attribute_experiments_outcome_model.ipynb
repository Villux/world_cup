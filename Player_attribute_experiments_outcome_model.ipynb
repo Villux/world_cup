{
 "cells": [
  {
   "cell_type": "code",
   "execution_count": 1,
   "metadata": {},
   "outputs": [],
   "source": [
    "import numpy as np\n",
    "import pandas as pd\n",
    "from sklearn.model_selection import cross_val_score\n",
    "\n",
    "from features.data_provider import get_feature_columns, get_whole_dataset, set_feature_columns\n",
    "from simulation.predictor import MaxProbabilityOutcomePredictor\n",
    "from models.outcome_model import get_model\n",
    "from simulation.analyse import get_win_probabilities, get_simulations\n",
    "from simulation.simulation import run_actual_tournament_simulation\n",
    "from db.simulation_table import get_simulation_results, delete_all\n",
    "from notebook_helpers import plot_bank_and_bets, run_unit_strategy, run_kelly_strategy"
   ]
  },
  {
   "cell_type": "code",
   "execution_count": 2,
   "metadata": {},
   "outputs": [],
   "source": [
    "all_features = get_feature_columns()\n",
    "player_features = ['rating_diff', 'potential_diff', 'height_diff','weight_diff','age_diff',\n",
    "                   'weak_foot_diff','internationl_repuatiotion_diff','crossing_diff','finishing_diff',\n",
    "                   'heading_accuracy_diff','short_passing_diff','dribbling_diff','fk_accuracy_diff',\n",
    "                   'long_passing_diff','ball_control_diff','acceleration_diff','sprint_speed_diff',\n",
    "                   'reactions_diff','shot_power_diff','stamina_diff','strength_diff','long_shots_diff',\n",
    "                   'aggression_diff','penalties_diff','marking_diff','standing_tackle_diff',\n",
    "                  'gk_diving_diff', 'gk_handling_diff', 'gk_kicking_diff', 'gk_reflexes_diff']\n",
    "\n",
    "other_features = ['elo_diff', 'away_goal_mean', 'away_goals_with_home', \n",
    "                  'goal_diff_with_away', 'home_goal_mean', 'home_goals_with_away']\n",
    "\n",
    "assert (len(player_features) + len(other_features)) == len(all_features)"
   ]
  },
  {
   "cell_type": "code",
   "execution_count": 3,
   "metadata": {
    "collapsed": true
   },
   "outputs": [],
   "source": [
    "#### WC 2018"
   ]
  },
  {
   "cell_type": "code",
   "execution_count": 4,
   "metadata": {
    "collapsed": true
   },
   "outputs": [],
   "source": [
    "X, y = get_whole_dataset(\"home_win\")"
   ]
  },
  {
   "cell_type": "code",
   "execution_count": 5,
   "metadata": {},
   "outputs": [
    {
     "name": "stdout",
     "output_type": "stream",
     "text": [
      "(8124, 36)\n",
      "0.5734375\n",
      "68.179\n",
      "91.7368271917\n"
     ]
    }
   ],
   "source": [
    "unit_banks = []\n",
    "kelly_banks = []\n",
    "accuracies = []\n",
    "\n",
    "set_feature_columns(all_features)\n",
    "print(X.shape)\n",
    "for i in range(10):\n",
    "    model = get_model(X=X, y=y, n_estimators=500)\n",
    "    predictor = MaxProbabilityOutcomePredictor(model)\n",
    "    match_template = pd.read_csv('data/original/wc_2018_games_real.csv')\n",
    "    run_actual_tournament_simulation(match_template, predictor)\n",
    "    tournament_simulation = get_simulation_results()\n",
    "    tournament_simulation[\"true_outcome\"] = np.sign(tournament_simulation[\"home_score\"] - tournament_simulation[\"away_score\"])\n",
    "    delete_all()\n",
    "\n",
    "    accuracy = sum(tournament_simulation[\"outcome\"] == tournament_simulation[\"true_outcome\"]) / tournament_simulation.shape[0]\n",
    "    accuracies.append(accuracy)\n",
    "    \n",
    "    match_bets = pd.read_csv('data/original/wc_2018_bets.csv')\n",
    "\n",
    "    y_pred = tournament_simulation[\"outcome\"].values\n",
    "    y_true = tournament_simulation[\"true_outcome\"].values\n",
    "    odds = match_bets[[\"1\", \"X\", \"2\"]].values\n",
    "    unit_bank = run_unit_strategy(y_pred, y_true, odds)\n",
    "\n",
    "    probabilities = tournament_simulation[[\"home_win_prob\", \"draw_prob\", \"away_win_prob\"]].values\n",
    "    kelly_bank = run_kelly_strategy(y_pred, y_true, odds, probabilities)\n",
    "    \n",
    "    unit_banks.append(unit_bank)\n",
    "    kelly_banks.append(kelly_bank)\n",
    "\n",
    "print(np.mean(accuracies))\n",
    "print(np.mean(unit_banks))\n",
    "print(np.mean(kelly_banks))"
   ]
  },
  {
   "cell_type": "code",
   "execution_count": 6,
   "metadata": {
    "scrolled": false
   },
   "outputs": [
    {
     "name": "stdout",
     "output_type": "stream",
     "text": [
      "(8124, 6)\n",
      "0.5234375\n",
      "62.05\n",
      "38.5146511152\n"
     ]
    }
   ],
   "source": [
    "unit_banks = []\n",
    "kelly_banks = []\n",
    "accuracies = []\n",
    "\n",
    "set_feature_columns(other_features)\n",
    "subset_of_features = other_features\n",
    "Xsub = X[subset_of_features]\n",
    "print(Xsub.shape)\n",
    "\n",
    "for i in range(10):\n",
    "    model = get_model(X=Xsub, y=y, n_estimators=500)\n",
    "    predictor = MaxProbabilityOutcomePredictor(model)\n",
    "    match_template = pd.read_csv('data/original/wc_2018_games_real.csv')\n",
    "    run_actual_tournament_simulation(match_template, predictor)\n",
    "    tournament_simulation = get_simulation_results()\n",
    "    tournament_simulation[\"true_outcome\"] = np.sign(tournament_simulation[\"home_score\"] - tournament_simulation[\"away_score\"])\n",
    "    delete_all()\n",
    "    \n",
    "    accuracy = sum(tournament_simulation[\"outcome\"] == tournament_simulation[\"true_outcome\"]) / tournament_simulation.shape[0]\n",
    "    accuracies.append(accuracy)\n",
    "    \n",
    "    match_bets = pd.read_csv('data/original/wc_2018_bets.csv')\n",
    "\n",
    "    y_pred = tournament_simulation[\"outcome\"].values\n",
    "    y_true = tournament_simulation[\"true_outcome\"].values\n",
    "    odds = match_bets[[\"1\", \"X\", \"2\"]].values\n",
    "    unit_bank = run_unit_strategy(y_pred, y_true, odds)\n",
    "\n",
    "    probabilities = tournament_simulation[[\"home_win_prob\", \"draw_prob\", \"away_win_prob\"]].values\n",
    "    kelly_bank = run_kelly_strategy(y_pred, y_true, odds, probabilities)\n",
    "    \n",
    "    unit_banks.append(unit_bank)\n",
    "    kelly_banks.append(kelly_bank)\n",
    "    \n",
    "print(np.mean(accuracies))\n",
    "print(np.mean(unit_banks))\n",
    "print(np.mean(kelly_banks))"
   ]
  },
  {
   "cell_type": "code",
   "execution_count": 7,
   "metadata": {
    "collapsed": true
   },
   "outputs": [],
   "source": [
    "#### CROSS VALIDATION"
   ]
  },
  {
   "cell_type": "code",
   "execution_count": 8,
   "metadata": {
    "collapsed": true
   },
   "outputs": [],
   "source": [
    "set_feature_columns(all_features)\n",
    "X, y = get_whole_dataset(\"home_win\")"
   ]
  },
  {
   "cell_type": "code",
   "execution_count": 9,
   "metadata": {},
   "outputs": [
    {
     "data": {
      "text/plain": [
       "0.54024251169770565"
      ]
     },
     "execution_count": 9,
     "metadata": {},
     "output_type": "execute_result"
    }
   ],
   "source": [
    "model = get_model(n_estimators=500)\n",
    "score = cross_val_score(model, X, y, cv=10)\n",
    "np.mean(score)"
   ]
  },
  {
   "cell_type": "code",
   "execution_count": 10,
   "metadata": {},
   "outputs": [
    {
     "data": {
      "text/plain": [
       "(8124, 36)"
      ]
     },
     "execution_count": 10,
     "metadata": {},
     "output_type": "execute_result"
    }
   ],
   "source": [
    "X.shape"
   ]
  },
  {
   "cell_type": "code",
   "execution_count": 11,
   "metadata": {},
   "outputs": [
    {
     "data": {
      "text/plain": [
       "(8124, 6)"
      ]
     },
     "execution_count": 11,
     "metadata": {},
     "output_type": "execute_result"
    }
   ],
   "source": [
    "subset_of_features = other_features\n",
    "Xsub = X[subset_of_features]\n",
    "Xsub.shape"
   ]
  },
  {
   "cell_type": "code",
   "execution_count": 12,
   "metadata": {
    "scrolled": true
   },
   "outputs": [
    {
     "data": {
      "text/plain": [
       "0.5457883213485617"
      ]
     },
     "execution_count": 12,
     "metadata": {},
     "output_type": "execute_result"
    }
   ],
   "source": [
    "model = get_model(n_estimators=500)\n",
    "score = cross_val_score(model, Xsub, y, cv=10)\n",
    "np.mean(score)"
   ]
  },
  {
   "cell_type": "code",
   "execution_count": 13,
   "metadata": {
    "collapsed": true
   },
   "outputs": [],
   "source": [
    "#### WC 2014"
   ]
  },
  {
   "cell_type": "code",
   "execution_count": 14,
   "metadata": {
    "collapsed": true
   },
   "outputs": [],
   "source": [
    "set_feature_columns(all_features)\n",
    "X, y = get_whole_dataset(\"home_win\", filter_start=\"2014-06-12\")"
   ]
  },
  {
   "cell_type": "code",
   "execution_count": 15,
   "metadata": {},
   "outputs": [
    {
     "name": "stdout",
     "output_type": "stream",
     "text": [
      "(5153, 36)\n",
      "0.6203125\n",
      "76.536\n",
      "131.146662296\n"
     ]
    }
   ],
   "source": [
    "unit_banks = []\n",
    "kelly_banks = []\n",
    "accuracies = []\n",
    "\n",
    "print(X.shape)\n",
    "for i in range(10):\n",
    "    model = get_model(X=X, y=y, n_estimators=500)\n",
    "    predictor = MaxProbabilityOutcomePredictor(model)\n",
    "    match_template = pd.read_csv('data/original/wc_2014_games_real.csv')\n",
    "    run_actual_tournament_simulation(match_template, predictor)\n",
    "    tournament_simulation = get_simulation_results()\n",
    "    tournament_simulation[\"true_outcome\"] = np.sign(tournament_simulation[\"home_score\"] - tournament_simulation[\"away_score\"])\n",
    "    delete_all()\n",
    "\n",
    "    accuracy = sum(tournament_simulation[\"outcome\"] == tournament_simulation[\"true_outcome\"]) / tournament_simulation.shape[0]\n",
    "    accuracies.append(accuracy)\n",
    "    \n",
    "    match_bets = pd.read_csv('data/original/wc_2014_bets.csv')\n",
    "\n",
    "    y_pred = tournament_simulation[\"outcome\"].values\n",
    "    y_true = tournament_simulation[\"true_outcome\"].values\n",
    "    odds = match_bets[[\"1\", \"X\", \"2\"]].values\n",
    "    unit_bank = run_unit_strategy(y_pred, y_true, odds)\n",
    "\n",
    "    probabilities = tournament_simulation[[\"home_win_prob\", \"draw_prob\", \"away_win_prob\"]].values\n",
    "    kelly_bank = run_kelly_strategy(y_pred, y_true, odds, probabilities)\n",
    "    \n",
    "    unit_banks.append(unit_bank)\n",
    "    kelly_banks.append(kelly_bank)\n",
    "\n",
    "print(np.mean(accuracies))\n",
    "print(np.mean(unit_banks))\n",
    "print(np.mean(kelly_banks))"
   ]
  },
  {
   "cell_type": "code",
   "execution_count": 16,
   "metadata": {},
   "outputs": [
    {
     "name": "stdout",
     "output_type": "stream",
     "text": [
      "(5153, 6)\n",
      "0.5703125\n",
      "68.698\n",
      "202.253328729\n"
     ]
    }
   ],
   "source": [
    "unit_banks = []\n",
    "kelly_banks = []\n",
    "accuracies = []\n",
    "\n",
    "set_feature_columns(other_features)\n",
    "subset_of_features = other_features\n",
    "Xsub = X[subset_of_features]\n",
    "print(Xsub.shape)\n",
    "\n",
    "for i in range(10):\n",
    "    model = get_model(X=Xsub, y=y, n_estimators=500)\n",
    "    predictor = MaxProbabilityOutcomePredictor(model)\n",
    "    match_template = pd.read_csv('data/original/wc_2014_games_real.csv')\n",
    "    run_actual_tournament_simulation(match_template, predictor)\n",
    "    tournament_simulation = get_simulation_results()\n",
    "    tournament_simulation[\"true_outcome\"] = np.sign(tournament_simulation[\"home_score\"] - tournament_simulation[\"away_score\"])\n",
    "    delete_all()\n",
    "    \n",
    "    accuracy = sum(tournament_simulation[\"outcome\"] == tournament_simulation[\"true_outcome\"]) / tournament_simulation.shape[0]\n",
    "    accuracies.append(accuracy)\n",
    "    \n",
    "    match_bets = pd.read_csv('data/original/wc_2014_bets.csv')\n",
    "\n",
    "    y_pred = tournament_simulation[\"outcome\"].values\n",
    "    y_true = tournament_simulation[\"true_outcome\"].values\n",
    "    odds = match_bets[[\"1\", \"X\", \"2\"]].values\n",
    "    unit_bank = run_unit_strategy(y_pred, y_true, odds)\n",
    "\n",
    "    probabilities = tournament_simulation[[\"home_win_prob\", \"draw_prob\", \"away_win_prob\"]].values\n",
    "    kelly_bank = run_kelly_strategy(y_pred, y_true, odds, probabilities)\n",
    "    \n",
    "    unit_banks.append(unit_bank)\n",
    "    kelly_banks.append(kelly_bank)\n",
    "    \n",
    "print(np.mean(accuracies))\n",
    "print(np.mean(unit_banks))\n",
    "print(np.mean(kelly_banks))"
   ]
  }
 ],
 "metadata": {
  "kernelspec": {
   "display_name": "Python 3",
   "language": "python",
   "name": "python3"
  },
  "language_info": {
   "codemirror_mode": {
    "name": "ipython",
    "version": 3
   },
   "file_extension": ".py",
   "mimetype": "text/x-python",
   "name": "python",
   "nbconvert_exporter": "python",
   "pygments_lexer": "ipython3",
   "version": "3.6.3"
  }
 },
 "nbformat": 4,
 "nbformat_minor": 2
}
