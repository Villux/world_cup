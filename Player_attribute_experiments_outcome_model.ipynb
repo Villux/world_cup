{
 "cells": [
  {
   "cell_type": "code",
   "execution_count": 1,
   "metadata": {},
   "outputs": [],
   "source": [
    "import numpy as np\n",
    "import pandas as pd\n",
    "from sklearn.model_selection import cross_val_score\n",
    "from sklearn.metrics import confusion_matrix\n",
    "\n",
    "from features.data_provider import get_feature_columns, get_whole_dataset, set_feature_columns\n",
    "from simulation.predictor import MaxProbabilityOutcomePredictor\n",
    "from models.outcome_model import get_model\n",
    "from simulation.analyse import get_win_probabilities, get_simulations\n",
    "from simulation.simulation import run_actual_tournament_simulation\n",
    "from db.simulation_table import get_simulation_results, delete_all\n",
    "from bet.unit_strategy import UnitStrategy\n",
    "from bet.kelly_strategy import KellyStrategy\n",
    "from notebook_helpers import plot_bank_and_bets, write_report"
   ]
  },
  {
   "cell_type": "code",
   "execution_count": 2,
   "metadata": {},
   "outputs": [],
   "source": [
    "all_features = get_feature_columns()\n",
    "player_features = ['rating_diff', 'potential_diff', 'height_diff','weight_diff','age_diff',\n",
    "                   'weak_foot_diff','internationl_repuatiotion_diff','crossing_diff','finishing_diff',\n",
    "                   'heading_accuracy_diff','short_passing_diff','dribbling_diff','fk_accuracy_diff',\n",
    "                   'long_passing_diff','ball_control_diff','acceleration_diff','sprint_speed_diff',\n",
    "                   'reactions_diff','shot_power_diff','stamina_diff','strength_diff','long_shots_diff',\n",
    "                   'aggression_diff','penalties_diff','marking_diff','standing_tackle_diff',\n",
    "                  'gk_diving_diff', 'gk_handling_diff', 'gk_kicking_diff', 'gk_reflexes_diff']\n",
    "\n",
    "other_features = ['elo_diff', 'away_goal_mean', 'away_goals_with_home', \n",
    "                  'goal_diff_with_away', 'home_goal_mean', 'home_goals_with_away']\n",
    "\n",
    "assert (len(player_features) + len(other_features)) == len(all_features)"
   ]
  },
  {
   "cell_type": "code",
   "execution_count": 3,
   "metadata": {},
   "outputs": [],
   "source": [
    "def simulate_betting_strategies(features, match_template_file, \n",
    "                                bet_file, filter_start=None, filter_end=None, interval=None,\n",
    "                                iter_n=10):\n",
    "    unit_profit = []\n",
    "    kelly_profit = []\n",
    "    accuracies = []\n",
    "\n",
    "    set_feature_columns(features)\n",
    "    \n",
    "    X, y = get_whole_dataset(\"home_win\", filter_start=filter_start, filter_end=filter_end, interval=interval)\n",
    "\n",
    "    print(X.shape)\n",
    "    for i in range(10):\n",
    "        model = get_model(X=X, y=y, n_estimators=2000)\n",
    "        predictor = MaxProbabilityOutcomePredictor(model)\n",
    "        match_template = pd.read_csv(match_template_file)\n",
    "        run_actual_tournament_simulation(match_template, predictor)\n",
    "        tournament_simulation = get_simulation_results()\n",
    "        tournament_simulation[\"true_outcome\"] = np.sign(tournament_simulation[\"home_score\"] - tournament_simulation[\"away_score\"])\n",
    "        delete_all()\n",
    "\n",
    "        accuracy = sum(tournament_simulation[\"outcome\"] == tournament_simulation[\"true_outcome\"]) / tournament_simulation.shape[0]\n",
    "        accuracies.append(accuracy)\n",
    "\n",
    "        match_bets = pd.read_csv(bet_file)\n",
    "\n",
    "        odds = match_bets[[\"1\", \"X\", \"2\"]].values\n",
    "        probabilities = tournament_simulation[[\"home_win_prob\", \"draw_prob\", \"away_win_prob\"]].values        \n",
    "        y_pred = tournament_simulation[\"outcome\"].values\n",
    "        y_true = tournament_simulation[\"true_outcome\"].values\n",
    "        \n",
    "        unit_strategy = UnitStrategy(y_pred, y_true)\n",
    "        unit_strategy.run(odds)\n",
    "\n",
    "        kelly_strategy = KellyStrategy(y_true)\n",
    "        kelly_strategy.run(odds, probabilities)\n",
    "\n",
    "        unit_profit.append(unit_strategy.get_total_profit())\n",
    "        kelly_profit.append(kelly_strategy.get_total_profit())\n",
    "\n",
    "    return accuracies, unit_profit, kelly_profit"
   ]
  },
  {
   "cell_type": "code",
   "execution_count": null,
   "metadata": {},
   "outputs": [],
   "source": [
    "filename = \"outcome_report.txt\""
   ]
  },
  {
   "cell_type": "code",
   "execution_count": 4,
   "metadata": {},
   "outputs": [],
   "source": [
    "#### WC 2018\n",
    "match_template = 'data/original/wc_2018_games_real.csv'\n",
    "betting_file = 'data/original/wc_2018_bets.csv'"
   ]
  },
  {
   "cell_type": "code",
   "execution_count": 5,
   "metadata": {},
   "outputs": [
    {
     "name": "stdout",
     "output_type": "stream",
     "text": [
      "(4739, 36)\n"
     ]
    },
    {
     "name": "stderr",
     "output_type": "stream",
     "text": [
      "/Users/villetoiviainen/Documents/dev/world_cup/bet/kelly_strategy.py:12: RuntimeWarning: invalid value encountered in log\n",
      "  return -(p1 * np.log(1 + o1*a - b - c) + p2 * np.log(1 + o2*b - a - c) + p3*np.log(1 + o3*c - a - b))\n",
      "/Users/villetoiviainen/Documents/dev/world_cup/bet/kelly_strategy.py:12: RuntimeWarning: invalid value encountered in log\n",
      "  return -(p1 * np.log(1 + o1*a - b - c) + p2 * np.log(1 + o2*b - a - c) + p3*np.log(1 + o3*c - a - b))\n",
      "/Users/villetoiviainen/Documents/dev/world_cup/bet/kelly_strategy.py:12: RuntimeWarning: invalid value encountered in log\n",
      "  return -(p1 * np.log(1 + o1*a - b - c) + p2 * np.log(1 + o2*b - a - c) + p3*np.log(1 + o3*c - a - b))\n",
      "/Users/villetoiviainen/Documents/dev/world_cup/bet/kelly_strategy.py:12: RuntimeWarning: invalid value encountered in log\n",
      "  return -(p1 * np.log(1 + o1*a - b - c) + p2 * np.log(1 + o2*b - a - c) + p3*np.log(1 + o3*c - a - b))\n",
      "/Users/villetoiviainen/Documents/dev/world_cup/bet/kelly_strategy.py:12: RuntimeWarning: invalid value encountered in log\n",
      "  return -(p1 * np.log(1 + o1*a - b - c) + p2 * np.log(1 + o2*b - a - c) + p3*np.log(1 + o3*c - a - b))\n",
      "/Users/villetoiviainen/Documents/dev/world_cup/bet/kelly_strategy.py:12: RuntimeWarning: invalid value encountered in log\n",
      "  return -(p1 * np.log(1 + o1*a - b - c) + p2 * np.log(1 + o2*b - a - c) + p3*np.log(1 + o3*c - a - b))\n",
      "/Users/villetoiviainen/Documents/dev/world_cup/bet/kelly_strategy.py:12: RuntimeWarning: invalid value encountered in log\n",
      "  return -(p1 * np.log(1 + o1*a - b - c) + p2 * np.log(1 + o2*b - a - c) + p3*np.log(1 + o3*c - a - b))\n",
      "/Users/villetoiviainen/Documents/dev/world_cup/bet/kelly_strategy.py:12: RuntimeWarning: invalid value encountered in log\n",
      "  return -(p1 * np.log(1 + o1*a - b - c) + p2 * np.log(1 + o2*b - a - c) + p3*np.log(1 + o3*c - a - b))\n",
      "/Users/villetoiviainen/Documents/dev/world_cup/bet/kelly_strategy.py:12: RuntimeWarning: invalid value encountered in log\n",
      "  return -(p1 * np.log(1 + o1*a - b - c) + p2 * np.log(1 + o2*b - a - c) + p3*np.log(1 + o3*c - a - b))\n"
     ]
    },
    {
     "name": "stdout",
     "output_type": "stream",
     "text": [
      "AVG Accuracy:  0.578125 0.0\n",
      "AVG Unit profit:  1.0765625 0.0\n",
      "AVG Kelly profit:  1.12131402225 0.0557941385671\n"
     ]
    },
    {
     "name": "stderr",
     "output_type": "stream",
     "text": [
      "/Users/villetoiviainen/Documents/dev/world_cup/bet/kelly_strategy.py:12: RuntimeWarning: invalid value encountered in log\n",
      "  return -(p1 * np.log(1 + o1*a - b - c) + p2 * np.log(1 + o2*b - a - c) + p3*np.log(1 + o3*c - a - b))\n"
     ]
    }
   ],
   "source": [
    "acc, unit, kelly = simulate_betting_strategies(all_features, match_template, betting_file)\n",
    "write_report(acc, unit, kelly, \"WC2018_allfeatures\", filename)"
   ]
  },
  {
   "cell_type": "code",
   "execution_count": 6,
   "metadata": {},
   "outputs": [
    {
     "name": "stdout",
     "output_type": "stream",
     "text": [
      "(4739, 6)\n"
     ]
    },
    {
     "name": "stderr",
     "output_type": "stream",
     "text": [
      "/Users/villetoiviainen/Documents/dev/world_cup/bet/kelly_strategy.py:12: RuntimeWarning: invalid value encountered in log\n",
      "  return -(p1 * np.log(1 + o1*a - b - c) + p2 * np.log(1 + o2*b - a - c) + p3*np.log(1 + o3*c - a - b))\n",
      "/Users/villetoiviainen/Documents/dev/world_cup/bet/kelly_strategy.py:12: RuntimeWarning: invalid value encountered in log\n",
      "  return -(p1 * np.log(1 + o1*a - b - c) + p2 * np.log(1 + o2*b - a - c) + p3*np.log(1 + o3*c - a - b))\n",
      "/Users/villetoiviainen/Documents/dev/world_cup/bet/kelly_strategy.py:12: RuntimeWarning: invalid value encountered in log\n",
      "  return -(p1 * np.log(1 + o1*a - b - c) + p2 * np.log(1 + o2*b - a - c) + p3*np.log(1 + o3*c - a - b))\n",
      "/Users/villetoiviainen/Documents/dev/world_cup/bet/kelly_strategy.py:12: RuntimeWarning: invalid value encountered in log\n",
      "  return -(p1 * np.log(1 + o1*a - b - c) + p2 * np.log(1 + o2*b - a - c) + p3*np.log(1 + o3*c - a - b))\n",
      "/Users/villetoiviainen/Documents/dev/world_cup/bet/kelly_strategy.py:12: RuntimeWarning: invalid value encountered in log\n",
      "  return -(p1 * np.log(1 + o1*a - b - c) + p2 * np.log(1 + o2*b - a - c) + p3*np.log(1 + o3*c - a - b))\n",
      "/Users/villetoiviainen/Documents/dev/world_cup/bet/kelly_strategy.py:12: RuntimeWarning: invalid value encountered in log\n",
      "  return -(p1 * np.log(1 + o1*a - b - c) + p2 * np.log(1 + o2*b - a - c) + p3*np.log(1 + o3*c - a - b))\n",
      "/Users/villetoiviainen/Documents/dev/world_cup/bet/kelly_strategy.py:12: RuntimeWarning: invalid value encountered in log\n",
      "  return -(p1 * np.log(1 + o1*a - b - c) + p2 * np.log(1 + o2*b - a - c) + p3*np.log(1 + o3*c - a - b))\n",
      "/Users/villetoiviainen/Documents/dev/world_cup/bet/kelly_strategy.py:12: RuntimeWarning: invalid value encountered in log\n",
      "  return -(p1 * np.log(1 + o1*a - b - c) + p2 * np.log(1 + o2*b - a - c) + p3*np.log(1 + o3*c - a - b))\n",
      "/Users/villetoiviainen/Documents/dev/world_cup/bet/kelly_strategy.py:12: RuntimeWarning: invalid value encountered in log\n",
      "  return -(p1 * np.log(1 + o1*a - b - c) + p2 * np.log(1 + o2*b - a - c) + p3*np.log(1 + o3*c - a - b))\n"
     ]
    },
    {
     "name": "stdout",
     "output_type": "stream",
     "text": [
      "AVG Accuracy:  0.5296875 0.00841432001115\n",
      "AVG Unit profit:  0.993328125 0.0210810204646\n",
      "AVG Kelly profit:  0.59275882997 0.0302914684735\n"
     ]
    },
    {
     "name": "stderr",
     "output_type": "stream",
     "text": [
      "/Users/villetoiviainen/Documents/dev/world_cup/bet/kelly_strategy.py:12: RuntimeWarning: invalid value encountered in log\n",
      "  return -(p1 * np.log(1 + o1*a - b - c) + p2 * np.log(1 + o2*b - a - c) + p3*np.log(1 + o3*c - a - b))\n"
     ]
    }
   ],
   "source": [
    "acc, unit, kelly = simulate_betting_strategies(other_features, match_template, betting_file)\n",
    "write_report(acc, unit, kelly, \"WC2018_otherfeatures\", filename)"
   ]
  },
  {
   "cell_type": "code",
   "execution_count": 7,
   "metadata": {},
   "outputs": [
    {
     "name": "stdout",
     "output_type": "stream",
     "text": [
      "(4739, 30)\n"
     ]
    },
    {
     "name": "stderr",
     "output_type": "stream",
     "text": [
      "/Users/villetoiviainen/Documents/dev/world_cup/bet/kelly_strategy.py:12: RuntimeWarning: invalid value encountered in log\n",
      "  return -(p1 * np.log(1 + o1*a - b - c) + p2 * np.log(1 + o2*b - a - c) + p3*np.log(1 + o3*c - a - b))\n",
      "/Users/villetoiviainen/Documents/dev/world_cup/bet/kelly_strategy.py:12: RuntimeWarning: invalid value encountered in log\n",
      "  return -(p1 * np.log(1 + o1*a - b - c) + p2 * np.log(1 + o2*b - a - c) + p3*np.log(1 + o3*c - a - b))\n",
      "/Users/villetoiviainen/Documents/dev/world_cup/bet/kelly_strategy.py:12: RuntimeWarning: invalid value encountered in log\n",
      "  return -(p1 * np.log(1 + o1*a - b - c) + p2 * np.log(1 + o2*b - a - c) + p3*np.log(1 + o3*c - a - b))\n",
      "/Users/villetoiviainen/Documents/dev/world_cup/bet/kelly_strategy.py:12: RuntimeWarning: invalid value encountered in log\n",
      "  return -(p1 * np.log(1 + o1*a - b - c) + p2 * np.log(1 + o2*b - a - c) + p3*np.log(1 + o3*c - a - b))\n",
      "/Users/villetoiviainen/Documents/dev/world_cup/bet/kelly_strategy.py:12: RuntimeWarning: divide by zero encountered in log\n",
      "  return -(p1 * np.log(1 + o1*a - b - c) + p2 * np.log(1 + o2*b - a - c) + p3*np.log(1 + o3*c - a - b))\n",
      "/Users/villetoiviainen/Documents/dev/world_cup/bet/kelly_strategy.py:12: RuntimeWarning: invalid value encountered in log\n",
      "  return -(p1 * np.log(1 + o1*a - b - c) + p2 * np.log(1 + o2*b - a - c) + p3*np.log(1 + o3*c - a - b))\n",
      "/Users/villetoiviainen/Documents/dev/world_cup/bet/kelly_strategy.py:12: RuntimeWarning: invalid value encountered in log\n",
      "  return -(p1 * np.log(1 + o1*a - b - c) + p2 * np.log(1 + o2*b - a - c) + p3*np.log(1 + o3*c - a - b))\n",
      "/Users/villetoiviainen/Documents/dev/world_cup/bet/kelly_strategy.py:12: RuntimeWarning: invalid value encountered in log\n",
      "  return -(p1 * np.log(1 + o1*a - b - c) + p2 * np.log(1 + o2*b - a - c) + p3*np.log(1 + o3*c - a - b))\n",
      "/Users/villetoiviainen/Documents/dev/world_cup/bet/kelly_strategy.py:12: RuntimeWarning: invalid value encountered in log\n",
      "  return -(p1 * np.log(1 + o1*a - b - c) + p2 * np.log(1 + o2*b - a - c) + p3*np.log(1 + o3*c - a - b))\n",
      "/Users/villetoiviainen/Documents/dev/world_cup/bet/kelly_strategy.py:12: RuntimeWarning: invalid value encountered in log\n",
      "  return -(p1 * np.log(1 + o1*a - b - c) + p2 * np.log(1 + o2*b - a - c) + p3*np.log(1 + o3*c - a - b))\n"
     ]
    },
    {
     "name": "stdout",
     "output_type": "stream",
     "text": [
      "AVG Accuracy:  0.609375 0.0\n",
      "AVG Unit profit:  1.19953125 0.0\n",
      "AVG Kelly profit:  1.62338820854 0.0785492622399\n"
     ]
    },
    {
     "name": "stderr",
     "output_type": "stream",
     "text": [
      "/Users/villetoiviainen/Documents/dev/world_cup/bet/kelly_strategy.py:12: RuntimeWarning: invalid value encountered in log\n",
      "  return -(p1 * np.log(1 + o1*a - b - c) + p2 * np.log(1 + o2*b - a - c) + p3*np.log(1 + o3*c - a - b))\n"
     ]
    }
   ],
   "source": [
    "acc, unit, kelly = simulate_betting_strategies(player_features, match_template, betting_file)\n",
    "write_report(acc, unit, kelly, \"WC2018_playerfeatures\", filename)"
   ]
  },
  {
   "cell_type": "code",
   "execution_count": 8,
   "metadata": {},
   "outputs": [],
   "source": [
    "#### WC 2014\n",
    "match_template = 'data/original/wc_2014_games_real.csv'\n",
    "betting_file = 'data/original/wc_2014_bets.csv'"
   ]
  },
  {
   "cell_type": "code",
   "execution_count": 9,
   "metadata": {},
   "outputs": [
    {
     "name": "stdout",
     "output_type": "stream",
     "text": [
      "(2917, 36)\n"
     ]
    },
    {
     "name": "stderr",
     "output_type": "stream",
     "text": [
      "/Users/villetoiviainen/Documents/dev/world_cup/bet/kelly_strategy.py:12: RuntimeWarning: invalid value encountered in log\n",
      "  return -(p1 * np.log(1 + o1*a - b - c) + p2 * np.log(1 + o2*b - a - c) + p3*np.log(1 + o3*c - a - b))\n",
      "/Users/villetoiviainen/Documents/dev/world_cup/bet/kelly_strategy.py:12: RuntimeWarning: invalid value encountered in log\n",
      "  return -(p1 * np.log(1 + o1*a - b - c) + p2 * np.log(1 + o2*b - a - c) + p3*np.log(1 + o3*c - a - b))\n",
      "/Users/villetoiviainen/Documents/dev/world_cup/bet/kelly_strategy.py:12: RuntimeWarning: invalid value encountered in log\n",
      "  return -(p1 * np.log(1 + o1*a - b - c) + p2 * np.log(1 + o2*b - a - c) + p3*np.log(1 + o3*c - a - b))\n",
      "/Users/villetoiviainen/Documents/dev/world_cup/bet/kelly_strategy.py:12: RuntimeWarning: invalid value encountered in log\n",
      "  return -(p1 * np.log(1 + o1*a - b - c) + p2 * np.log(1 + o2*b - a - c) + p3*np.log(1 + o3*c - a - b))\n",
      "/Users/villetoiviainen/Documents/dev/world_cup/bet/kelly_strategy.py:12: RuntimeWarning: invalid value encountered in log\n",
      "  return -(p1 * np.log(1 + o1*a - b - c) + p2 * np.log(1 + o2*b - a - c) + p3*np.log(1 + o3*c - a - b))\n",
      "/Users/villetoiviainen/Documents/dev/world_cup/bet/kelly_strategy.py:12: RuntimeWarning: invalid value encountered in log\n",
      "  return -(p1 * np.log(1 + o1*a - b - c) + p2 * np.log(1 + o2*b - a - c) + p3*np.log(1 + o3*c - a - b))\n",
      "/Users/villetoiviainen/Documents/dev/world_cup/bet/kelly_strategy.py:12: RuntimeWarning: invalid value encountered in log\n",
      "  return -(p1 * np.log(1 + o1*a - b - c) + p2 * np.log(1 + o2*b - a - c) + p3*np.log(1 + o3*c - a - b))\n",
      "/Users/villetoiviainen/Documents/dev/world_cup/bet/kelly_strategy.py:12: RuntimeWarning: divide by zero encountered in log\n",
      "  return -(p1 * np.log(1 + o1*a - b - c) + p2 * np.log(1 + o2*b - a - c) + p3*np.log(1 + o3*c - a - b))\n",
      "/Users/villetoiviainen/Documents/dev/world_cup/bet/kelly_strategy.py:12: RuntimeWarning: invalid value encountered in log\n",
      "  return -(p1 * np.log(1 + o1*a - b - c) + p2 * np.log(1 + o2*b - a - c) + p3*np.log(1 + o3*c - a - b))\n",
      "/Users/villetoiviainen/Documents/dev/world_cup/bet/kelly_strategy.py:12: RuntimeWarning: invalid value encountered in log\n",
      "  return -(p1 * np.log(1 + o1*a - b - c) + p2 * np.log(1 + o2*b - a - c) + p3*np.log(1 + o3*c - a - b))\n"
     ]
    },
    {
     "name": "stdout",
     "output_type": "stream",
     "text": [
      "AVG Accuracy:  0.59375 0.0\n",
      "AVG Unit profit:  1.1040625 2.22044604925e-16\n",
      "AVG Kelly profit:  1.26515408594 0.0569377290867\n"
     ]
    },
    {
     "name": "stderr",
     "output_type": "stream",
     "text": [
      "/Users/villetoiviainen/Documents/dev/world_cup/bet/kelly_strategy.py:12: RuntimeWarning: invalid value encountered in log\n",
      "  return -(p1 * np.log(1 + o1*a - b - c) + p2 * np.log(1 + o2*b - a - c) + p3*np.log(1 + o3*c - a - b))\n"
     ]
    }
   ],
   "source": [
    "acc, unit, kelly = simulate_betting_strategies(all_features, match_template, betting_file,\n",
    "                                              filter_start=\"2014-06-12\")\n",
    "write_report(acc, unit, kelly, \"WC2014_allfeatures\", filename)"
   ]
  },
  {
   "cell_type": "code",
   "execution_count": 10,
   "metadata": {},
   "outputs": [
    {
     "name": "stdout",
     "output_type": "stream",
     "text": [
      "(2917, 6)\n"
     ]
    },
    {
     "name": "stderr",
     "output_type": "stream",
     "text": [
      "/Users/villetoiviainen/Documents/dev/world_cup/bet/kelly_strategy.py:12: RuntimeWarning: invalid value encountered in log\n",
      "  return -(p1 * np.log(1 + o1*a - b - c) + p2 * np.log(1 + o2*b - a - c) + p3*np.log(1 + o3*c - a - b))\n",
      "/Users/villetoiviainen/Documents/dev/world_cup/bet/kelly_strategy.py:12: RuntimeWarning: invalid value encountered in log\n",
      "  return -(p1 * np.log(1 + o1*a - b - c) + p2 * np.log(1 + o2*b - a - c) + p3*np.log(1 + o3*c - a - b))\n",
      "/Users/villetoiviainen/Documents/dev/world_cup/bet/kelly_strategy.py:12: RuntimeWarning: invalid value encountered in log\n",
      "  return -(p1 * np.log(1 + o1*a - b - c) + p2 * np.log(1 + o2*b - a - c) + p3*np.log(1 + o3*c - a - b))\n",
      "/Users/villetoiviainen/Documents/dev/world_cup/bet/kelly_strategy.py:12: RuntimeWarning: invalid value encountered in log\n",
      "  return -(p1 * np.log(1 + o1*a - b - c) + p2 * np.log(1 + o2*b - a - c) + p3*np.log(1 + o3*c - a - b))\n",
      "/Users/villetoiviainen/Documents/dev/world_cup/bet/kelly_strategy.py:12: RuntimeWarning: invalid value encountered in log\n",
      "  return -(p1 * np.log(1 + o1*a - b - c) + p2 * np.log(1 + o2*b - a - c) + p3*np.log(1 + o3*c - a - b))\n",
      "/Users/villetoiviainen/Documents/dev/world_cup/bet/kelly_strategy.py:12: RuntimeWarning: invalid value encountered in log\n",
      "  return -(p1 * np.log(1 + o1*a - b - c) + p2 * np.log(1 + o2*b - a - c) + p3*np.log(1 + o3*c - a - b))\n",
      "/Users/villetoiviainen/Documents/dev/world_cup/bet/kelly_strategy.py:12: RuntimeWarning: invalid value encountered in log\n",
      "  return -(p1 * np.log(1 + o1*a - b - c) + p2 * np.log(1 + o2*b - a - c) + p3*np.log(1 + o3*c - a - b))\n",
      "/Users/villetoiviainen/Documents/dev/world_cup/bet/kelly_strategy.py:12: RuntimeWarning: invalid value encountered in log\n",
      "  return -(p1 * np.log(1 + o1*a - b - c) + p2 * np.log(1 + o2*b - a - c) + p3*np.log(1 + o3*c - a - b))\n",
      "/Users/villetoiviainen/Documents/dev/world_cup/bet/kelly_strategy.py:12: RuntimeWarning: invalid value encountered in log\n",
      "  return -(p1 * np.log(1 + o1*a - b - c) + p2 * np.log(1 + o2*b - a - c) + p3*np.log(1 + o3*c - a - b))\n"
     ]
    },
    {
     "name": "stdout",
     "output_type": "stream",
     "text": [
      "AVG Accuracy:  0.5890625 0.010004881621\n",
      "AVG Unit profit:  1.110578125 0.0310073430378\n",
      "AVG Kelly profit:  1.37848708322 0.0736357224299\n"
     ]
    },
    {
     "name": "stderr",
     "output_type": "stream",
     "text": [
      "/Users/villetoiviainen/Documents/dev/world_cup/bet/kelly_strategy.py:12: RuntimeWarning: invalid value encountered in log\n",
      "  return -(p1 * np.log(1 + o1*a - b - c) + p2 * np.log(1 + o2*b - a - c) + p3*np.log(1 + o3*c - a - b))\n"
     ]
    }
   ],
   "source": [
    "acc, unit, kelly = simulate_betting_strategies(other_features, match_template, betting_file,\n",
    "                                               filter_start=\"2014-06-12\")\n",
    "write_report(acc, unit, kelly, \"WC2014_otherfeatures\", filename)"
   ]
  },
  {
   "cell_type": "code",
   "execution_count": 11,
   "metadata": {},
   "outputs": [
    {
     "name": "stdout",
     "output_type": "stream",
     "text": [
      "(2917, 30)\n"
     ]
    },
    {
     "name": "stderr",
     "output_type": "stream",
     "text": [
      "/Users/villetoiviainen/Documents/dev/world_cup/bet/kelly_strategy.py:12: RuntimeWarning: invalid value encountered in log\n",
      "  return -(p1 * np.log(1 + o1*a - b - c) + p2 * np.log(1 + o2*b - a - c) + p3*np.log(1 + o3*c - a - b))\n",
      "/Users/villetoiviainen/Documents/dev/world_cup/bet/kelly_strategy.py:12: RuntimeWarning: invalid value encountered in log\n",
      "  return -(p1 * np.log(1 + o1*a - b - c) + p2 * np.log(1 + o2*b - a - c) + p3*np.log(1 + o3*c - a - b))\n",
      "/Users/villetoiviainen/Documents/dev/world_cup/bet/kelly_strategy.py:12: RuntimeWarning: invalid value encountered in log\n",
      "  return -(p1 * np.log(1 + o1*a - b - c) + p2 * np.log(1 + o2*b - a - c) + p3*np.log(1 + o3*c - a - b))\n",
      "/Users/villetoiviainen/Documents/dev/world_cup/bet/kelly_strategy.py:12: RuntimeWarning: invalid value encountered in log\n",
      "  return -(p1 * np.log(1 + o1*a - b - c) + p2 * np.log(1 + o2*b - a - c) + p3*np.log(1 + o3*c - a - b))\n",
      "/Users/villetoiviainen/Documents/dev/world_cup/bet/kelly_strategy.py:12: RuntimeWarning: invalid value encountered in log\n",
      "  return -(p1 * np.log(1 + o1*a - b - c) + p2 * np.log(1 + o2*b - a - c) + p3*np.log(1 + o3*c - a - b))\n",
      "/Users/villetoiviainen/Documents/dev/world_cup/bet/kelly_strategy.py:12: RuntimeWarning: invalid value encountered in log\n",
      "  return -(p1 * np.log(1 + o1*a - b - c) + p2 * np.log(1 + o2*b - a - c) + p3*np.log(1 + o3*c - a - b))\n",
      "/Users/villetoiviainen/Documents/dev/world_cup/bet/kelly_strategy.py:12: RuntimeWarning: invalid value encountered in log\n",
      "  return -(p1 * np.log(1 + o1*a - b - c) + p2 * np.log(1 + o2*b - a - c) + p3*np.log(1 + o3*c - a - b))\n",
      "/Users/villetoiviainen/Documents/dev/world_cup/bet/kelly_strategy.py:12: RuntimeWarning: invalid value encountered in log\n",
      "  return -(p1 * np.log(1 + o1*a - b - c) + p2 * np.log(1 + o2*b - a - c) + p3*np.log(1 + o3*c - a - b))\n",
      "/Users/villetoiviainen/Documents/dev/world_cup/bet/kelly_strategy.py:12: RuntimeWarning: invalid value encountered in log\n",
      "  return -(p1 * np.log(1 + o1*a - b - c) + p2 * np.log(1 + o2*b - a - c) + p3*np.log(1 + o3*c - a - b))\n"
     ]
    },
    {
     "name": "stdout",
     "output_type": "stream",
     "text": [
      "AVG Accuracy:  0.6015625 0.0078125\n",
      "AVG Unit profit:  1.13140625 0.0243955242117\n",
      "AVG Kelly profit:  1.13984331337 0.0148545428905\n"
     ]
    },
    {
     "name": "stderr",
     "output_type": "stream",
     "text": [
      "/Users/villetoiviainen/Documents/dev/world_cup/bet/kelly_strategy.py:12: RuntimeWarning: invalid value encountered in log\n",
      "  return -(p1 * np.log(1 + o1*a - b - c) + p2 * np.log(1 + o2*b - a - c) + p3*np.log(1 + o3*c - a - b))\n"
     ]
    }
   ],
   "source": [
    "acc, unit, kelly = simulate_betting_strategies(player_features, match_template, betting_file,\n",
    "                                               filter_start=\"2014-06-12\")\n",
    "write_report(acc, unit, kelly, \"WC2014_playerfeatures\", filename)"
   ]
  },
  {
   "cell_type": "code",
   "execution_count": 12,
   "metadata": {},
   "outputs": [],
   "source": [
    "#### WC 2010\n",
    "match_template = 'data/original/wc_2010_games_real.csv'\n",
    "betting_file = 'data/original/wc_2010_bets.csv'"
   ]
  },
  {
   "cell_type": "code",
   "execution_count": 13,
   "metadata": {},
   "outputs": [
    {
     "name": "stdout",
     "output_type": "stream",
     "text": [
      "(1198, 36)\n"
     ]
    },
    {
     "name": "stderr",
     "output_type": "stream",
     "text": [
      "/Users/villetoiviainen/Documents/dev/world_cup/bet/kelly_strategy.py:12: RuntimeWarning: invalid value encountered in log\n",
      "  return -(p1 * np.log(1 + o1*a - b - c) + p2 * np.log(1 + o2*b - a - c) + p3*np.log(1 + o3*c - a - b))\n",
      "/Users/villetoiviainen/Documents/dev/world_cup/bet/kelly_strategy.py:12: RuntimeWarning: invalid value encountered in log\n",
      "  return -(p1 * np.log(1 + o1*a - b - c) + p2 * np.log(1 + o2*b - a - c) + p3*np.log(1 + o3*c - a - b))\n",
      "/Users/villetoiviainen/Documents/dev/world_cup/bet/kelly_strategy.py:12: RuntimeWarning: invalid value encountered in log\n",
      "  return -(p1 * np.log(1 + o1*a - b - c) + p2 * np.log(1 + o2*b - a - c) + p3*np.log(1 + o3*c - a - b))\n",
      "/Users/villetoiviainen/Documents/dev/world_cup/bet/kelly_strategy.py:12: RuntimeWarning: invalid value encountered in log\n",
      "  return -(p1 * np.log(1 + o1*a - b - c) + p2 * np.log(1 + o2*b - a - c) + p3*np.log(1 + o3*c - a - b))\n",
      "/Users/villetoiviainen/Documents/dev/world_cup/bet/kelly_strategy.py:12: RuntimeWarning: invalid value encountered in log\n",
      "  return -(p1 * np.log(1 + o1*a - b - c) + p2 * np.log(1 + o2*b - a - c) + p3*np.log(1 + o3*c - a - b))\n",
      "/Users/villetoiviainen/Documents/dev/world_cup/bet/kelly_strategy.py:12: RuntimeWarning: invalid value encountered in log\n",
      "  return -(p1 * np.log(1 + o1*a - b - c) + p2 * np.log(1 + o2*b - a - c) + p3*np.log(1 + o3*c - a - b))\n"
     ]
    },
    {
     "name": "stdout",
     "output_type": "stream",
     "text": [
      "AVG Accuracy:  0.5625 0.0\n",
      "AVG Unit profit:  1.06828125 0.0\n",
      "AVG Kelly profit:  1.08271545305 0.0290537809537\n"
     ]
    },
    {
     "name": "stderr",
     "output_type": "stream",
     "text": [
      "/Users/villetoiviainen/Documents/dev/world_cup/bet/kelly_strategy.py:12: RuntimeWarning: invalid value encountered in log\n",
      "  return -(p1 * np.log(1 + o1*a - b - c) + p2 * np.log(1 + o2*b - a - c) + p3*np.log(1 + o3*c - a - b))\n"
     ]
    }
   ],
   "source": [
    "acc, unit, kelly = simulate_betting_strategies(all_features, match_template, betting_file,\n",
    "                                              filter_start=\"2010-06-11\")\n",
    "write_report(acc, unit, kelly, \"WC2010_allfeatures\", filename)"
   ]
  },
  {
   "cell_type": "code",
   "execution_count": 14,
   "metadata": {},
   "outputs": [
    {
     "name": "stdout",
     "output_type": "stream",
     "text": [
      "(1198, 6)\n"
     ]
    },
    {
     "name": "stderr",
     "output_type": "stream",
     "text": [
      "/Users/villetoiviainen/Documents/dev/world_cup/bet/kelly_strategy.py:12: RuntimeWarning: invalid value encountered in log\n",
      "  return -(p1 * np.log(1 + o1*a - b - c) + p2 * np.log(1 + o2*b - a - c) + p3*np.log(1 + o3*c - a - b))\n",
      "/Users/villetoiviainen/Documents/dev/world_cup/bet/kelly_strategy.py:12: RuntimeWarning: divide by zero encountered in log\n",
      "  return -(p1 * np.log(1 + o1*a - b - c) + p2 * np.log(1 + o2*b - a - c) + p3*np.log(1 + o3*c - a - b))\n",
      "/Users/villetoiviainen/Documents/dev/world_cup/bet/kelly_strategy.py:12: RuntimeWarning: invalid value encountered in log\n",
      "  return -(p1 * np.log(1 + o1*a - b - c) + p2 * np.log(1 + o2*b - a - c) + p3*np.log(1 + o3*c - a - b))\n",
      "/Users/villetoiviainen/Documents/dev/world_cup/bet/kelly_strategy.py:12: RuntimeWarning: divide by zero encountered in log\n",
      "  return -(p1 * np.log(1 + o1*a - b - c) + p2 * np.log(1 + o2*b - a - c) + p3*np.log(1 + o3*c - a - b))\n",
      "/Users/villetoiviainen/Documents/dev/world_cup/bet/kelly_strategy.py:12: RuntimeWarning: invalid value encountered in log\n",
      "  return -(p1 * np.log(1 + o1*a - b - c) + p2 * np.log(1 + o2*b - a - c) + p3*np.log(1 + o3*c - a - b))\n",
      "/Users/villetoiviainen/Documents/dev/world_cup/bet/kelly_strategy.py:12: RuntimeWarning: invalid value encountered in log\n",
      "  return -(p1 * np.log(1 + o1*a - b - c) + p2 * np.log(1 + o2*b - a - c) + p3*np.log(1 + o3*c - a - b))\n",
      "/Users/villetoiviainen/Documents/dev/world_cup/bet/kelly_strategy.py:12: RuntimeWarning: invalid value encountered in log\n",
      "  return -(p1 * np.log(1 + o1*a - b - c) + p2 * np.log(1 + o2*b - a - c) + p3*np.log(1 + o3*c - a - b))\n",
      "/Users/villetoiviainen/Documents/dev/world_cup/bet/kelly_strategy.py:12: RuntimeWarning: invalid value encountered in log\n",
      "  return -(p1 * np.log(1 + o1*a - b - c) + p2 * np.log(1 + o2*b - a - c) + p3*np.log(1 + o3*c - a - b))\n",
      "/Users/villetoiviainen/Documents/dev/world_cup/bet/kelly_strategy.py:12: RuntimeWarning: invalid value encountered in log\n",
      "  return -(p1 * np.log(1 + o1*a - b - c) + p2 * np.log(1 + o2*b - a - c) + p3*np.log(1 + o3*c - a - b))\n",
      "/Users/villetoiviainen/Documents/dev/world_cup/bet/kelly_strategy.py:12: RuntimeWarning: invalid value encountered in log\n",
      "  return -(p1 * np.log(1 + o1*a - b - c) + p2 * np.log(1 + o2*b - a - c) + p3*np.log(1 + o3*c - a - b))\n",
      "/Users/villetoiviainen/Documents/dev/world_cup/bet/kelly_strategy.py:12: RuntimeWarning: divide by zero encountered in log\n",
      "  return -(p1 * np.log(1 + o1*a - b - c) + p2 * np.log(1 + o2*b - a - c) + p3*np.log(1 + o3*c - a - b))\n",
      "/Users/villetoiviainen/Documents/dev/world_cup/bet/kelly_strategy.py:12: RuntimeWarning: invalid value encountered in log\n",
      "  return -(p1 * np.log(1 + o1*a - b - c) + p2 * np.log(1 + o2*b - a - c) + p3*np.log(1 + o3*c - a - b))\n"
     ]
    },
    {
     "name": "stdout",
     "output_type": "stream",
     "text": [
      "AVG Accuracy:  0.565625 0.00625\n",
      "AVG Unit profit:  1.0904375 0.019625\n",
      "AVG Kelly profit:  1.66718299752 0.160572481687\n"
     ]
    },
    {
     "name": "stderr",
     "output_type": "stream",
     "text": [
      "/Users/villetoiviainen/Documents/dev/world_cup/bet/kelly_strategy.py:12: RuntimeWarning: invalid value encountered in log\n",
      "  return -(p1 * np.log(1 + o1*a - b - c) + p2 * np.log(1 + o2*b - a - c) + p3*np.log(1 + o3*c - a - b))\n"
     ]
    }
   ],
   "source": [
    "acc, unit, kelly = simulate_betting_strategies(other_features, match_template, betting_file,\n",
    "                                               filter_start=\"2010-06-11\")\n",
    "write_report(acc, unit, kelly, \"WC2010_otherfeatures\", filename)"
   ]
  },
  {
   "cell_type": "code",
   "execution_count": 15,
   "metadata": {},
   "outputs": [
    {
     "name": "stdout",
     "output_type": "stream",
     "text": [
      "(1198, 30)\n"
     ]
    },
    {
     "name": "stderr",
     "output_type": "stream",
     "text": [
      "/Users/villetoiviainen/Documents/dev/world_cup/bet/kelly_strategy.py:12: RuntimeWarning: invalid value encountered in log\n",
      "  return -(p1 * np.log(1 + o1*a - b - c) + p2 * np.log(1 + o2*b - a - c) + p3*np.log(1 + o3*c - a - b))\n",
      "/Users/villetoiviainen/Documents/dev/world_cup/bet/kelly_strategy.py:12: RuntimeWarning: divide by zero encountered in log\n",
      "  return -(p1 * np.log(1 + o1*a - b - c) + p2 * np.log(1 + o2*b - a - c) + p3*np.log(1 + o3*c - a - b))\n",
      "/Users/villetoiviainen/Documents/dev/world_cup/bet/kelly_strategy.py:12: RuntimeWarning: invalid value encountered in log\n",
      "  return -(p1 * np.log(1 + o1*a - b - c) + p2 * np.log(1 + o2*b - a - c) + p3*np.log(1 + o3*c - a - b))\n",
      "/Users/villetoiviainen/Documents/dev/world_cup/bet/kelly_strategy.py:12: RuntimeWarning: divide by zero encountered in log\n",
      "  return -(p1 * np.log(1 + o1*a - b - c) + p2 * np.log(1 + o2*b - a - c) + p3*np.log(1 + o3*c - a - b))\n",
      "/Users/villetoiviainen/Documents/dev/world_cup/bet/kelly_strategy.py:12: RuntimeWarning: invalid value encountered in log\n",
      "  return -(p1 * np.log(1 + o1*a - b - c) + p2 * np.log(1 + o2*b - a - c) + p3*np.log(1 + o3*c - a - b))\n",
      "/Users/villetoiviainen/Documents/dev/world_cup/bet/kelly_strategy.py:12: RuntimeWarning: invalid value encountered in log\n",
      "  return -(p1 * np.log(1 + o1*a - b - c) + p2 * np.log(1 + o2*b - a - c) + p3*np.log(1 + o3*c - a - b))\n",
      "/Users/villetoiviainen/Documents/dev/world_cup/bet/kelly_strategy.py:12: RuntimeWarning: divide by zero encountered in log\n",
      "  return -(p1 * np.log(1 + o1*a - b - c) + p2 * np.log(1 + o2*b - a - c) + p3*np.log(1 + o3*c - a - b))\n",
      "/Users/villetoiviainen/Documents/dev/world_cup/bet/kelly_strategy.py:12: RuntimeWarning: invalid value encountered in log\n",
      "  return -(p1 * np.log(1 + o1*a - b - c) + p2 * np.log(1 + o2*b - a - c) + p3*np.log(1 + o3*c - a - b))\n",
      "/Users/villetoiviainen/Documents/dev/world_cup/bet/kelly_strategy.py:12: RuntimeWarning: divide by zero encountered in log\n",
      "  return -(p1 * np.log(1 + o1*a - b - c) + p2 * np.log(1 + o2*b - a - c) + p3*np.log(1 + o3*c - a - b))\n",
      "/Users/villetoiviainen/Documents/dev/world_cup/bet/kelly_strategy.py:12: RuntimeWarning: invalid value encountered in log\n",
      "  return -(p1 * np.log(1 + o1*a - b - c) + p2 * np.log(1 + o2*b - a - c) + p3*np.log(1 + o3*c - a - b))\n",
      "/Users/villetoiviainen/Documents/dev/world_cup/bet/kelly_strategy.py:12: RuntimeWarning: invalid value encountered in log\n",
      "  return -(p1 * np.log(1 + o1*a - b - c) + p2 * np.log(1 + o2*b - a - c) + p3*np.log(1 + o3*c - a - b))\n",
      "/Users/villetoiviainen/Documents/dev/world_cup/bet/kelly_strategy.py:12: RuntimeWarning: divide by zero encountered in log\n",
      "  return -(p1 * np.log(1 + o1*a - b - c) + p2 * np.log(1 + o2*b - a - c) + p3*np.log(1 + o3*c - a - b))\n",
      "/Users/villetoiviainen/Documents/dev/world_cup/bet/kelly_strategy.py:12: RuntimeWarning: invalid value encountered in log\n",
      "  return -(p1 * np.log(1 + o1*a - b - c) + p2 * np.log(1 + o2*b - a - c) + p3*np.log(1 + o3*c - a - b))\n"
     ]
    },
    {
     "name": "stdout",
     "output_type": "stream",
     "text": [
      "AVG Accuracy:  0.5390625 0.0078125\n",
      "AVG Unit profit:  1.015734375 0.0363305980341\n",
      "AVG Kelly profit:  1.05576207044 0.193651934595\n"
     ]
    },
    {
     "name": "stderr",
     "output_type": "stream",
     "text": [
      "/Users/villetoiviainen/Documents/dev/world_cup/bet/kelly_strategy.py:12: RuntimeWarning: divide by zero encountered in log\n",
      "  return -(p1 * np.log(1 + o1*a - b - c) + p2 * np.log(1 + o2*b - a - c) + p3*np.log(1 + o3*c - a - b))\n",
      "/Users/villetoiviainen/Documents/dev/world_cup/bet/kelly_strategy.py:12: RuntimeWarning: invalid value encountered in log\n",
      "  return -(p1 * np.log(1 + o1*a - b - c) + p2 * np.log(1 + o2*b - a - c) + p3*np.log(1 + o3*c - a - b))\n"
     ]
    }
   ],
   "source": [
    "acc, unit, kelly = simulate_betting_strategies(player_features, match_template, betting_file,\n",
    "                                               filter_start=\"2010-06-11\")\n",
    "write_report(acc, unit, kelly, \"WC2010_playerfeatures\", filename)"
   ]
  },
  {
   "cell_type": "code",
   "execution_count": 16,
   "metadata": {},
   "outputs": [
    {
     "name": "stdout",
     "output_type": "stream",
     "text": [
      "Score:  0.572784810127\n",
      "Score:  0.582805907173\n",
      "Score:  0.561708860759\n"
     ]
    }
   ],
   "source": [
    "from sklearn.model_selection import train_test_split\n",
    "\n",
    "for features_group in [all_features, other_features, player_features]:\n",
    "    set_feature_columns(features_group)\n",
    "    X, y = get_whole_dataset(\"home_win\")\n",
    "\n",
    "    X_train, X_test, y_train, y_test = train_test_split(X, y, test_size=0.4, random_state=0)\n",
    "    model = get_model(X=X_train, y=y_train, n_estimators=500)\n",
    "\n",
    "    score = model.score(X_test, y_test)\n",
    "    print(\"Score: \", score)"
   ]
  },
  {
   "cell_type": "code",
   "execution_count": 60,
   "metadata": {},
   "outputs": [
    {
     "name": "stdout",
     "output_type": "stream",
     "text": [
      "(1198, 36)\n"
     ]
    },
    {
     "name": "stderr",
     "output_type": "stream",
     "text": [
      "/Users/villetoiviainen/Documents/dev/world_cup/bet/kelly_strategy.py:12: RuntimeWarning: invalid value encountered in log\n",
      "  return -(p1 * np.log(1 + o1*a - b - c) + p2 * np.log(1 + o2*b - a - c) + p3*np.log(1 + o3*c - a - b))\n",
      "/Users/villetoiviainen/Documents/dev/world_cup/bet/kelly_strategy.py:12: RuntimeWarning: invalid value encountered in log\n",
      "  return -(p1 * np.log(1 + o1*a - b - c) + p2 * np.log(1 + o2*b - a - c) + p3*np.log(1 + o3*c - a - b))\n",
      "/Users/villetoiviainen/Documents/dev/world_cup/bet/kelly_strategy.py:12: RuntimeWarning: invalid value encountered in log\n",
      "  return -(p1 * np.log(1 + o1*a - b - c) + p2 * np.log(1 + o2*b - a - c) + p3*np.log(1 + o3*c - a - b))\n",
      "/Users/villetoiviainen/Documents/dev/world_cup/bet/kelly_strategy.py:12: RuntimeWarning: invalid value encountered in log\n",
      "  return -(p1 * np.log(1 + o1*a - b - c) + p2 * np.log(1 + o2*b - a - c) + p3*np.log(1 + o3*c - a - b))\n",
      "/Users/villetoiviainen/Documents/dev/world_cup/bet/kelly_strategy.py:12: RuntimeWarning: invalid value encountered in log\n",
      "  return -(p1 * np.log(1 + o1*a - b - c) + p2 * np.log(1 + o2*b - a - c) + p3*np.log(1 + o3*c - a - b))\n",
      "/Users/villetoiviainen/Documents/dev/world_cup/bet/kelly_strategy.py:12: RuntimeWarning: invalid value encountered in log\n",
      "  return -(p1 * np.log(1 + o1*a - b - c) + p2 * np.log(1 + o2*b - a - c) + p3*np.log(1 + o3*c - a - b))\n",
      "/Users/villetoiviainen/Documents/dev/world_cup/bet/kelly_strategy.py:12: RuntimeWarning: divide by zero encountered in log\n",
      "  return -(p1 * np.log(1 + o1*a - b - c) + p2 * np.log(1 + o2*b - a - c) + p3*np.log(1 + o3*c - a - b))\n",
      "/Users/villetoiviainen/Documents/dev/world_cup/bet/kelly_strategy.py:12: RuntimeWarning: invalid value encountered in log\n",
      "  return -(p1 * np.log(1 + o1*a - b - c) + p2 * np.log(1 + o2*b - a - c) + p3*np.log(1 + o3*c - a - b))\n",
      "/Users/villetoiviainen/Documents/dev/world_cup/bet/kelly_strategy.py:12: RuntimeWarning: invalid value encountered in log\n",
      "  return -(p1 * np.log(1 + o1*a - b - c) + p2 * np.log(1 + o2*b - a - c) + p3*np.log(1 + o3*c - a - b))\n",
      "/Users/villetoiviainen/Documents/dev/world_cup/bet/kelly_strategy.py:12: RuntimeWarning: invalid value encountered in log\n",
      "  return -(p1 * np.log(1 + o1*a - b - c) + p2 * np.log(1 + o2*b - a - c) + p3*np.log(1 + o3*c - a - b))\n",
      "/Users/villetoiviainen/Documents/dev/world_cup/bet/kelly_strategy.py:12: RuntimeWarning: invalid value encountered in log\n",
      "  return -(p1 * np.log(1 + o1*a - b - c) + p2 * np.log(1 + o2*b - a - c) + p3*np.log(1 + o3*c - a - b))\n",
      "/Users/villetoiviainen/Documents/dev/world_cup/bet/kelly_strategy.py:12: RuntimeWarning: divide by zero encountered in log\n",
      "  return -(p1 * np.log(1 + o1*a - b - c) + p2 * np.log(1 + o2*b - a - c) + p3*np.log(1 + o3*c - a - b))\n"
     ]
    },
    {
     "name": "stdout",
     "output_type": "stream",
     "text": [
      "AVG Accuracy:  0.5828125 0.00716027452337\n",
      "AVG Unit profit:  1.105859375 0.0175426725823\n",
      "AVG Kelly profit:  0.745008724654 0.0355730740116\n",
      "(1719, 36)\n"
     ]
    },
    {
     "name": "stderr",
     "output_type": "stream",
     "text": [
      "/Users/villetoiviainen/Documents/dev/world_cup/bet/kelly_strategy.py:12: RuntimeWarning: invalid value encountered in log\n",
      "  return -(p1 * np.log(1 + o1*a - b - c) + p2 * np.log(1 + o2*b - a - c) + p3*np.log(1 + o3*c - a - b))\n",
      "/Users/villetoiviainen/Documents/dev/world_cup/bet/kelly_strategy.py:12: RuntimeWarning: invalid value encountered in log\n",
      "  return -(p1 * np.log(1 + o1*a - b - c) + p2 * np.log(1 + o2*b - a - c) + p3*np.log(1 + o3*c - a - b))\n",
      "/Users/villetoiviainen/Documents/dev/world_cup/bet/kelly_strategy.py:12: RuntimeWarning: invalid value encountered in log\n",
      "  return -(p1 * np.log(1 + o1*a - b - c) + p2 * np.log(1 + o2*b - a - c) + p3*np.log(1 + o3*c - a - b))\n",
      "/Users/villetoiviainen/Documents/dev/world_cup/bet/kelly_strategy.py:12: RuntimeWarning: invalid value encountered in log\n",
      "  return -(p1 * np.log(1 + o1*a - b - c) + p2 * np.log(1 + o2*b - a - c) + p3*np.log(1 + o3*c - a - b))\n",
      "/Users/villetoiviainen/Documents/dev/world_cup/bet/kelly_strategy.py:12: RuntimeWarning: invalid value encountered in log\n",
      "  return -(p1 * np.log(1 + o1*a - b - c) + p2 * np.log(1 + o2*b - a - c) + p3*np.log(1 + o3*c - a - b))\n",
      "/Users/villetoiviainen/Documents/dev/world_cup/bet/kelly_strategy.py:12: RuntimeWarning: invalid value encountered in log\n",
      "  return -(p1 * np.log(1 + o1*a - b - c) + p2 * np.log(1 + o2*b - a - c) + p3*np.log(1 + o3*c - a - b))\n",
      "/Users/villetoiviainen/Documents/dev/world_cup/bet/kelly_strategy.py:12: RuntimeWarning: invalid value encountered in log\n",
      "  return -(p1 * np.log(1 + o1*a - b - c) + p2 * np.log(1 + o2*b - a - c) + p3*np.log(1 + o3*c - a - b))\n",
      "/Users/villetoiviainen/Documents/dev/world_cup/bet/kelly_strategy.py:12: RuntimeWarning: invalid value encountered in log\n",
      "  return -(p1 * np.log(1 + o1*a - b - c) + p2 * np.log(1 + o2*b - a - c) + p3*np.log(1 + o3*c - a - b))\n",
      "/Users/villetoiviainen/Documents/dev/world_cup/bet/kelly_strategy.py:12: RuntimeWarning: invalid value encountered in log\n",
      "  return -(p1 * np.log(1 + o1*a - b - c) + p2 * np.log(1 + o2*b - a - c) + p3*np.log(1 + o3*c - a - b))\n",
      "/Users/villetoiviainen/Documents/dev/world_cup/bet/kelly_strategy.py:12: RuntimeWarning: invalid value encountered in log\n",
      "  return -(p1 * np.log(1 + o1*a - b - c) + p2 * np.log(1 + o2*b - a - c) + p3*np.log(1 + o3*c - a - b))\n"
     ]
    },
    {
     "name": "stdout",
     "output_type": "stream",
     "text": [
      "AVG Accuracy:  0.58125 0.00625\n",
      "AVG Unit profit:  1.08728125 0.0214375\n",
      "AVG Kelly profit:  1.04280718764 0.0538726424472\n",
      "(1822, 36)\n"
     ]
    },
    {
     "name": "stderr",
     "output_type": "stream",
     "text": [
      "/Users/villetoiviainen/Documents/dev/world_cup/bet/kelly_strategy.py:12: RuntimeWarning: invalid value encountered in log\n",
      "  return -(p1 * np.log(1 + o1*a - b - c) + p2 * np.log(1 + o2*b - a - c) + p3*np.log(1 + o3*c - a - b))\n",
      "/Users/villetoiviainen/Documents/dev/world_cup/bet/kelly_strategy.py:12: RuntimeWarning: invalid value encountered in log\n",
      "  return -(p1 * np.log(1 + o1*a - b - c) + p2 * np.log(1 + o2*b - a - c) + p3*np.log(1 + o3*c - a - b))\n",
      "/Users/villetoiviainen/Documents/dev/world_cup/bet/kelly_strategy.py:12: RuntimeWarning: invalid value encountered in log\n",
      "  return -(p1 * np.log(1 + o1*a - b - c) + p2 * np.log(1 + o2*b - a - c) + p3*np.log(1 + o3*c - a - b))\n",
      "/Users/villetoiviainen/Documents/dev/world_cup/bet/kelly_strategy.py:12: RuntimeWarning: invalid value encountered in log\n",
      "  return -(p1 * np.log(1 + o1*a - b - c) + p2 * np.log(1 + o2*b - a - c) + p3*np.log(1 + o3*c - a - b))\n",
      "/Users/villetoiviainen/Documents/dev/world_cup/bet/kelly_strategy.py:12: RuntimeWarning: invalid value encountered in log\n",
      "  return -(p1 * np.log(1 + o1*a - b - c) + p2 * np.log(1 + o2*b - a - c) + p3*np.log(1 + o3*c - a - b))\n",
      "/Users/villetoiviainen/Documents/dev/world_cup/bet/kelly_strategy.py:12: RuntimeWarning: invalid value encountered in log\n",
      "  return -(p1 * np.log(1 + o1*a - b - c) + p2 * np.log(1 + o2*b - a - c) + p3*np.log(1 + o3*c - a - b))\n",
      "/Users/villetoiviainen/Documents/dev/world_cup/bet/kelly_strategy.py:12: RuntimeWarning: invalid value encountered in log\n",
      "  return -(p1 * np.log(1 + o1*a - b - c) + p2 * np.log(1 + o2*b - a - c) + p3*np.log(1 + o3*c - a - b))\n",
      "/Users/villetoiviainen/Documents/dev/world_cup/bet/kelly_strategy.py:12: RuntimeWarning: divide by zero encountered in log\n",
      "  return -(p1 * np.log(1 + o1*a - b - c) + p2 * np.log(1 + o2*b - a - c) + p3*np.log(1 + o3*c - a - b))\n",
      "/Users/villetoiviainen/Documents/dev/world_cup/bet/kelly_strategy.py:12: RuntimeWarning: invalid value encountered in log\n",
      "  return -(p1 * np.log(1 + o1*a - b - c) + p2 * np.log(1 + o2*b - a - c) + p3*np.log(1 + o3*c - a - b))\n",
      "/Users/villetoiviainen/Documents/dev/world_cup/bet/kelly_strategy.py:12: RuntimeWarning: invalid value encountered in log\n",
      "  return -(p1 * np.log(1 + o1*a - b - c) + p2 * np.log(1 + o2*b - a - c) + p3*np.log(1 + o3*c - a - b))\n"
     ]
    },
    {
     "name": "stdout",
     "output_type": "stream",
     "text": [
      "AVG Accuracy:  0.559375 0.0136215591986\n",
      "AVG Unit profit:  1.03134375 0.0405805766731\n",
      "AVG Kelly profit:  0.84621130866 0.0204503726618\n"
     ]
    },
    {
     "name": "stderr",
     "output_type": "stream",
     "text": [
      "/Users/villetoiviainen/Documents/dev/world_cup/bet/kelly_strategy.py:12: RuntimeWarning: invalid value encountered in log\n",
      "  return -(p1 * np.log(1 + o1*a - b - c) + p2 * np.log(1 + o2*b - a - c) + p3*np.log(1 + o3*c - a - b))\n"
     ]
    }
   ],
   "source": [
    "#### WC 2018\n",
    "match_template = 'data/original/wc_2018_games_real.csv'\n",
    "betting_file = 'data/original/wc_2018_bets.csv'\n",
    "\n",
    "for idx, interval in enumerate([(\"2004-06-12\", \"2010-06-11\"), (\"2010-06-11\", \"2014-06-12\"), (\"2014-06-12\", \"2018-06-14\")]):\n",
    "    acc, unit, kelly = simulate_betting_strategies(all_features, match_template, betting_file,\n",
    "                                               interval=interval, iter_n=10)\n",
    "    write_report(acc, unit, kelly, f\"WC2018_allfeatures_interval_{idx}\", filename)"
   ]
  },
  {
   "cell_type": "code",
   "execution_count": 17,
   "metadata": {
    "scrolled": false
   },
   "outputs": [
    {
     "name": "stdout",
     "output_type": "stream",
     "text": [
      "(1198, 6)\n"
     ]
    },
    {
     "name": "stderr",
     "output_type": "stream",
     "text": [
      "/Users/villetoiviainen/Documents/dev/world_cup/bet/kelly_strategy.py:12: RuntimeWarning: invalid value encountered in log\n",
      "  return -(p1 * np.log(1 + o1*a - b - c) + p2 * np.log(1 + o2*b - a - c) + p3*np.log(1 + o3*c - a - b))\n",
      "/Users/villetoiviainen/Documents/dev/world_cup/bet/kelly_strategy.py:12: RuntimeWarning: divide by zero encountered in log\n",
      "  return -(p1 * np.log(1 + o1*a - b - c) + p2 * np.log(1 + o2*b - a - c) + p3*np.log(1 + o3*c - a - b))\n",
      "/Users/villetoiviainen/Documents/dev/world_cup/bet/kelly_strategy.py:12: RuntimeWarning: invalid value encountered in log\n",
      "  return -(p1 * np.log(1 + o1*a - b - c) + p2 * np.log(1 + o2*b - a - c) + p3*np.log(1 + o3*c - a - b))\n",
      "/Users/villetoiviainen/Documents/dev/world_cup/bet/kelly_strategy.py:12: RuntimeWarning: divide by zero encountered in log\n",
      "  return -(p1 * np.log(1 + o1*a - b - c) + p2 * np.log(1 + o2*b - a - c) + p3*np.log(1 + o3*c - a - b))\n",
      "/Users/villetoiviainen/Documents/dev/world_cup/bet/kelly_strategy.py:12: RuntimeWarning: invalid value encountered in log\n",
      "  return -(p1 * np.log(1 + o1*a - b - c) + p2 * np.log(1 + o2*b - a - c) + p3*np.log(1 + o3*c - a - b))\n",
      "/Users/villetoiviainen/Documents/dev/world_cup/bet/kelly_strategy.py:12: RuntimeWarning: divide by zero encountered in log\n",
      "  return -(p1 * np.log(1 + o1*a - b - c) + p2 * np.log(1 + o2*b - a - c) + p3*np.log(1 + o3*c - a - b))\n",
      "/Users/villetoiviainen/Documents/dev/world_cup/bet/kelly_strategy.py:12: RuntimeWarning: invalid value encountered in log\n",
      "  return -(p1 * np.log(1 + o1*a - b - c) + p2 * np.log(1 + o2*b - a - c) + p3*np.log(1 + o3*c - a - b))\n",
      "/Users/villetoiviainen/Documents/dev/world_cup/bet/kelly_strategy.py:12: RuntimeWarning: divide by zero encountered in log\n",
      "  return -(p1 * np.log(1 + o1*a - b - c) + p2 * np.log(1 + o2*b - a - c) + p3*np.log(1 + o3*c - a - b))\n",
      "/Users/villetoiviainen/Documents/dev/world_cup/bet/kelly_strategy.py:12: RuntimeWarning: invalid value encountered in log\n",
      "  return -(p1 * np.log(1 + o1*a - b - c) + p2 * np.log(1 + o2*b - a - c) + p3*np.log(1 + o3*c - a - b))\n",
      "/Users/villetoiviainen/Documents/dev/world_cup/bet/kelly_strategy.py:12: RuntimeWarning: divide by zero encountered in log\n",
      "  return -(p1 * np.log(1 + o1*a - b - c) + p2 * np.log(1 + o2*b - a - c) + p3*np.log(1 + o3*c - a - b))\n",
      "/Users/villetoiviainen/Documents/dev/world_cup/bet/kelly_strategy.py:12: RuntimeWarning: invalid value encountered in log\n",
      "  return -(p1 * np.log(1 + o1*a - b - c) + p2 * np.log(1 + o2*b - a - c) + p3*np.log(1 + o3*c - a - b))\n",
      "/Users/villetoiviainen/Documents/dev/world_cup/bet/kelly_strategy.py:12: RuntimeWarning: divide by zero encountered in log\n",
      "  return -(p1 * np.log(1 + o1*a - b - c) + p2 * np.log(1 + o2*b - a - c) + p3*np.log(1 + o3*c - a - b))\n",
      "/Users/villetoiviainen/Documents/dev/world_cup/bet/kelly_strategy.py:12: RuntimeWarning: invalid value encountered in log\n",
      "  return -(p1 * np.log(1 + o1*a - b - c) + p2 * np.log(1 + o2*b - a - c) + p3*np.log(1 + o3*c - a - b))\n",
      "/Users/villetoiviainen/Documents/dev/world_cup/bet/kelly_strategy.py:12: RuntimeWarning: divide by zero encountered in log\n",
      "  return -(p1 * np.log(1 + o1*a - b - c) + p2 * np.log(1 + o2*b - a - c) + p3*np.log(1 + o3*c - a - b))\n",
      "/Users/villetoiviainen/Documents/dev/world_cup/bet/kelly_strategy.py:12: RuntimeWarning: invalid value encountered in log\n",
      "  return -(p1 * np.log(1 + o1*a - b - c) + p2 * np.log(1 + o2*b - a - c) + p3*np.log(1 + o3*c - a - b))\n",
      "/Users/villetoiviainen/Documents/dev/world_cup/bet/kelly_strategy.py:12: RuntimeWarning: divide by zero encountered in log\n",
      "  return -(p1 * np.log(1 + o1*a - b - c) + p2 * np.log(1 + o2*b - a - c) + p3*np.log(1 + o3*c - a - b))\n",
      "/Users/villetoiviainen/Documents/dev/world_cup/bet/kelly_strategy.py:12: RuntimeWarning: invalid value encountered in log\n",
      "  return -(p1 * np.log(1 + o1*a - b - c) + p2 * np.log(1 + o2*b - a - c) + p3*np.log(1 + o3*c - a - b))\n",
      "/Users/villetoiviainen/Documents/dev/world_cup/bet/kelly_strategy.py:12: RuntimeWarning: divide by zero encountered in log\n",
      "  return -(p1 * np.log(1 + o1*a - b - c) + p2 * np.log(1 + o2*b - a - c) + p3*np.log(1 + o3*c - a - b))\n",
      "/Users/villetoiviainen/Documents/dev/world_cup/bet/kelly_strategy.py:12: RuntimeWarning: invalid value encountered in log\n",
      "  return -(p1 * np.log(1 + o1*a - b - c) + p2 * np.log(1 + o2*b - a - c) + p3*np.log(1 + o3*c - a - b))\n",
      "/Users/villetoiviainen/Documents/dev/world_cup/bet/kelly_strategy.py:12: RuntimeWarning: divide by zero encountered in log\n",
      "  return -(p1 * np.log(1 + o1*a - b - c) + p2 * np.log(1 + o2*b - a - c) + p3*np.log(1 + o3*c - a - b))\n"
     ]
    },
    {
     "name": "stdout",
     "output_type": "stream",
     "text": [
      "AVG Accuracy:  0.521875 0.0076546554462\n",
      "AVG Unit profit:  0.970234375 0.0154574216726\n",
      "AVG Kelly profit:  0.439433056776 0.0696125639605\n",
      "(1719, 6)\n"
     ]
    },
    {
     "name": "stderr",
     "output_type": "stream",
     "text": [
      "/Users/villetoiviainen/Documents/dev/world_cup/bet/kelly_strategy.py:12: RuntimeWarning: invalid value encountered in log\n",
      "  return -(p1 * np.log(1 + o1*a - b - c) + p2 * np.log(1 + o2*b - a - c) + p3*np.log(1 + o3*c - a - b))\n",
      "/Users/villetoiviainen/Documents/dev/world_cup/bet/kelly_strategy.py:12: RuntimeWarning: invalid value encountered in log\n",
      "  return -(p1 * np.log(1 + o1*a - b - c) + p2 * np.log(1 + o2*b - a - c) + p3*np.log(1 + o3*c - a - b))\n",
      "/Users/villetoiviainen/Documents/dev/world_cup/bet/kelly_strategy.py:12: RuntimeWarning: invalid value encountered in log\n",
      "  return -(p1 * np.log(1 + o1*a - b - c) + p2 * np.log(1 + o2*b - a - c) + p3*np.log(1 + o3*c - a - b))\n",
      "/Users/villetoiviainen/Documents/dev/world_cup/bet/kelly_strategy.py:12: RuntimeWarning: invalid value encountered in log\n",
      "  return -(p1 * np.log(1 + o1*a - b - c) + p2 * np.log(1 + o2*b - a - c) + p3*np.log(1 + o3*c - a - b))\n",
      "/Users/villetoiviainen/Documents/dev/world_cup/bet/kelly_strategy.py:12: RuntimeWarning: invalid value encountered in log\n",
      "  return -(p1 * np.log(1 + o1*a - b - c) + p2 * np.log(1 + o2*b - a - c) + p3*np.log(1 + o3*c - a - b))\n",
      "/Users/villetoiviainen/Documents/dev/world_cup/bet/kelly_strategy.py:12: RuntimeWarning: invalid value encountered in log\n",
      "  return -(p1 * np.log(1 + o1*a - b - c) + p2 * np.log(1 + o2*b - a - c) + p3*np.log(1 + o3*c - a - b))\n",
      "/Users/villetoiviainen/Documents/dev/world_cup/bet/kelly_strategy.py:12: RuntimeWarning: invalid value encountered in log\n",
      "  return -(p1 * np.log(1 + o1*a - b - c) + p2 * np.log(1 + o2*b - a - c) + p3*np.log(1 + o3*c - a - b))\n",
      "/Users/villetoiviainen/Documents/dev/world_cup/bet/kelly_strategy.py:12: RuntimeWarning: invalid value encountered in log\n",
      "  return -(p1 * np.log(1 + o1*a - b - c) + p2 * np.log(1 + o2*b - a - c) + p3*np.log(1 + o3*c - a - b))\n",
      "/Users/villetoiviainen/Documents/dev/world_cup/bet/kelly_strategy.py:12: RuntimeWarning: invalid value encountered in log\n",
      "  return -(p1 * np.log(1 + o1*a - b - c) + p2 * np.log(1 + o2*b - a - c) + p3*np.log(1 + o3*c - a - b))\n",
      "/Users/villetoiviainen/Documents/dev/world_cup/bet/kelly_strategy.py:12: RuntimeWarning: invalid value encountered in log\n",
      "  return -(p1 * np.log(1 + o1*a - b - c) + p2 * np.log(1 + o2*b - a - c) + p3*np.log(1 + o3*c - a - b))\n"
     ]
    },
    {
     "name": "stdout",
     "output_type": "stream",
     "text": [
      "AVG Accuracy:  0.534375 0.00625\n",
      "AVG Unit profit:  0.9851875 0.0138125\n",
      "AVG Kelly profit:  0.722931418098 0.0327743466517\n",
      "(1822, 6)\n"
     ]
    },
    {
     "name": "stderr",
     "output_type": "stream",
     "text": [
      "/Users/villetoiviainen/Documents/dev/world_cup/bet/kelly_strategy.py:12: RuntimeWarning: invalid value encountered in log\n",
      "  return -(p1 * np.log(1 + o1*a - b - c) + p2 * np.log(1 + o2*b - a - c) + p3*np.log(1 + o3*c - a - b))\n",
      "/Users/villetoiviainen/Documents/dev/world_cup/bet/kelly_strategy.py:12: RuntimeWarning: divide by zero encountered in log\n",
      "  return -(p1 * np.log(1 + o1*a - b - c) + p2 * np.log(1 + o2*b - a - c) + p3*np.log(1 + o3*c - a - b))\n",
      "/Users/villetoiviainen/Documents/dev/world_cup/bet/kelly_strategy.py:12: RuntimeWarning: invalid value encountered in log\n",
      "  return -(p1 * np.log(1 + o1*a - b - c) + p2 * np.log(1 + o2*b - a - c) + p3*np.log(1 + o3*c - a - b))\n",
      "/Users/villetoiviainen/Documents/dev/world_cup/bet/kelly_strategy.py:12: RuntimeWarning: divide by zero encountered in log\n",
      "  return -(p1 * np.log(1 + o1*a - b - c) + p2 * np.log(1 + o2*b - a - c) + p3*np.log(1 + o3*c - a - b))\n",
      "/Users/villetoiviainen/Documents/dev/world_cup/bet/kelly_strategy.py:12: RuntimeWarning: invalid value encountered in log\n",
      "  return -(p1 * np.log(1 + o1*a - b - c) + p2 * np.log(1 + o2*b - a - c) + p3*np.log(1 + o3*c - a - b))\n",
      "/Users/villetoiviainen/Documents/dev/world_cup/bet/kelly_strategy.py:12: RuntimeWarning: divide by zero encountered in log\n",
      "  return -(p1 * np.log(1 + o1*a - b - c) + p2 * np.log(1 + o2*b - a - c) + p3*np.log(1 + o3*c - a - b))\n",
      "/Users/villetoiviainen/Documents/dev/world_cup/bet/kelly_strategy.py:12: RuntimeWarning: invalid value encountered in log\n",
      "  return -(p1 * np.log(1 + o1*a - b - c) + p2 * np.log(1 + o2*b - a - c) + p3*np.log(1 + o3*c - a - b))\n",
      "/Users/villetoiviainen/Documents/dev/world_cup/bet/kelly_strategy.py:12: RuntimeWarning: divide by zero encountered in log\n",
      "  return -(p1 * np.log(1 + o1*a - b - c) + p2 * np.log(1 + o2*b - a - c) + p3*np.log(1 + o3*c - a - b))\n",
      "/Users/villetoiviainen/Documents/dev/world_cup/bet/kelly_strategy.py:12: RuntimeWarning: invalid value encountered in log\n",
      "  return -(p1 * np.log(1 + o1*a - b - c) + p2 * np.log(1 + o2*b - a - c) + p3*np.log(1 + o3*c - a - b))\n",
      "/Users/villetoiviainen/Documents/dev/world_cup/bet/kelly_strategy.py:12: RuntimeWarning: divide by zero encountered in log\n",
      "  return -(p1 * np.log(1 + o1*a - b - c) + p2 * np.log(1 + o2*b - a - c) + p3*np.log(1 + o3*c - a - b))\n",
      "/Users/villetoiviainen/Documents/dev/world_cup/bet/kelly_strategy.py:12: RuntimeWarning: invalid value encountered in log\n",
      "  return -(p1 * np.log(1 + o1*a - b - c) + p2 * np.log(1 + o2*b - a - c) + p3*np.log(1 + o3*c - a - b))\n",
      "/Users/villetoiviainen/Documents/dev/world_cup/bet/kelly_strategy.py:12: RuntimeWarning: divide by zero encountered in log\n",
      "  return -(p1 * np.log(1 + o1*a - b - c) + p2 * np.log(1 + o2*b - a - c) + p3*np.log(1 + o3*c - a - b))\n",
      "/Users/villetoiviainen/Documents/dev/world_cup/bet/kelly_strategy.py:12: RuntimeWarning: invalid value encountered in log\n",
      "  return -(p1 * np.log(1 + o1*a - b - c) + p2 * np.log(1 + o2*b - a - c) + p3*np.log(1 + o3*c - a - b))\n",
      "/Users/villetoiviainen/Documents/dev/world_cup/bet/kelly_strategy.py:12: RuntimeWarning: divide by zero encountered in log\n",
      "  return -(p1 * np.log(1 + o1*a - b - c) + p2 * np.log(1 + o2*b - a - c) + p3*np.log(1 + o3*c - a - b))\n",
      "/Users/villetoiviainen/Documents/dev/world_cup/bet/kelly_strategy.py:12: RuntimeWarning: invalid value encountered in log\n",
      "  return -(p1 * np.log(1 + o1*a - b - c) + p2 * np.log(1 + o2*b - a - c) + p3*np.log(1 + o3*c - a - b))\n",
      "/Users/villetoiviainen/Documents/dev/world_cup/bet/kelly_strategy.py:12: RuntimeWarning: divide by zero encountered in log\n",
      "  return -(p1 * np.log(1 + o1*a - b - c) + p2 * np.log(1 + o2*b - a - c) + p3*np.log(1 + o3*c - a - b))\n",
      "/Users/villetoiviainen/Documents/dev/world_cup/bet/kelly_strategy.py:12: RuntimeWarning: invalid value encountered in log\n",
      "  return -(p1 * np.log(1 + o1*a - b - c) + p2 * np.log(1 + o2*b - a - c) + p3*np.log(1 + o3*c - a - b))\n",
      "/Users/villetoiviainen/Documents/dev/world_cup/bet/kelly_strategy.py:12: RuntimeWarning: divide by zero encountered in log\n",
      "  return -(p1 * np.log(1 + o1*a - b - c) + p2 * np.log(1 + o2*b - a - c) + p3*np.log(1 + o3*c - a - b))\n"
     ]
    },
    {
     "name": "stdout",
     "output_type": "stream",
     "text": [
      "AVG Accuracy:  0.5109375 0.010004881621\n",
      "AVG Unit profit:  0.931484375 0.0308411734296\n",
      "AVG Kelly profit:  0.610544806287 0.171281834297\n"
     ]
    },
    {
     "name": "stderr",
     "output_type": "stream",
     "text": [
      "/Users/villetoiviainen/Documents/dev/world_cup/bet/kelly_strategy.py:12: RuntimeWarning: invalid value encountered in log\n",
      "  return -(p1 * np.log(1 + o1*a - b - c) + p2 * np.log(1 + o2*b - a - c) + p3*np.log(1 + o3*c - a - b))\n",
      "/Users/villetoiviainen/Documents/dev/world_cup/bet/kelly_strategy.py:12: RuntimeWarning: divide by zero encountered in log\n",
      "  return -(p1 * np.log(1 + o1*a - b - c) + p2 * np.log(1 + o2*b - a - c) + p3*np.log(1 + o3*c - a - b))\n"
     ]
    }
   ],
   "source": [
    "#### WC 2018\n",
    "match_template = 'data/original/wc_2018_games_real.csv'\n",
    "betting_file = 'data/original/wc_2018_bets.csv'\n",
    "\n",
    "for idx, interval in enumerate([(\"2004-06-12\", \"2010-06-11\"), (\"2010-06-11\", \"2014-06-12\"), (\"2014-06-12\", \"2018-06-14\")]):\n",
    "    acc, unit, kelly = simulate_betting_strategies(other_features, match_template, betting_file,\n",
    "                                               interval=interval, iter_n=10)\n",
    "    write_report(acc, unit, kelly, f\"WC2010_otherfeatures_interval_{idx}\", filename)"
   ]
  },
  {
   "cell_type": "code",
   "execution_count": 57,
   "metadata": {},
   "outputs": [],
   "source": [
    "def generate_table(string):\n",
    "    string = string.strip()\n",
    "    profit, std = string.split()\n",
    "    profit = (float(profit) - 1) * 100\n",
    "    profit = np.around(profit, 6)\n",
    "    std = float(std) * 100\n",
    "    std = np.around(std, 4)\n",
    "    s = f\"{profit}?% $?pm$ {std}\"\n",
    "    s = s.replace(\"?\", '\\\\')\n",
    "    print(s)"
   ]
  },
  {
   "cell_type": "code",
   "execution_count": 59,
   "metadata": {},
   "outputs": [
    {
     "name": "stdout",
     "output_type": "stream",
     "text": [
      "25.208937\\% $\\pm$ 3.8638\n"
     ]
    }
   ],
   "source": [
    "generate_table(\"1.2520893706610998 0.038637586924018294\")#"
   ]
  }
 ],
 "metadata": {
  "kernelspec": {
   "display_name": "Python 3",
   "language": "python",
   "name": "python3"
  },
  "language_info": {
   "codemirror_mode": {
    "name": "ipython",
    "version": 3
   },
   "file_extension": ".py",
   "mimetype": "text/x-python",
   "name": "python",
   "nbconvert_exporter": "python",
   "pygments_lexer": "ipython3",
   "version": "3.6.5"
  }
 },
 "nbformat": 4,
 "nbformat_minor": 2
}
