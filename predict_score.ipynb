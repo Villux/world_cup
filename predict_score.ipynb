{
 "cells": [
  {
   "cell_type": "code",
   "execution_count": 1,
   "metadata": {},
   "outputs": [],
   "source": [
    "import functools\n",
    "import numpy as np\n",
    "import pandas as pd\n",
    "import random\n",
    "from time import time\n",
    "from scipy.stats import randint as sp_randint\n",
    "from multiprocessing import Pool, cpu_count\n",
    "\n",
    "from sklearn.model_selection import cross_val_score\n",
    "from sklearn.ensemble import RandomForestRegressor\n",
    "from sklearn.pipeline import Pipeline\n",
    "from sklearn.metrics import classification_report, mean_absolute_error, mean_squared_error, accuracy_score, log_loss\n",
    "from sklearn.model_selection import train_test_split, RandomizedSearchCV, GridSearchCV\n",
    "from sklearn import preprocessing\n",
    "\n",
    "import matplotlib.pyplot as plt\n",
    "from IPython.display import set_matplotlib_formats\n",
    "set_matplotlib_formats('svg')\n",
    "%matplotlib inline\n",
    "plt.style.use('ggplot')\n",
    "\n",
    "from features.data_provider import get_feature_columns, get_whole_dataset\n",
    "from simulation.predictor import ScorePredictor, MaxProbabilityScorePredictor\n",
    "from simulation.simulation import run_simulation\n",
    "from models.grid_search import run_custom_grid_search\n",
    "from models.score_model import get_model\n",
    "from models.helpers import get_best_params\n",
    "from notebook_helpers import get_cv_grid_search_arguments, run_grid_search_for_score, get_score_model_metrics"
   ]
  },
  {
   "cell_type": "code",
   "execution_count": 2,
   "metadata": {},
   "outputs": [],
   "source": [
    "Xhome, yhome = get_whole_dataset(\"home_score\")\n",
    "Xaway, yaway = get_whole_dataset(\"away_score\")\n",
    "_, outcomes = get_whole_dataset(\"home_win\")"
   ]
  },
  {
   "cell_type": "code",
   "execution_count": null,
   "metadata": {},
   "outputs": [],
   "source": []
  },
  {
   "cell_type": "code",
   "execution_count": null,
   "metadata": {},
   "outputs": [],
   "source": [
    "params = {\"oob_score\":True, \"bootstrap\":True, \"n_estimators\": 2000} \n",
    "arguments = get_cv_grid_search_arguments(params, Xhome)\n",
    "results = run_grid_search_for_score(arguments, Xhome, yhome, Xaway, yaway, outcomes)\n",
    "results.to_csv(\"score_hyperparam_optimization.csv\")\n",
    "results.sort_values(['test_acc', 'test_logloss'], ascending=[False, True])"
   ]
  }
 ],
 "metadata": {
  "kernelspec": {
   "display_name": "Python 3",
   "language": "python",
   "name": "python3"
  },
  "language_info": {
   "codemirror_mode": {
    "name": "ipython",
    "version": 3
   },
   "file_extension": ".py",
   "mimetype": "text/x-python",
   "name": "python",
   "nbconvert_exporter": "python",
   "pygments_lexer": "ipython3",
   "version": "3.6.5"
  }
 },
 "nbformat": 4,
 "nbformat_minor": 2
}
