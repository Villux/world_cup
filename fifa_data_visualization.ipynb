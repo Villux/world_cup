{
 "cells": [
  {
   "cell_type": "code",
   "execution_count": 1,
   "metadata": {},
   "outputs": [],
   "source": [
    "import numpy as np\n",
    "import pandas as pd\n",
    "\n",
    "import matplotlib.pyplot as plt\n",
    "from IPython.display import set_matplotlib_formats\n",
    "set_matplotlib_formats('svg')\n",
    "%matplotlib inline\n",
    "plt.style.use('ggplot')"
   ]
  },
  {
   "cell_type": "code",
   "execution_count": 3,
   "metadata": {},
   "outputs": [
    {
     "name": "stdout",
     "output_type": "stream",
     "text": [
      "   Unnamed: 0  Acceleration  Aggression  Agility  Balance  Ball_Control  \\\n",
      "0           1            62          81      NaN      NaN            22   \n",
      "1           2            55          88      NaN      NaN            28   \n",
      "\n",
      "   Composure  Crossing  Curve  Dribbling  ...   national_team_rating  \\\n",
      "0        NaN         9    NaN          9  ...                   85.0   \n",
      "1        NaN        11    NaN          9  ...                   85.0   \n",
      "\n",
      "   nationality  overall_rating  play_pos  potential  preferred_foot  \\\n",
      "0        Italy              93        GK         93           Right   \n",
      "1       France              92        GK         93           Right   \n",
      "\n",
      "        wage  weak_foot  weight  year  \n",
      "0  <U+20AC>0          3      82  2007  \n",
      "1  <U+20AC>0          3      80  2007  \n",
      "\n",
      "[2 rows x 53 columns]\n",
      "        Unnamed: 0  Acceleration  Aggression  Agility  Balance  Ball_Control  \\\n",
      "187411      187412            58          39     57.0     61.0            49   \n",
      "187412      187413            66          26     60.0     77.0            41   \n",
      "\n",
      "        Composure  Crossing  Curve  Dribbling  ...   national_team_rating  \\\n",
      "187411       53.0        48   46.0         51  ...                    NaN   \n",
      "187412       50.0        28   32.0         37  ...                    NaN   \n",
      "\n",
      "                nationality  overall_rating  play_pos  potential  \\\n",
      "187411  Republic of Ireland              46        CM         55   \n",
      "187412             Scotland              46        ST         61   \n",
      "\n",
      "        preferred_foot        wage  weak_foot  weight  year  \n",
      "187411           Right  <U+20AC>1K          3      67  2018  \n",
      "187412            Left  <U+20AC>1K          2      71  2018  \n",
      "\n",
      "[2 rows x 53 columns]\n",
      "(187413, 53)\n"
     ]
    }
   ],
   "source": [
    "dataset = pd.read_csv('data/generated/sofifa_player_attributes.csv')\n",
    "print(dataset.head(2))\n",
    "print(dataset.tail(2))\n",
    "print(dataset.shape)"
   ]
  }
 ],
 "metadata": {
  "kernelspec": {
   "display_name": "Python 3",
   "language": "python",
   "name": "python3"
  },
  "language_info": {
   "codemirror_mode": {
    "name": "ipython",
    "version": 3
   },
   "file_extension": ".py",
   "mimetype": "text/x-python",
   "name": "python",
   "nbconvert_exporter": "python",
   "pygments_lexer": "ipython3",
   "version": "3.6.5"
  }
 },
 "nbformat": 4,
 "nbformat_minor": 2
}
