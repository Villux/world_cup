{
 "cells": [
  {
   "cell_type": "code",
   "execution_count": 12,
   "metadata": {},
   "outputs": [],
   "source": [
    "import pandas as pd\n",
    "from time import time\n",
    "from sklearn.ensemble import RandomForestClassifier\n",
    "from sklearn.metrics import classification_report\n",
    "from sklearn.model_selection import GridSearchCV\n",
    "import matplotlib.pyplot as plt\n",
    "from IPython.display import set_matplotlib_formats\n",
    "set_matplotlib_formats('svg')\n",
    "%matplotlib inline\n",
    "plt.style.use('ggplot')\n",
    "\n",
    "from features.data_provider import get_train_test_wc_dataset, get_feature_columns, get_whole_dataset"
   ]
  },
  {
   "cell_type": "code",
   "execution_count": 2,
   "metadata": {},
   "outputs": [
    {
     "name": "stdout",
     "output_type": "stream",
     "text": [
      "Dataset length 39008\n",
      "Dataset complete cases length 6676\n",
      "Whole train set length:  5601\n",
      "Whole test set length:  1075\n",
      "Whole WC set length:  128\n"
     ]
    }
   ],
   "source": [
    "X_train, y_train, X_test, y_test, X_wc, y_wc = get_train_test_wc_dataset(\"home_win\")"
   ]
  },
  {
   "cell_type": "code",
   "execution_count": 3,
   "metadata": {
    "scrolled": true
   },
   "outputs": [
    {
     "data": {
      "text/plain": [
       "<matplotlib.axes._subplots.AxesSubplot at 0x1a1023e470>"
      ]
     },
     "execution_count": 3,
     "metadata": {},
     "output_type": "execute_result"
    },
    {
     "data": {
      "text/plain": [
       "<Figure size 1440x432 with 0 Axes>"
      ]
     },
     "metadata": {},
     "output_type": "display_data"
    },
    {
     "data": {
      "image/png": "[encoded data removed]",
      "text/plain": [
       "<Figure size 864x288 with 3 Axes>"
      ]
     },
     "metadata": {},
     "output_type": "display_data"
    }
   ],
   "source": [
    "def get_labeled_df(s):\n",
    "    df = pd.DataFrame(s)\n",
    "    df[df[\"home_win\"] == 1] = \"Win\"\n",
    "    df[df[\"home_win\"] == 0] = \"Draw\"\n",
    "    df[df[\"home_win\"] == -1] = \"Lose\"\n",
    "    return df\n",
    "\n",
    "plt.figure(figsize=(20, 6))\n",
    "fig, axes = plt.subplots(nrows=1, ncols=3, figsize=(12, 4))\n",
    "pd.value_counts(get_labeled_df(y_train)[\"home_win\"]).plot.bar(ax=axes[0])\n",
    "pd.value_counts(get_labeled_df(y_test)[\"home_win\"]).plot.bar(ax=axes[1])\n",
    "pd.value_counts(get_labeled_df(y_wc)[\"home_win\"]).plot.bar(ax=axes[2])"
   ]
  },
  {
   "cell_type": "code",
   "execution_count": 10,
   "metadata": {},
   "outputs": [],
   "source": [
    "def get_feature_importance(clf):\n",
    "    zipped = sorted(zip(get_feature_columns(), clf.feature_importances_), key = lambda t: t[1], reverse=True)\n",
    "    for feature, importance in zipped:\n",
    "        print(f\"{feature}: {importance}\")\n",
    "        \n",
    "def run_grid_search(clf, param_grid, Xtrain, ytrain, Xtest, ytest, X_wc, y_wc, custom_report_for_model=None):\n",
    "    grid_search = GridSearchCV(clf, param_grid=param_grid)\n",
    "    start = time()\n",
    "    grid_search.fit(Xtrain, ytrain)\n",
    "    print(\"TRAIN SET METRICS:\")\n",
    "    print(\"SCORE: \", grid_search.score(Xtrain, ytrain))\n",
    "    y_true, y_pred = ytrain, grid_search.predict(Xtrain)\n",
    "    print(classification_report(y_true, y_pred))\n",
    "    print(\"BEST PARAMS: \", grid_search.best_params_)\n",
    "    print()\n",
    "    print()\n",
    "    \n",
    "    print(\"TEST SET METRICS:\")\n",
    "    print(\"SCORE: \", grid_search.score(Xtest, ytest))\n",
    "    y_true, y_pred = ytest, grid_search.predict(Xtest)\n",
    "    print(\"\\n\",classification_report(y_true, y_pred))\n",
    "        \n",
    "    print()\n",
    "    print()\n",
    "    print(\"WC SET METRICS:\")\n",
    "    print(\"SCORE: \", grid_search.score(X_wc, y_wc))\n",
    "    y_true, y_pred = y_wc, grid_search.predict(X_wc)\n",
    "    print(\"\\n\",classification_report(y_true, y_pred))\n",
    "    \n",
    "    print()\n",
    "    print()\n",
    "    if custom_report_for_model:\n",
    "        custom_report_for_model(grid_search)\n",
    "    return grid_search.best_estimator_"
   ]
  },
  {
   "cell_type": "code",
   "execution_count": 11,
   "metadata": {},
   "outputs": [
    {
     "name": "stdout",
     "output_type": "stream",
     "text": [
      "TRAIN SET METRICS:\n",
      "SCORE:  0.917693269059\n",
      "             precision    recall  f1-score   support\n",
      "\n",
      "       -1.0       0.90      0.94      0.92      2076\n",
      "        0.0       0.99      0.85      0.91      1402\n",
      "        1.0       0.89      0.94      0.92      2123\n",
      "\n",
      "avg / total       0.92      0.92      0.92      5601\n",
      "\n",
      "BEST PARAMS:  {'criterion': 'gini', 'max_depth': None, 'max_features': 'sqrt', 'min_samples_leaf': 5, 'n_estimators': 1000}\n",
      "\n",
      "\n",
      "TEST SET METRICS:\n",
      "SCORE:  0.533953488372\n",
      "\n",
      "              precision    recall  f1-score   support\n",
      "\n",
      "       -1.0       0.51      0.72      0.60       389\n",
      "        0.0       0.29      0.04      0.07       274\n",
      "        1.0       0.58      0.68      0.63       412\n",
      "\n",
      "avg / total       0.48      0.53      0.47      1075\n",
      "\n",
      "\n",
      "\n",
      "WC SET METRICS:\n",
      "SCORE:  0.5859375\n",
      "\n",
      "              precision    recall  f1-score   support\n",
      "\n",
      "       -1.0       0.64      0.71      0.67        58\n",
      "        0.0       0.00      0.00      0.00        29\n",
      "        1.0       0.54      0.83      0.65        41\n",
      "\n",
      "avg / total       0.46      0.59      0.51       128\n",
      "\n",
      "\n",
      "\n"
     ]
    },
    {
     "ename": "NameError",
     "evalue": "name 'get_feature_columns' is not defined",
     "output_type": "error",
     "traceback": [
      "\u001b[0;31m---------------------------------------------------------------------------\u001b[0m",
      "\u001b[0;31mNameError\u001b[0m                                 Traceback (most recent call last)",
      "\u001b[0;32m<ipython-input-11-faccc00f2276>\u001b[0m in \u001b[0;36m<module>\u001b[0;34m()\u001b[0m\n\u001b[1;32m     10\u001b[0m                              \u001b[0mX_test\u001b[0m\u001b[0;34m,\u001b[0m \u001b[0my_test\u001b[0m\u001b[0;34m,\u001b[0m\u001b[0;34m\u001b[0m\u001b[0m\n\u001b[1;32m     11\u001b[0m                              \u001b[0mX_wc\u001b[0m\u001b[0;34m,\u001b[0m \u001b[0my_wc\u001b[0m\u001b[0;34m,\u001b[0m\u001b[0;34m\u001b[0m\u001b[0m\n\u001b[0;32m---> 12\u001b[0;31m                              custom_report_for_model=get_feature_importance)\n\u001b[0m",
      "\u001b[0;32m<ipython-input-10-7e8bdce4ce47>\u001b[0m in \u001b[0;36mrun_grid_search\u001b[0;34m(clf, param_grid, Xtrain, ytrain, Xtest, ytest, X_wc, y_wc, custom_report_for_model)\u001b[0m\n\u001b[1;32m     31\u001b[0m     \u001b[0mprint\u001b[0m\u001b[0;34m(\u001b[0m\u001b[0;34m)\u001b[0m\u001b[0;34m\u001b[0m\u001b[0m\n\u001b[1;32m     32\u001b[0m     \u001b[0;32mif\u001b[0m \u001b[0mcustom_report_for_model\u001b[0m\u001b[0;34m:\u001b[0m\u001b[0;34m\u001b[0m\u001b[0m\n\u001b[0;32m---> 33\u001b[0;31m         \u001b[0mcustom_report_for_model\u001b[0m\u001b[0;34m(\u001b[0m\u001b[0mgrid_search\u001b[0m\u001b[0;34m)\u001b[0m\u001b[0;34m\u001b[0m\u001b[0m\n\u001b[0m\u001b[1;32m     34\u001b[0m     \u001b[0;32mreturn\u001b[0m \u001b[0mgrid_search\u001b[0m\u001b[0;34m.\u001b[0m\u001b[0mbest_estimator_\u001b[0m\u001b[0;34m\u001b[0m\u001b[0m\n",
      "\u001b[0;32m<ipython-input-10-7e8bdce4ce47>\u001b[0m in \u001b[0;36mget_feature_importance\u001b[0;34m(clf)\u001b[0m\n\u001b[1;32m      1\u001b[0m \u001b[0;32mdef\u001b[0m \u001b[0mget_feature_importance\u001b[0m\u001b[0;34m(\u001b[0m\u001b[0mclf\u001b[0m\u001b[0;34m)\u001b[0m\u001b[0;34m:\u001b[0m\u001b[0;34m\u001b[0m\u001b[0m\n\u001b[0;32m----> 2\u001b[0;31m     \u001b[0mzipped\u001b[0m \u001b[0;34m=\u001b[0m \u001b[0msorted\u001b[0m\u001b[0;34m(\u001b[0m\u001b[0mzip\u001b[0m\u001b[0;34m(\u001b[0m\u001b[0mget_feature_columns\u001b[0m\u001b[0;34m(\u001b[0m\u001b[0;34m)\u001b[0m\u001b[0;34m,\u001b[0m \u001b[0mclf\u001b[0m\u001b[0;34m.\u001b[0m\u001b[0mfeature_importances_\u001b[0m\u001b[0;34m)\u001b[0m\u001b[0;34m,\u001b[0m \u001b[0mkey\u001b[0m \u001b[0;34m=\u001b[0m \u001b[0;32mlambda\u001b[0m \u001b[0mt\u001b[0m\u001b[0;34m:\u001b[0m \u001b[0mt\u001b[0m\u001b[0;34m[\u001b[0m\u001b[0;36m1\u001b[0m\u001b[0;34m]\u001b[0m\u001b[0;34m,\u001b[0m \u001b[0mreverse\u001b[0m\u001b[0;34m=\u001b[0m\u001b[0;32mTrue\u001b[0m\u001b[0;34m)\u001b[0m\u001b[0;34m\u001b[0m\u001b[0m\n\u001b[0m\u001b[1;32m      3\u001b[0m     \u001b[0;32mfor\u001b[0m \u001b[0mfeature\u001b[0m\u001b[0;34m,\u001b[0m \u001b[0mimportance\u001b[0m \u001b[0;32min\u001b[0m \u001b[0mzipped\u001b[0m\u001b[0;34m:\u001b[0m\u001b[0;34m\u001b[0m\u001b[0m\n\u001b[1;32m      4\u001b[0m         \u001b[0mprint\u001b[0m\u001b[0;34m(\u001b[0m\u001b[0;34mf\"{feature}: {importance}\"\u001b[0m\u001b[0;34m)\u001b[0m\u001b[0;34m\u001b[0m\u001b[0m\n\u001b[1;32m      5\u001b[0m \u001b[0;34m\u001b[0m\u001b[0m\n",
      "\u001b[0;31mNameError\u001b[0m: name 'get_feature_columns' is not defined"
     ]
    }
   ],
   "source": [
    "clf = RandomForestClassifier(oob_score=True, bootstrap=True, n_jobs=-1)\n",
    "\n",
    "param_grid = {\"n_estimators\": [1000],\n",
    "              \"max_depth\": [None],\n",
    "              \"min_samples_leaf\": [5],\n",
    "              \"max_features\": [\"sqrt\"],\n",
    "              \"criterion\": [\"gini\"]}\n",
    "best_clf = run_grid_search(clf, param_grid,\n",
    "                             X_train, y_train, \n",
    "                             X_test, y_test, \n",
    "                             X_wc, y_wc,\n",
    "                             custom_report_for_model=get_feature_importance)"
   ]
  }
 ],
 "metadata": {
  "kernelspec": {
   "display_name": "Python 3",
   "language": "python",
   "name": "python3"
  },
  "language_info": {
   "codemirror_mode": {
    "name": "ipython",
    "version": 3
   },
   "file_extension": ".py",
   "mimetype": "text/x-python",
   "name": "python",
   "nbconvert_exporter": "python",
   "pygments_lexer": "ipython3",
   "version": "3.6.5"
  }
 },
 "nbformat": 4,
 "nbformat_minor": 2
}
