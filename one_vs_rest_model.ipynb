{
 "cells": [
  {
   "cell_type": "code",
   "execution_count": null,
   "metadata": {},
   "outputs": [],
   "source": [
    "from notebook_helpers import get_onevsrest_dataset, run_custom_grid_search"
   ]
  },
  {
   "cell_type": "code",
   "execution_count": null,
   "metadata": {},
   "outputs": [],
   "source": [
    "params = {\"oob_score\":True, \"bootstrap\":True, \"n_jobs\":-1, \"n_estimators\": 5000}"
   ]
  },
  {
   "cell_type": "code",
   "execution_count": null,
   "metadata": {},
   "outputs": [],
   "source": [
    "X_train, y_train, X_test, y_test = get_onevsrest_dataset(1)\n",
    "results = run_custom_grid_search(params, X_train, y_train, X_test, y_test)\n",
    "results.to_csv(\"onevsrest_home_hyperparam_optimization.csv\")\n",
    "results.sort_values(['test_acc', 'test_logloss'], ascending=[False, True])"
   ]
  },
  {
   "cell_type": "code",
   "execution_count": null,
   "metadata": {},
   "outputs": [],
   "source": [
    "X_train, y_train, X_test, y_test = get_onevsrest_dataset(0)\n",
    "results = run_custom_grid_search(params, X_train, y_train, X_test, y_test)\n",
    "results.to_csv(\"onevsrest_draw_hyperparam_optimization.csv\")\n",
    "results.sort_values(['test_acc', 'test_logloss'], ascending=[False, True])"
   ]
  },
  {
   "cell_type": "code",
   "execution_count": null,
   "metadata": {},
   "outputs": [],
   "source": [
    "X_train, y_train, X_test, y_test = get_onevsrest_dataset(-1)\n",
    "results = run_custom_grid_search(params, X_train, y_train, X_test, y_test)\n",
    "results.to_csv(\"onevsrest_away_hyperparam_optimization.csv\")\n",
    "results.sort_values(['test_acc', 'test_logloss'], ascending=[False, True])"
   ]
  }
 ],
 "metadata": {
  "kernelspec": {
   "display_name": "Python 3",
   "language": "python",
   "name": "python3"
  },
  "language_info": {
   "codemirror_mode": {
    "name": "ipython",
    "version": 3
   },
   "file_extension": ".py",
   "mimetype": "text/x-python",
   "name": "python",
   "nbconvert_exporter": "python",
   "pygments_lexer": "ipython3",
   "version": "3.6.5"
  }
 },
 "nbformat": 4,
 "nbformat_minor": 2
}
