{
 "cells": [
  {
   "cell_type": "code",
   "execution_count": 1,
   "metadata": {
    "collapsed": true
   },
   "outputs": [],
   "source": [
    "import numpy as np\n",
    "import pandas as pd\n",
    "import matplotlib.pyplot as plt\n",
    "from IPython.display import set_matplotlib_formats\n",
    "set_matplotlib_formats('svg')\n",
    "%matplotlib inline\n",
    "plt.style.use('ggplot')\n",
    "\n",
    "from simulation.analyse import get_win_probabilities, get_simulations\n",
    "from features.data_provider import get_whole_dataset\n",
    "from models.score_model import get_model\n",
    "from simulation.predictor import MaxProbabilityScorePredictor\n",
    "from simulation.simulation import run_simulation, run_actual_tournament_simulation\n",
    "from db.simulation_table import store_simulation_results, delete_all\n",
    "\n",
    "from notebook_helpers import plot_bank_and_bets, run_unit_strategy, run_kelly_strategy"
   ]
  },
  {
   "cell_type": "code",
   "execution_count": null,
   "metadata": {
    "collapsed": true
   },
   "outputs": [],
   "source": [
    "home = get_whole_dataset(\"home_score\", filter_start=\"2014-06-12\")\n",
    "away = get_whole_dataset(\"away_score\", filter_start=\"2014-06-12\")\n",
    "X = pd.concat([home[0], away[0]])\n",
    "y = pd.concat([home[1], away[1]])\n",
    "model = get_model(X=X, y=y, n_estimators=5000)\n",
    "predictor = MaxProbabilityScorePredictor(model)"
   ]
  },
  {
   "cell_type": "code",
   "execution_count": null,
   "metadata": {
    "collapsed": true
   },
   "outputs": [],
   "source": [
    "tournament_template = pd.read_csv('data/original/wc_2014_real.csv')\n",
    "run_actual_tournament_simulation(tournament_template, predictor)\n",
    "store_simulation_results(\"data/simulations/tmp/single_simulation_wc2014.csv\")\n",
    "delete_all()"
   ]
  },
  {
   "cell_type": "code",
   "execution_count": null,
   "metadata": {
    "scrolled": true
   },
   "outputs": [],
   "source": [
    "tournament_simulation = pd.read_csv('data/simulations/tmp/single_simulation_wc2014.csv')\n",
    "tournament_simulation[\"true_outcome\"] = np.sign(tournament_simulation[\"home_score\"] - tournament_simulation[\"away_score\"])\n",
    "print(\"Accuracy:\", sum(tournament_simulation[\"outcome\"] == tournament_simulation[\"true_outcome\"]) / tournament_template.shape[0])\n",
    "tournament_simulation"
   ]
  },
  {
   "cell_type": "code",
   "execution_count": null,
   "metadata": {
    "collapsed": true
   },
   "outputs": [],
   "source": [
    "match_bets = pd.read_csv('data/original/wc_2014_bets.csv')"
   ]
  },
  {
   "cell_type": "code",
   "execution_count": null,
   "metadata": {
    "scrolled": false
   },
   "outputs": [],
   "source": [
    "y_pred = tournament_simulation[\"outcome\"].values\n",
    "y_true = tournament_simulation[\"true_outcome\"].values\n",
    "odds = match_bets[[\"1\", \"X\", \"2\"]].values\n",
    "run_unit_strategy(y_pred, y_true, odds)"
   ]
  },
  {
   "cell_type": "code",
   "execution_count": null,
   "metadata": {},
   "outputs": [],
   "source": [
    "y_pred = tournament_simulation[\"outcome\"].values\n",
    "y_true = tournament_simulation[\"true_outcome\"].values\n",
    "odds = match_bets[[\"1\", \"X\", \"2\"]].values\n",
    "probabilities = tournament_simulation[[\"home_win_prob\", \"draw_prob\", \"away_win_prob\"]].values\n",
    "run_kelly_strategy(y_pred, y_true, odds, probabilities)"
   ]
  },
  {
   "cell_type": "code",
   "execution_count": null,
   "metadata": {},
   "outputs": [],
   "source": [
    "X.shape[0]"
   ]
  }
 ],
 "metadata": {
  "kernelspec": {
   "display_name": "Python 3",
   "language": "python",
   "name": "python3"
  },
  "language_info": {
   "codemirror_mode": {
    "name": "ipython",
    "version": 3
   },
   "file_extension": ".py",
   "mimetype": "text/x-python",
   "name": "python",
   "nbconvert_exporter": "python",
   "pygments_lexer": "ipython3",
   "version": "3.6.3"
  }
 },
 "nbformat": 4,
 "nbformat_minor": 2
}
