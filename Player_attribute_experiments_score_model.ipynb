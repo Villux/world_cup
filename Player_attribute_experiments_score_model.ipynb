{
 "cells": [
  {
   "cell_type": "code",
   "execution_count": 1,
   "metadata": {
    "collapsed": true
   },
   "outputs": [],
   "source": [
    "import numpy as np\n",
    "import pandas as pd\n",
    "from sklearn.model_selection import cross_val_score\n",
    "from sklearn.metrics import confusion_matrix\n",
    "\n",
    "from features.data_provider import get_feature_columns, get_whole_dataset, set_feature_columns\n",
    "from simulation.predictor import MaxProbabilityScorePredictor\n",
    "from models.score_model import get_model\n",
    "from simulation.analyse import get_win_probabilities, get_simulations\n",
    "from simulation.simulation import run_actual_tournament_simulation\n",
    "from db.simulation_table import get_simulation_results, delete_all\n",
    "from notebook_helpers import plot_bank_and_bets, run_unit_strategy, run_kelly_strategy"
   ]
  },
  {
   "cell_type": "code",
   "execution_count": 2,
   "metadata": {
    "collapsed": true
   },
   "outputs": [],
   "source": [
    "all_features = get_feature_columns()\n",
    "player_features = ['rating_diff', 'potential_diff', 'height_diff','weight_diff','age_diff',\n",
    "                   'weak_foot_diff','internationl_repuatiotion_diff','crossing_diff','finishing_diff',\n",
    "                   'heading_accuracy_diff','short_passing_diff','dribbling_diff','fk_accuracy_diff',\n",
    "                   'long_passing_diff','ball_control_diff','acceleration_diff','sprint_speed_diff',\n",
    "                   'reactions_diff','shot_power_diff','stamina_diff','strength_diff','long_shots_diff',\n",
    "                   'aggression_diff','penalties_diff','marking_diff','standing_tackle_diff',\n",
    "                  'gk_diving_diff', 'gk_handling_diff', 'gk_kicking_diff', 'gk_reflexes_diff']\n",
    "\n",
    "other_features = ['elo_diff', 'away_goal_mean', 'away_goals_with_home', \n",
    "                  'goal_diff_with_away', 'home_goal_mean', 'home_goals_with_away']\n",
    "\n",
    "assert (len(player_features) + len(other_features)) == len(all_features)"
   ]
  },
  {
   "cell_type": "code",
   "execution_count": 3,
   "metadata": {
    "collapsed": true
   },
   "outputs": [],
   "source": [
    "#### WC 2018"
   ]
  },
  {
   "cell_type": "code",
   "execution_count": 4,
   "metadata": {
    "collapsed": true
   },
   "outputs": [],
   "source": [
    "home = get_whole_dataset(\"home_score\")\n",
    "away = get_whole_dataset(\"away_score\")\n",
    "X = pd.concat([home[0], away[0]])\n",
    "y = pd.concat([home[1], away[1]])"
   ]
  },
  {
   "cell_type": "code",
   "execution_count": 5,
   "metadata": {},
   "outputs": [
    {
     "name": "stdout",
     "output_type": "stream",
     "text": [
      "(16248, 36)\n",
      "0.584375\n",
      "70.88\n",
      "105.744445651\n"
     ]
    }
   ],
   "source": [
    "unit_banks = []\n",
    "kelly_banks = []\n",
    "accuracies = []\n",
    "\n",
    "set_feature_columns(all_features)\n",
    "print(X.shape)\n",
    "for i in range(10):\n",
    "    model = get_model(X=X, y=y, n_estimators=500)\n",
    "    predictor = MaxProbabilityScorePredictor(model)\n",
    "    match_template = pd.read_csv('data/original/wc_2018_games_real.csv')\n",
    "    run_actual_tournament_simulation(match_template, predictor)\n",
    "    tournament_simulation = get_simulation_results()\n",
    "    tournament_simulation[\"true_outcome\"] = np.sign(tournament_simulation[\"home_score\"] - tournament_simulation[\"away_score\"])\n",
    "    delete_all()\n",
    "\n",
    "    accuracy = sum(tournament_simulation[\"outcome\"] == tournament_simulation[\"true_outcome\"]) / tournament_simulation.shape[0]\n",
    "    accuracies.append(accuracy)\n",
    "    \n",
    "    match_bets = pd.read_csv('data/original/wc_2018_bets.csv')\n",
    "\n",
    "    y_pred = tournament_simulation[\"outcome\"].values\n",
    "    y_true = tournament_simulation[\"true_outcome\"].values\n",
    "    odds = match_bets[[\"1\", \"X\", \"2\"]].values\n",
    "    unit_bank = run_unit_strategy(y_pred, y_true, odds)\n",
    "\n",
    "    probabilities = tournament_simulation[[\"home_win_prob\", \"draw_prob\", \"away_win_prob\"]].values\n",
    "    kelly_bank = run_kelly_strategy(y_pred, y_true, odds, probabilities)\n",
    "    \n",
    "    unit_banks.append(unit_bank)\n",
    "    kelly_banks.append(kelly_bank)\n",
    "\n",
    "print(np.mean(accuracies))\n",
    "print(np.mean(unit_banks))\n",
    "print(np.mean(kelly_banks))"
   ]
  },
  {
   "cell_type": "code",
   "execution_count": 6,
   "metadata": {
    "scrolled": false
   },
   "outputs": [
    {
     "name": "stdout",
     "output_type": "stream",
     "text": [
      "(16248, 6)\n",
      "0.5515625\n",
      "70.464\n",
      "77.4614470313\n"
     ]
    }
   ],
   "source": [
    "unit_banks = []\n",
    "kelly_banks = []\n",
    "accuracies = []\n",
    "\n",
    "set_feature_columns(other_features)\n",
    "subset_of_features = other_features\n",
    "Xsub = X[subset_of_features]\n",
    "print(Xsub.shape)\n",
    "\n",
    "for i in range(10):\n",
    "    model = get_model(X=Xsub, y=y, n_estimators=500)\n",
    "    predictor = MaxProbabilityScorePredictor(model)\n",
    "    match_template = pd.read_csv('data/original/wc_2018_games_real.csv')\n",
    "    run_actual_tournament_simulation(match_template, predictor)\n",
    "    tournament_simulation = get_simulation_results()\n",
    "    delete_all()\n",
    "\n",
    "    tournament_simulation[\"true_outcome\"] = np.sign(tournament_simulation[\"home_score\"] - tournament_simulation[\"away_score\"])\n",
    "    \n",
    "    accuracy = sum(tournament_simulation[\"outcome\"] == tournament_simulation[\"true_outcome\"]) / tournament_simulation.shape[0]\n",
    "    accuracies.append(accuracy)\n",
    "    \n",
    "    match_bets = pd.read_csv('data/original/wc_2018_bets.csv')\n",
    "\n",
    "    y_pred = tournament_simulation[\"outcome\"].values\n",
    "    y_true = tournament_simulation[\"true_outcome\"].values\n",
    "    odds = match_bets[[\"1\", \"X\", \"2\"]].values\n",
    "    unit_bank = run_unit_strategy(y_pred, y_true, odds)\n",
    "\n",
    "    probabilities = tournament_simulation[[\"home_win_prob\", \"draw_prob\", \"away_win_prob\"]].values\n",
    "    kelly_bank = run_kelly_strategy(y_pred, y_true, odds, probabilities)\n",
    "    \n",
    "    unit_banks.append(unit_bank)\n",
    "    kelly_banks.append(kelly_bank)\n",
    "    \n",
    "print(np.mean(accuracies))\n",
    "print(np.mean(unit_banks))\n",
    "print(np.mean(kelly_banks))"
   ]
  },
  {
   "cell_type": "code",
   "execution_count": 7,
   "metadata": {
    "collapsed": true
   },
   "outputs": [],
   "source": [
    "#### WC 2014"
   ]
  },
  {
   "cell_type": "code",
   "execution_count": 8,
   "metadata": {
    "collapsed": true
   },
   "outputs": [],
   "source": [
    "set_feature_columns(all_features)\n",
    "home = get_whole_dataset(\"home_score\", filter_start=\"2014-06-12\")\n",
    "away = get_whole_dataset(\"away_score\", filter_start=\"2014-06-12\")\n",
    "X = pd.concat([home[0], away[0]])\n",
    "y = pd.concat([home[1], away[1]])"
   ]
  },
  {
   "cell_type": "code",
   "execution_count": 9,
   "metadata": {},
   "outputs": [
    {
     "name": "stdout",
     "output_type": "stream",
     "text": [
      "(10306, 36)\n",
      "0.64375\n",
      "81.96\n",
      "209.758908818\n"
     ]
    }
   ],
   "source": [
    "unit_banks = []\n",
    "kelly_banks = []\n",
    "accuracies = []\n",
    "\n",
    "print(X.shape)\n",
    "for i in range(10):\n",
    "    model = get_model(X=X, y=y, n_estimators=500)\n",
    "    predictor = MaxProbabilityScorePredictor(model)\n",
    "    match_template = pd.read_csv('data/original/wc_2014_games_real.csv')\n",
    "    run_actual_tournament_simulation(match_template, predictor)\n",
    "    tournament_simulation = get_simulation_results()\n",
    "    tournament_simulation[\"true_outcome\"] = np.sign(tournament_simulation[\"home_score\"] - tournament_simulation[\"away_score\"])\n",
    "    delete_all()\n",
    "\n",
    "    accuracy = sum(tournament_simulation[\"outcome\"] == tournament_simulation[\"true_outcome\"]) / tournament_simulation.shape[0]\n",
    "    accuracies.append(accuracy)\n",
    "    \n",
    "    match_bets = pd.read_csv('data/original/wc_2014_bets.csv')\n",
    "\n",
    "    y_pred = tournament_simulation[\"outcome\"].values\n",
    "    y_true = tournament_simulation[\"true_outcome\"].values\n",
    "    odds = match_bets[[\"1\", \"X\", \"2\"]].values\n",
    "    unit_bank = run_unit_strategy(y_pred, y_true, odds)\n",
    "\n",
    "    probabilities = tournament_simulation[[\"home_win_prob\", \"draw_prob\", \"away_win_prob\"]].values\n",
    "    kelly_bank = run_kelly_strategy(y_pred, y_true, odds, probabilities)\n",
    "    \n",
    "    unit_banks.append(unit_bank)\n",
    "    kelly_banks.append(kelly_bank)\n",
    "\n",
    "print(np.mean(accuracies))\n",
    "print(np.mean(unit_banks))\n",
    "print(np.mean(kelly_banks))"
   ]
  },
  {
   "cell_type": "code",
   "execution_count": 10,
   "metadata": {},
   "outputs": [
    {
     "name": "stdout",
     "output_type": "stream",
     "text": [
      "(10306, 6)\n",
      "0.609375\n",
      "79.29\n",
      "666.318100947\n"
     ]
    }
   ],
   "source": [
    "unit_banks = []\n",
    "kelly_banks = []\n",
    "accuracies = []\n",
    "\n",
    "set_feature_columns(other_features)\n",
    "subset_of_features = other_features\n",
    "Xsub = X[subset_of_features]\n",
    "print(Xsub.shape)\n",
    "\n",
    "for i in range(10):\n",
    "    model = get_model(X=Xsub, y=y, n_estimators=500)\n",
    "    predictor = MaxProbabilityScorePredictor(model)\n",
    "    match_template = pd.read_csv('data/original/wc_2014_games_real.csv')\n",
    "    tournament_simulation = get_simulation_results()\n",
    "    tournament_simulation[\"true_outcome\"] = np.sign(tournament_simulation[\"home_score\"] - tournament_simulation[\"away_score\"])\n",
    "    delete_all()\n",
    "\n",
    "    tournament_simulation = pd.read_csv('data/simulations/tmp/single_simulation_outcome_wc2014.csv')\n",
    "    tournament_simulation[\"true_outcome\"] = np.sign(tournament_simulation[\"home_score\"] - tournament_simulation[\"away_score\"])\n",
    "    \n",
    "    accuracy = sum(tournament_simulation[\"outcome\"] == tournament_simulation[\"true_outcome\"]) / tournament_simulation.shape[0]\n",
    "    accuracies.append(accuracy)\n",
    "    \n",
    "    match_bets = pd.read_csv('data/original/wc_2014_bets.csv')\n",
    "\n",
    "    y_pred = tournament_simulation[\"outcome\"].values\n",
    "    y_true = tournament_simulation[\"true_outcome\"].values\n",
    "    odds = match_bets[[\"1\", \"X\", \"2\"]].values\n",
    "    unit_bank = run_unit_strategy(y_pred, y_true, odds)\n",
    "\n",
    "    probabilities = tournament_simulation[[\"home_win_prob\", \"draw_prob\", \"away_win_prob\"]].values\n",
    "    kelly_bank = run_kelly_strategy(y_pred, y_true, odds, probabilities)\n",
    "    \n",
    "    unit_banks.append(unit_bank)\n",
    "    kelly_banks.append(kelly_bank)\n",
    "    \n",
    "print(np.mean(accuracies))\n",
    "print(np.mean(unit_banks))\n",
    "print(np.mean(kelly_banks))"
   ]
  }
 ],
 "metadata": {
  "kernelspec": {
   "display_name": "Python 3",
   "language": "python",
   "name": "python3"
  },
  "language_info": {
   "codemirror_mode": {
    "name": "ipython",
    "version": 3
   },
   "file_extension": ".py",
   "mimetype": "text/x-python",
   "name": "python",
   "nbconvert_exporter": "python",
   "pygments_lexer": "ipython3",
   "version": "3.6.3"
  }
 },
 "nbformat": 4,
 "nbformat_minor": 2
}
