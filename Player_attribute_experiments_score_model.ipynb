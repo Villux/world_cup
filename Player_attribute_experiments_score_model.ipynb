{
 "cells": [
  {
   "cell_type": "code",
   "execution_count": 1,
   "metadata": {
    "collapsed": true
   },
   "outputs": [],
   "source": [
    "import numpy as np\n",
    "import pandas as pd\n",
    "from sklearn.model_selection import cross_val_score\n",
    "from sklearn.metrics import confusion_matrix\n",
    "\n",
    "from features.data_provider import get_feature_columns, get_whole_dataset, set_feature_columns\n",
    "from simulation.predictor import MaxProbabilityScorePredictor\n",
    "from models.score_model import get_model\n",
    "from simulation.analyse import get_win_probabilities, get_simulations\n",
    "from simulation.simulation import run_actual_tournament_simulation\n",
    "from db.simulation_table import get_simulation_results, delete_all\n",
    "from notebook_helpers import plot_bank_and_bets, run_unit_strategy, run_kelly_strategy"
   ]
  },
  {
   "cell_type": "code",
   "execution_count": 2,
   "metadata": {},
   "outputs": [],
   "source": [
    "all_features = get_feature_columns()\n",
    "player_features = ['rating_diff', 'potential_diff', 'height_diff','weight_diff','age_diff',\n",
    "                   'weak_foot_diff','internationl_repuatiotion_diff','crossing_diff','finishing_diff',\n",
    "                   'heading_accuracy_diff','short_passing_diff','dribbling_diff','fk_accuracy_diff',\n",
    "                   'long_passing_diff','ball_control_diff','acceleration_diff','sprint_speed_diff',\n",
    "                   'reactions_diff','shot_power_diff','stamina_diff','strength_diff','long_shots_diff',\n",
    "                   'aggression_diff','penalties_diff','marking_diff','standing_tackle_diff',\n",
    "                  'gk_diving_diff', 'gk_handling_diff', 'gk_kicking_diff', 'gk_reflexes_diff']\n",
    "\n",
    "other_features = ['elo_diff', 'away_goal_mean', 'away_goals_with_home', \n",
    "                  'goal_diff_with_away', 'home_goal_mean', 'home_goals_with_away']\n",
    "\n",
    "assert (len(player_features) + len(other_features)) == len(all_features)"
   ]
  },
  {
   "cell_type": "code",
   "execution_count": 10,
   "metadata": {},
   "outputs": [],
   "source": [
    "def simulate_betting_strategies(features, match_template_file, bet_file, filter_start=None, filter_end=None, interval=None):\n",
    "    unit_banks = []\n",
    "    kelly_banks = []\n",
    "    accuracies = []\n",
    "\n",
    "    set_feature_columns(features)\n",
    "    \n",
    "    home = get_whole_dataset(\"home_score\", filter_start=filter_start, filter_end=filter_end, interval=interval)\n",
    "    away = get_whole_dataset(\"away_score\", filter_start=filter_start, filter_end=filter_end, interval=interval)\n",
    "    X = pd.concat([home[0], away[0]])\n",
    "    y = pd.concat([home[1], away[1]])\n",
    "\n",
    "    print(X.shape)\n",
    "    for i in range(10):\n",
    "        model = get_model(X=X, y=y, n_estimators=2000)\n",
    "        predictor = MaxProbabilityScorePredictor(model)\n",
    "        match_template = pd.read_csv(match_template_file)\n",
    "        run_actual_tournament_simulation(match_template, predictor)\n",
    "        tournament_simulation = get_simulation_results()\n",
    "        tournament_simulation[\"true_outcome\"] = np.sign(tournament_simulation[\"home_score\"] - tournament_simulation[\"away_score\"])\n",
    "        delete_all()\n",
    "\n",
    "        accuracy = sum(tournament_simulation[\"outcome\"] == tournament_simulation[\"true_outcome\"]) / tournament_simulation.shape[0]\n",
    "        accuracies.append(accuracy)\n",
    "\n",
    "        match_bets = pd.read_csv(bet_file)\n",
    "\n",
    "        y_pred = tournament_simulation[\"outcome\"].values\n",
    "        y_true = tournament_simulation[\"true_outcome\"].values\n",
    "        odds = match_bets[[\"1\", \"X\", \"2\"]].values\n",
    "        unit_bank = run_unit_strategy(y_pred, y_true, odds)\n",
    "\n",
    "        probabilities = tournament_simulation[[\"home_win_prob\", \"draw_prob\", \"away_win_prob\"]].values\n",
    "        kelly_bank = run_kelly_strategy(y_true, odds, probabilities)\n",
    "\n",
    "        unit_banks.append(unit_bank)\n",
    "        kelly_banks.append(kelly_bank)\n",
    "\n",
    "    return accuracies, unit_banks, kelly_banks\n",
    "\n",
    "def print_report(accuracy, unit, kelly):\n",
    "    print(\"AVG Accuracy: \", np.mean(accuracy), np.std(accuracy))\n",
    "    print(\"AVG Unit bank: \", np.mean(unit), np.std(unit))\n",
    "    print(\"AVG Kelly bank: \", np.mean(kelly), np.std(kelly))"
   ]
  },
  {
   "cell_type": "code",
   "execution_count": null,
   "metadata": {
    "collapsed": true
   },
   "outputs": [],
   "source": []
  },
  {
   "cell_type": "code",
   "execution_count": null,
   "metadata": {},
   "outputs": [],
   "source": [
    "#### WC 2018\n",
    "match_template = 'data/original/wc_2018_games_real.csv'\n",
    "betting_file = 'data/original/wc_2018_bets.csv'"
   ]
  },
  {
   "cell_type": "code",
   "execution_count": null,
   "metadata": {},
   "outputs": [],
   "source": [
    "acc, unit, kelly = simulate_betting_strategies(all_features, match_template, betting_file)\n",
    "print_report(acc, unit, kelly)"
   ]
  },
  {
   "cell_type": "code",
   "execution_count": null,
   "metadata": {},
   "outputs": [],
   "source": [
    "acc, unit, kelly = simulate_betting_strategies(other_features, match_template, betting_file)\n",
    "print_report(acc, unit, kelly)"
   ]
  },
  {
   "cell_type": "code",
   "execution_count": null,
   "metadata": {},
   "outputs": [],
   "source": [
    "acc, unit, kelly = simulate_betting_strategies(player_features, match_template, betting_file)\n",
    "print_report(acc, unit, kelly)"
   ]
  },
  {
   "cell_type": "code",
   "execution_count": null,
   "metadata": {
    "collapsed": true
   },
   "outputs": [],
   "source": [
    "#### WC 2014\n",
    "match_template = 'data/original/wc_2014_games_real.csv'\n",
    "betting_file = 'data/original/wc_2014_bets.csv'"
   ]
  },
  {
   "cell_type": "code",
   "execution_count": null,
   "metadata": {},
   "outputs": [],
   "source": [
    "acc, unit, kelly = simulate_betting_strategies(all_features, match_template, betting_file,\n",
    "                                              filter_start=\"2014-06-12\")\n",
    "print_report(acc, unit, kelly)"
   ]
  },
  {
   "cell_type": "code",
   "execution_count": null,
   "metadata": {},
   "outputs": [],
   "source": [
    "acc, unit, kelly = simulate_betting_strategies(other_features, match_template, betting_file,\n",
    "                                               filter_start=\"2014-06-12\")\n",
    "print_report(acc, unit, kelly)"
   ]
  },
  {
   "cell_type": "code",
   "execution_count": null,
   "metadata": {},
   "outputs": [],
   "source": [
    "acc, unit, kelly = simulate_betting_strategies(player_features, match_template, betting_file,\n",
    "                                               filter_start=\"2014-06-12\")\n",
    "print_report(acc, unit, kelly)"
   ]
  },
  {
   "cell_type": "code",
   "execution_count": null,
   "metadata": {
    "collapsed": true
   },
   "outputs": [],
   "source": [
    "#### WC 2010\n",
    "match_template = 'data/original/wc_2010_games_real.csv'\n",
    "betting_file = 'data/original/wc_2010_bets.csv'"
   ]
  },
  {
   "cell_type": "code",
   "execution_count": null,
   "metadata": {},
   "outputs": [],
   "source": [
    "acc, unit, kelly = simulate_betting_strategies(all_features, match_template, betting_file,\n",
    "                                              filter_start=\"2010-06-12\")\n",
    "print_report(acc, unit, kelly)"
   ]
  },
  {
   "cell_type": "code",
   "execution_count": null,
   "metadata": {},
   "outputs": [],
   "source": [
    "acc, unit, kelly = simulate_betting_strategies(other_features, match_template, betting_file,\n",
    "                                               filter_start=\"2010-06-12\")\n",
    "print_report(acc, unit, kelly)"
   ]
  },
  {
   "cell_type": "code",
   "execution_count": null,
   "metadata": {},
   "outputs": [],
   "source": [
    "acc, unit, kelly = simulate_betting_strategies(player_features, match_template, betting_file,\n",
    "                                               filter_start=\"2010-06-12\")\n",
    "print_report(acc, unit, kelly)"
   ]
  },
  {
   "cell_type": "code",
   "execution_count": null,
   "metadata": {},
   "outputs": [],
   "source": [
    "from sklearn.model_selection import train_test_split\n",
    "\n",
    "for features_group in [all_features, other_features, player_features]:\n",
    "    set_feature_columns(features_group)\n",
    "    home = get_whole_dataset(\"home_score\")\n",
    "    away = get_whole_dataset(\"away_score\")\n",
    "    X = pd.concat([home[0], away[0]])\n",
    "    y = pd.concat([home[1], away[1]])\n",
    "\n",
    "    X_train, X_test, y_train, y_test = train_test_split(X, y, test_size=0.4, random_state=0)\n",
    "    model = get_model(X=X_train, y=y_train, n_estimators=500)\n",
    "\n",
    "    y_pred_mu = model.predict(X_test)\n",
    "    y_pred = np.around(y_pred_mu)\n",
    "    print(\"Score: \", sum(np.around(y_pred) == y_test) / len(X_test))"
   ]
  },
  {
   "cell_type": "code",
   "execution_count": 11,
   "metadata": {},
   "outputs": [
    {
     "name": "stdout",
     "output_type": "stream",
     "text": [
      "(4238, 36)\n",
      "AVG Accuracy:  0.578125 0.00698771242969\n",
      "AVG Unit bank:  70.364 1.39791416045\n",
      "AVG Kelly bank:  56.9552719695 2.40650181396\n",
      "(16248, 36)\n",
      "AVG Accuracy:  0.5875 0.0076546554462\n",
      "AVG Unit bank:  71.47 1.44519894824\n",
      "AVG Kelly bank:  71.3111380075 2.21825663259\n",
      "(16248, 36)\n",
      "AVG Accuracy:  0.5875 0.0076546554462\n",
      "AVG Unit bank:  71.47 1.44519894824\n",
      "AVG Kelly bank:  69.9056815772 2.99508925063\n"
     ]
    }
   ],
   "source": [
    "#### WC 2018\n",
    "match_template = 'data/original/wc_2018_games_real.csv'\n",
    "betting_file = 'data/original/wc_2018_bets.csv'\n",
    "\n",
    "for interval in [(None, \"2010-06-12\"), (\"2010-06-12\", \"2014-06-12\"), (\"2014-06-12\", \"2018-06-14\")]:\n",
    "    acc, unit, kelly = simulate_betting_strategies(all_features, match_template, betting_file,\n",
    "                                               interval=interval)\n",
    "    print_report(acc, unit, kelly)"
   ]
  }
 ],
 "metadata": {
  "kernelspec": {
   "display_name": "Python 3",
   "language": "python",
   "name": "python3"
  },
  "language_info": {
   "codemirror_mode": {
    "name": "ipython",
    "version": 3
   },
   "file_extension": ".py",
   "mimetype": "text/x-python",
   "name": "python",
   "nbconvert_exporter": "python",
   "pygments_lexer": "ipython3",
   "version": "3.6.3"
  }
 },
 "nbformat": 4,
 "nbformat_minor": 2
}
