{
 "cells": [
  {
   "cell_type": "code",
   "execution_count": 1,
   "metadata": {},
   "outputs": [],
   "source": [
    "import numpy as np\n",
    "import pandas as pd\n",
    "from sklearn.model_selection import cross_val_score, train_test_split\n",
    "from sklearn.metrics import confusion_matrix\n",
    "\n",
    "from features.data_provider import get_feature_columns, get_whole_dataset, set_feature_columns\n",
    "from simulation.predictor import MaxProbabilityScorePredictor, ScorePredictor\n",
    "from models.score_model import get_model\n",
    "from simulation.analyse import get_win_probabilities, get_simulations\n",
    "from simulation.simulation import run_actual_tournament_simulation\n",
    "from db.simulation_table import get_simulation_results, delete_all\n",
    "from bet.unit_strategy import UnitStrategy\n",
    "from bet.kelly_strategy import KellyStrategy\n",
    "from notebook_helpers import plot_bank_and_bets, print_report"
   ]
  },
  {
   "cell_type": "code",
   "execution_count": 2,
   "metadata": {},
   "outputs": [],
   "source": [
    "all_features = get_feature_columns()\n",
    "player_features = ['rating_diff', 'potential_diff', 'height_diff','weight_diff','age_diff',\n",
    "                   'weak_foot_diff','internationl_repuatiotion_diff','crossing_diff','finishing_diff',\n",
    "                   'heading_accuracy_diff','short_passing_diff','dribbling_diff','fk_accuracy_diff',\n",
    "                   'long_passing_diff','ball_control_diff','acceleration_diff','sprint_speed_diff',\n",
    "                   'reactions_diff','shot_power_diff','stamina_diff','strength_diff','long_shots_diff',\n",
    "                   'aggression_diff','penalties_diff','marking_diff','standing_tackle_diff',\n",
    "                  'gk_diving_diff', 'gk_handling_diff', 'gk_kicking_diff', 'gk_reflexes_diff']\n",
    "\n",
    "other_features = ['elo_diff', 'away_goal_mean', 'away_goals_with_home', \n",
    "                  'goal_diff_with_away', 'home_goal_mean', 'home_goals_with_away']\n",
    "\n",
    "assert (len(player_features) + len(other_features)) == len(all_features)"
   ]
  },
  {
   "cell_type": "code",
   "execution_count": 3,
   "metadata": {},
   "outputs": [],
   "source": [
    "def simulate_betting_strategies(features, match_template_file, \n",
    "                                bet_file, filter_start=None, filter_end=None, interval=None,\n",
    "                                iter_n=10):\n",
    "    unit_profit = []\n",
    "    kelly_profit = []\n",
    "    accuracies = []\n",
    "\n",
    "    set_feature_columns(features)\n",
    "    \n",
    "    home = get_whole_dataset(\"home_score\", filter_start=filter_start, filter_end=filter_end, interval=interval)\n",
    "    away = get_whole_dataset(\"away_score\", filter_start=filter_start, filter_end=filter_end, interval=interval)\n",
    "    X = pd.concat([home[0], away[0]])\n",
    "    y = pd.concat([home[1], away[1]])\n",
    "\n",
    "    print(X.shape)\n",
    "    for i in range(iter_n):\n",
    "        model = get_model(X=X, y=y, n_estimators=2000)\n",
    "        predictor = MaxProbabilityScorePredictor(model)\n",
    "        match_template = pd.read_csv(match_template_file)\n",
    "        run_actual_tournament_simulation(match_template, predictor)\n",
    "        tournament_simulation = get_simulation_results()\n",
    "        tournament_simulation[\"true_outcome\"] = np.sign(tournament_simulation[\"home_score\"] - tournament_simulation[\"away_score\"])\n",
    "        delete_all()\n",
    "\n",
    "        accuracy = sum(tournament_simulation[\"outcome\"] == tournament_simulation[\"true_outcome\"]) / tournament_simulation.shape[0]\n",
    "        accuracies.append(accuracy)\n",
    "\n",
    "        match_bets = pd.read_csv(bet_file)\n",
    "        \n",
    "        odds = match_bets[[\"1\", \"X\", \"2\"]].values\n",
    "        probabilities = tournament_simulation[[\"home_win_prob\", \"draw_prob\", \"away_win_prob\"]].values        \n",
    "        y_pred = tournament_simulation[\"outcome\"].values\n",
    "        y_true = tournament_simulation[\"true_outcome\"].values\n",
    "\n",
    "        unit_strategy = UnitStrategy(y_pred, y_true)\n",
    "        unit_strategy.run(odds)\n",
    "\n",
    "        kelly_strategy = KellyStrategy(y_true)\n",
    "        kelly_strategy.run(odds, probabilities)\n",
    "\n",
    "        unit_profit.append(unit_strategy.get_total_profit())\n",
    "        kelly_profit.append(kelly_strategy.get_total_profit())\n",
    "\n",
    "    return accuracies, unit_banks, kelly_banks"
   ]
  },
  {
   "cell_type": "code",
   "execution_count": 4,
   "metadata": {},
   "outputs": [],
   "source": [
    "#### WC 2018\n",
    "match_template = 'data/original/wc_2018_games_real.csv'\n",
    "betting_file = 'data/original/wc_2018_bets.csv'"
   ]
  },
  {
   "cell_type": "code",
   "execution_count": 5,
   "metadata": {},
   "outputs": [
    {
     "name": "stdout",
     "output_type": "stream",
     "text": [
      "(9478, 36)\n"
     ]
    },
    {
     "name": "stderr",
     "output_type": "stream",
     "text": [
      "/Users/villetoiviainen/Documents/dev/world_cup/bet/kelly_strategy.py:12: RuntimeWarning: invalid value encountered in log\n",
      "  return -(p1 * np.log(1 + o1*a - b - c) + p2 * np.log(1 + o2*b - a - c) + p3*np.log(1 + o3*c - a - b))\n",
      "/Users/villetoiviainen/Documents/dev/world_cup/bet/kelly_strategy.py:12: RuntimeWarning: invalid value encountered in log\n",
      "  return -(p1 * np.log(1 + o1*a - b - c) + p2 * np.log(1 + o2*b - a - c) + p3*np.log(1 + o3*c - a - b))\n",
      "/Users/villetoiviainen/Documents/dev/world_cup/bet/kelly_strategy.py:12: RuntimeWarning: invalid value encountered in log\n",
      "  return -(p1 * np.log(1 + o1*a - b - c) + p2 * np.log(1 + o2*b - a - c) + p3*np.log(1 + o3*c - a - b))\n",
      "/Users/villetoiviainen/Documents/dev/world_cup/bet/kelly_strategy.py:12: RuntimeWarning: invalid value encountered in log\n",
      "  return -(p1 * np.log(1 + o1*a - b - c) + p2 * np.log(1 + o2*b - a - c) + p3*np.log(1 + o3*c - a - b))\n",
      "/Users/villetoiviainen/Documents/dev/world_cup/bet/kelly_strategy.py:12: RuntimeWarning: divide by zero encountered in log\n",
      "  return -(p1 * np.log(1 + o1*a - b - c) + p2 * np.log(1 + o2*b - a - c) + p3*np.log(1 + o3*c - a - b))\n",
      "/Users/villetoiviainen/Documents/dev/world_cup/bet/kelly_strategy.py:12: RuntimeWarning: invalid value encountered in log\n",
      "  return -(p1 * np.log(1 + o1*a - b - c) + p2 * np.log(1 + o2*b - a - c) + p3*np.log(1 + o3*c - a - b))\n",
      "/Users/villetoiviainen/Documents/dev/world_cup/bet/kelly_strategy.py:12: RuntimeWarning: invalid value encountered in log\n",
      "  return -(p1 * np.log(1 + o1*a - b - c) + p2 * np.log(1 + o2*b - a - c) + p3*np.log(1 + o3*c - a - b))\n",
      "/Users/villetoiviainen/Documents/dev/world_cup/bet/kelly_strategy.py:12: RuntimeWarning: invalid value encountered in log\n",
      "  return -(p1 * np.log(1 + o1*a - b - c) + p2 * np.log(1 + o2*b - a - c) + p3*np.log(1 + o3*c - a - b))\n",
      "/Users/villetoiviainen/Documents/dev/world_cup/bet/kelly_strategy.py:12: RuntimeWarning: invalid value encountered in log\n",
      "  return -(p1 * np.log(1 + o1*a - b - c) + p2 * np.log(1 + o2*b - a - c) + p3*np.log(1 + o3*c - a - b))\n",
      "/Users/villetoiviainen/Documents/dev/world_cup/bet/kelly_strategy.py:12: RuntimeWarning: invalid value encountered in log\n",
      "  return -(p1 * np.log(1 + o1*a - b - c) + p2 * np.log(1 + o2*b - a - c) + p3*np.log(1 + o3*c - a - b))\n",
      "/Users/villetoiviainen/Documents/dev/world_cup/bet/kelly_strategy.py:12: RuntimeWarning: divide by zero encountered in log\n",
      "  return -(p1 * np.log(1 + o1*a - b - c) + p2 * np.log(1 + o2*b - a - c) + p3*np.log(1 + o3*c - a - b))\n",
      "/Users/villetoiviainen/Documents/dev/world_cup/bet/kelly_strategy.py:12: RuntimeWarning: invalid value encountered in log\n",
      "  return -(p1 * np.log(1 + o1*a - b - c) + p2 * np.log(1 + o2*b - a - c) + p3*np.log(1 + o3*c - a - b))\n"
     ]
    },
    {
     "ename": "NameError",
     "evalue": "name 'unit_banks' is not defined",
     "output_type": "error",
     "traceback": [
      "\u001b[0;31m---------------------------------------------------------------------------\u001b[0m",
      "\u001b[0;31mNameError\u001b[0m                                 Traceback (most recent call last)",
      "\u001b[0;32m<ipython-input-5-144753d78057>\u001b[0m in \u001b[0;36m<module>\u001b[0;34m()\u001b[0m\n\u001b[0;32m----> 1\u001b[0;31m \u001b[0macc\u001b[0m\u001b[0;34m,\u001b[0m \u001b[0munit\u001b[0m\u001b[0;34m,\u001b[0m \u001b[0mkelly\u001b[0m \u001b[0;34m=\u001b[0m \u001b[0msimulate_betting_strategies\u001b[0m\u001b[0;34m(\u001b[0m\u001b[0mall_features\u001b[0m\u001b[0;34m,\u001b[0m \u001b[0mmatch_template\u001b[0m\u001b[0;34m,\u001b[0m \u001b[0mbetting_file\u001b[0m\u001b[0;34m)\u001b[0m\u001b[0;34m\u001b[0m\u001b[0m\n\u001b[0m\u001b[1;32m      2\u001b[0m \u001b[0mprint_report\u001b[0m\u001b[0;34m(\u001b[0m\u001b[0macc\u001b[0m\u001b[0;34m,\u001b[0m \u001b[0munit\u001b[0m\u001b[0;34m,\u001b[0m \u001b[0mkelly\u001b[0m\u001b[0;34m)\u001b[0m\u001b[0;34m\u001b[0m\u001b[0m\n",
      "\u001b[0;32m<ipython-input-3-f362520c7e6e>\u001b[0m in \u001b[0;36msimulate_betting_strategies\u001b[0;34m(features, match_template_file, bet_file, filter_start, filter_end, interval, iter_n)\u001b[0m\n\u001b[1;32m     42\u001b[0m         \u001b[0mkelly_profit\u001b[0m\u001b[0;34m.\u001b[0m\u001b[0mappend\u001b[0m\u001b[0;34m(\u001b[0m\u001b[0mkelly_strategy\u001b[0m\u001b[0;34m.\u001b[0m\u001b[0mget_total_profit\u001b[0m\u001b[0;34m(\u001b[0m\u001b[0;34m)\u001b[0m\u001b[0;34m)\u001b[0m\u001b[0;34m\u001b[0m\u001b[0m\n\u001b[1;32m     43\u001b[0m \u001b[0;34m\u001b[0m\u001b[0m\n\u001b[0;32m---> 44\u001b[0;31m     \u001b[0;32mreturn\u001b[0m \u001b[0maccuracies\u001b[0m\u001b[0;34m,\u001b[0m \u001b[0munit_banks\u001b[0m\u001b[0;34m,\u001b[0m \u001b[0mkelly_banks\u001b[0m\u001b[0;34m\u001b[0m\u001b[0m\n\u001b[0m",
      "\u001b[0;31mNameError\u001b[0m: name 'unit_banks' is not defined"
     ]
    }
   ],
   "source": [
    "acc, unit, kelly = simulate_betting_strategies(all_features, match_template, betting_file)\n",
    "print_report(acc, unit, kelly)"
   ]
  },
  {
   "cell_type": "code",
   "execution_count": null,
   "metadata": {},
   "outputs": [],
   "source": [
    "acc, unit, kelly = simulate_betting_strategies(other_features, match_template, betting_file)\n",
    "print_report(acc, unit, kelly)"
   ]
  },
  {
   "cell_type": "code",
   "execution_count": null,
   "metadata": {},
   "outputs": [],
   "source": [
    "acc, unit, kelly = simulate_betting_strategies(player_features, match_template, betting_file)\n",
    "print_report(acc, unit, kelly)"
   ]
  },
  {
   "cell_type": "code",
   "execution_count": null,
   "metadata": {},
   "outputs": [],
   "source": [
    "#### WC 2014\n",
    "match_template = 'data/original/wc_2014_games_real.csv'\n",
    "betting_file = 'data/original/wc_2014_bets.csv'"
   ]
  },
  {
   "cell_type": "code",
   "execution_count": null,
   "metadata": {},
   "outputs": [],
   "source": [
    "acc, unit, kelly = simulate_betting_strategies(all_features, match_template, betting_file,\n",
    "                                              filter_start=\"2014-06-12\")\n",
    "print_report(acc, unit, kelly)"
   ]
  },
  {
   "cell_type": "code",
   "execution_count": null,
   "metadata": {},
   "outputs": [],
   "source": [
    "acc, unit, kelly = simulate_betting_strategies(other_features, match_template, betting_file,\n",
    "                                               filter_start=\"2014-06-12\")\n",
    "print_report(acc, unit, kelly)"
   ]
  },
  {
   "cell_type": "code",
   "execution_count": null,
   "metadata": {},
   "outputs": [],
   "source": [
    "acc, unit, kelly = simulate_betting_strategies(player_features, match_template, betting_file,\n",
    "                                               filter_start=\"2014-06-12\")\n",
    "print_report(acc, unit, kelly)"
   ]
  },
  {
   "cell_type": "code",
   "execution_count": null,
   "metadata": {},
   "outputs": [],
   "source": [
    "#### WC 2010\n",
    "match_template = 'data/original/wc_2010_games_real.csv'\n",
    "betting_file = 'data/original/wc_2010_bets.csv'"
   ]
  },
  {
   "cell_type": "code",
   "execution_count": null,
   "metadata": {},
   "outputs": [],
   "source": [
    "acc, unit, kelly = simulate_betting_strategies(all_features, match_template, betting_file,\n",
    "                                              filter_start=\"2010-06-11\")\n",
    "print_report(acc, unit, kelly)"
   ]
  },
  {
   "cell_type": "code",
   "execution_count": null,
   "metadata": {},
   "outputs": [],
   "source": [
    "acc, unit, kelly = simulate_betting_strategies(other_features, match_template, betting_file,\n",
    "                                               filter_start=\"2010-06-11\")\n",
    "print_report(acc, unit, kelly)"
   ]
  },
  {
   "cell_type": "code",
   "execution_count": null,
   "metadata": {},
   "outputs": [],
   "source": [
    "acc, unit, kelly = simulate_betting_strategies(player_features, match_template, betting_file,\n",
    "                                               filter_start=\"2010-06-11\")\n",
    "print_report(acc, unit, kelly)"
   ]
  },
  {
   "cell_type": "code",
   "execution_count": null,
   "metadata": {},
   "outputs": [],
   "source": [
    "for features_group in [all_features, other_features, player_features]:\n",
    "    set_feature_columns(features_group)\n",
    "    home = get_whole_dataset(\"home_score\")\n",
    "    away = get_whole_dataset(\"away_score\")\n",
    "    X = pd.concat([home[0], away[0]])\n",
    "    y = pd.concat([home[1], away[1]])\n",
    "\n",
    "    X_train, X_test, y_train, y_test = train_test_split(X, y, test_size=0.4, random_state=0)\n",
    "    model = get_model(X=X_train, y=y_train, n_estimators=500)\n",
    "\n",
    "    y_pred_mu = model.predict(X_test)\n",
    "    y_pred = np.around(y_pred_mu)\n",
    "    print(\"Score: \", sum(np.around(y_pred) == y_test) / len(X_test))"
   ]
  },
  {
   "cell_type": "code",
   "execution_count": null,
   "metadata": {
    "scrolled": false
   },
   "outputs": [],
   "source": [
    "#### WC 2018\n",
    "match_template = 'data/original/wc_2018_games_real.csv'\n",
    "betting_file = 'data/original/wc_2018_bets.csv'\n",
    "\n",
    "for interval in [(\"2004-06-12\", \"2010-06-11\"), (\"2010-06-11\", \"2014-06-12\"), (\"2014-06-12\", \"2018-06-14\")]:\n",
    "    acc, unit, kelly = simulate_betting_strategies(all_features, match_template, betting_file,\n",
    "                                               interval=interval, iter_n=10)\n",
    "    print_report(acc, unit, kelly)"
   ]
  },
  {
   "cell_type": "code",
   "execution_count": null,
   "metadata": {
    "scrolled": false
   },
   "outputs": [],
   "source": [
    "#### WC 2018\n",
    "match_template = 'data/original/wc_2018_games_real.csv'\n",
    "betting_file = 'data/original/wc_2018_bets.csv'\n",
    "\n",
    "for interval in [(\"2004-06-12\", \"2010-06-12\"), (\"2010-06-12\", \"2014-06-12\"), (\"2014-06-12\", \"2018-06-14\")]:\n",
    "    acc, unit, kelly = simulate_betting_strategies(other_features, match_template, betting_file,\n",
    "                                               interval=interval, iter_n=10)\n",
    "    print_report(acc, unit, kelly)"
   ]
  }
 ],
 "metadata": {
  "kernelspec": {
   "display_name": "Python 3",
   "language": "python",
   "name": "python3"
  },
  "language_info": {
   "codemirror_mode": {
    "name": "ipython",
    "version": 3
   },
   "file_extension": ".py",
   "mimetype": "text/x-python",
   "name": "python",
   "nbconvert_exporter": "python",
   "pygments_lexer": "ipython3",
   "version": "3.6.5"
  }
 },
 "nbformat": 4,
 "nbformat_minor": 2
}
