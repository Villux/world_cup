{
 "cells": [
  {
   "cell_type": "code",
   "execution_count": 1,
   "metadata": {},
   "outputs": [],
   "source": [
    "import pandas as pd\n",
    "import numpy as np\n",
    "from time import time\n",
    "from sklearn.ensemble import RandomForestRegressor\n",
    "from sklearn.model_selection import GridSearchCV\n",
    "\n",
    "import matplotlib.pyplot as plt\n",
    "from IPython.display import set_matplotlib_formats\n",
    "set_matplotlib_formats('svg')\n",
    "%matplotlib inline\n",
    "plt.style.use('ggplot')\n",
    "\n",
    "from features.data_provider import get_train_test_wc_dataset, get_feature_columns, get_whole_dataset"
   ]
  },
  {
   "cell_type": "code",
   "execution_count": 2,
   "metadata": {},
   "outputs": [
    {
     "name": "stdout",
     "output_type": "stream",
     "text": [
      "Dataset length 39008\n",
      "Dataset complete cases length 6676\n",
      "Whole train set length:  5601\n",
      "Whole test set length:  1075\n",
      "Whole WC set length:  128\n"
     ]
    }
   ],
   "source": [
    "X_train, y_train, X_test, y_test, X_wc, y_wc = get_train_test_wc_dataset(\"away_score\")"
   ]
  },
  {
   "cell_type": "code",
   "execution_count": 3,
   "metadata": {
    "scrolled": false
   },
   "outputs": [
    {
     "data": {
      "text/plain": [
       "<matplotlib.axes._subplots.AxesSubplot at 0x1a13369d30>"
      ]
     },
     "execution_count": 3,
     "metadata": {},
     "output_type": "execute_result"
    },
    {
     "data": {
      "text/plain": [
       "<Figure size 1440x432 with 0 Axes>"
      ]
     },
     "metadata": {},
     "output_type": "display_data"
    },
    {
     "data": {
      "image/png": "[encoded data removed]",
      "text/plain": [
       "<Figure size 864x288 with 3 Axes>"
      ]
     },
     "metadata": {},
     "output_type": "display_data"
    }
   ],
   "source": [
    "plt.figure(figsize=(20, 6))\n",
    "fig, axes = plt.subplots(nrows=1, ncols=3, figsize=(12, 4))\n",
    "pd.value_counts(y_train).sort_index().plot.bar(ax=axes[0])\n",
    "pd.value_counts(y_test).sort_index().plot.bar(ax=axes[1])\n",
    "pd.value_counts(y_wc).sort_index().plot.bar(ax=axes[2])"
   ]
  },
  {
   "cell_type": "code",
   "execution_count": 4,
   "metadata": {},
   "outputs": [],
   "source": [
    "def get_feature_importance(clf):\n",
    "    zipped = sorted(zip(get_feature_columns(), clf.feature_importances_), key = lambda t: t[1], reverse=True)\n",
    "    for feature, importance in zipped:\n",
    "        print(f\"{feature}: {importance}\")\n",
    "        \n",
    "def run_grid_search(clf, param_grid, Xtrain, ytrain, Xtest, ytest, X_wc, y_wc, custom_report_for_model=None):\n",
    "    grid_search = GridSearchCV(clf, param_grid=param_grid)\n",
    "    start = time()\n",
    "    grid_search.fit(Xtrain, ytrain)\n",
    "    print(\"TRAIN SET METRICS:\")\n",
    "    print(\"SCORE: \", end='')\n",
    "    y_pred = grid_search.predict(Xtrain)\n",
    "    y_pred = np.around(y_pred)\n",
    "    print(sum(y_pred == ytrain) / len(Xtrain))\n",
    "    print(\"BEST PARAMS: \", grid_search.best_params_)\n",
    "    print()\n",
    "    print()\n",
    "    \n",
    "    print(\"TEST SET METRICS:\")\n",
    "    print(\"SCORE: \", end='')\n",
    "    y_pred = grid_search.predict(Xtest)\n",
    "    y_pred = np.around(y_pred)\n",
    "    print(sum(y_pred == ytest) / len(Xtest))\n",
    "        \n",
    "    print()\n",
    "    print()\n",
    "    print(\"WC SET METRICS:\")\n",
    "    print(\"SCORE: \", end='')\n",
    "    y_pred = grid_search.predict(X_wc)\n",
    "    y_pred = np.around(y_pred)\n",
    "    print(sum(y_pred == y_wc) / len(X_wc))\n",
    "    \n",
    "    print()\n",
    "    print()\n",
    "    if custom_report_for_model:\n",
    "        custom_report_for_model(grid_search.best_estimator_)\n",
    "    return grid_search.best_estimator_"
   ]
  },
  {
   "cell_type": "code",
   "execution_count": 5,
   "metadata": {},
   "outputs": [
    {
     "name": "stdout",
     "output_type": "stream",
     "text": [
      "TRAIN SET METRICS:\n",
      "SCORE: 0.3831458668094983\n",
      "BEST PARAMS:  {'max_depth': 8, 'max_features': 'sqrt', 'min_samples_leaf': 7, 'n_estimators': 1000}\n",
      "\n",
      "\n",
      "TEST SET METRICS:\n",
      "SCORE: 0.3302325581395349\n",
      "\n",
      "\n",
      "WC SET METRICS:\n",
      "SCORE: 0.3828125\n",
      "\n",
      "\n",
      "elo_diff: 0.16591730757029455\n",
      "dribbling_diff: 0.053273506882211226\n",
      "reactions_diff: 0.05127554785115426\n",
      "crossing_diff: 0.049624184699903214\n",
      "potential_diff: 0.04728477117480318\n",
      "rating_diff: 0.04522922871687446\n",
      "ball_control_diff: 0.03614779674651556\n",
      "away_goal_mean: 0.03575750801263113\n",
      "short_passing_diff: 0.03465559844474413\n",
      "away_goals_with_home: 0.03444470968477936\n",
      "long_shots_diff: 0.03333941370648821\n",
      "internationl_repuatiotion_diff: 0.0323513609882013\n",
      "long_passing_diff: 0.026571853805086795\n",
      "home_goal_mean: 0.025581386889972545\n",
      "finishing_diff: 0.025171760708121493\n",
      "fk_accuracy_diff: 0.023682921543448535\n",
      "shot_power_diff: 0.02277836345815777\n",
      "penalties_diff: 0.017138230005720168\n",
      "stamina_diff: 0.015113542743480484\n",
      "standing_tackle_diff: 0.014771936914031605\n",
      "marking_diff: 0.014220338517306043\n",
      "gk_diving_diff: 0.014082195585126361\n",
      "weight_diff: 0.013999862385510384\n",
      "age_diff: 0.013997816553075838\n",
      "gk_kicking_diff: 0.013964891628430239\n",
      "heading_accuracy_diff: 0.013815157588794032\n",
      "height_diff: 0.013323081531707082\n",
      "gk_handling_diff: 0.0132372774782587\n",
      "acceleration_diff: 0.013165264586261343\n",
      "weak_foot_diff: 0.012707033823736513\n",
      "gk_reflexes_diff: 0.012574203328785593\n",
      "goal_diff_with_away: 0.012506176592290452\n",
      "strength_diff: 0.012368854911788671\n",
      "aggression_diff: 0.012241919477460785\n",
      "home_goals_with_away: 0.011945446019064344\n",
      "sprint_speed_diff: 0.01173954944578318\n"
     ]
    }
   ],
   "source": [
    "clf = RandomForestRegressor(oob_score=True, bootstrap=True, n_jobs=-1)\n",
    "\n",
    "param_grid = {\"n_estimators\": [1000],\n",
    "              \"max_depth\": [3,5,8,None],\n",
    "              \"min_samples_leaf\": [1,3,5,7],\n",
    "              \"max_features\": [\"sqrt\"]}\n",
    "best_clf = run_grid_search(clf, param_grid,\n",
    "                             X_train, y_train, \n",
    "                             X_test, y_test, \n",
    "                             X_wc, y_wc,\n",
    "                             custom_report_for_model=get_feature_importance)"
   ]
  }
 ],
 "metadata": {
  "kernelspec": {
   "display_name": "Python 3",
   "language": "python",
   "name": "python3"
  },
  "language_info": {
   "codemirror_mode": {
    "name": "ipython",
    "version": 3
   },
   "file_extension": ".py",
   "mimetype": "text/x-python",
   "name": "python",
   "nbconvert_exporter": "python",
   "pygments_lexer": "ipython3",
   "version": "3.6.5"
  }
 },
 "nbformat": 4,
 "nbformat_minor": 2
}
